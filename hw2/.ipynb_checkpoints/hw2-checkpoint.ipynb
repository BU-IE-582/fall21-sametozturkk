{
 "cells": [
  {
   "cell_type": "code",
   "execution_count": 71,
   "id": "8500dd1d",
   "metadata": {
    "scrolled": true
   },
   "outputs": [
    {
     "name": "stderr",
     "output_type": "stream",
     "text": [
      "Loading required package: data.table\n",
      "Warning message:\n",
      "\"package 'data.table' was built under R version 3.6.2\""
     ]
    }
   ],
   "source": [
    "require(data.table)"
   ]
  },
  {
   "cell_type": "markdown",
   "id": "f82c1549",
   "metadata": {},
   "source": [
    "# Task 1"
   ]
  },
  {
   "cell_type": "markdown",
   "id": "e000d567",
   "metadata": {},
   "source": [
    "In this task, we are asked to perform dimensionality reduction analysis."
   ]
  },
  {
   "cell_type": "code",
   "execution_count": 72,
   "id": "aabb976b",
   "metadata": {
    "scrolled": false
   },
   "outputs": [
    {
     "data": {
      "image/png": "[encoded data removed]",
      "text/plain": [
       "plot without title"
      ]
     },
     "metadata": {},
     "output_type": "display_data"
    }
   ],
   "source": [
    "dat=read.csv(\"IE582_Fall21_HW2_q1_data.csv\",header=T)\n",
    "lev=as.numeric(dat[,3])\n",
    "plot(dat[,1],dat[,2],col=lev,pch=lev,xlab=names(dat)[1],ylab=names(dat)[2])\n",
    "legend(\"topleft\",paste(\"Class\",levels(dat[,3])),col=unique(lev), pch= unique(lev))"
   ]
  },
  {
   "cell_type": "code",
   "execution_count": 73,
   "id": "a6e22a3e",
   "metadata": {
    "scrolled": true
   },
   "outputs": [
    {
     "data": {
      "text/html": [
       "<table>\n",
       "<thead><tr><th scope=col>X1</th><th scope=col>X2</th><th scope=col>class</th></tr></thead>\n",
       "<tbody>\n",
       "\t<tr><td> 0.5694828</td><td> 0.8220033</td><td>a         </td></tr>\n",
       "\t<tr><td> 0.4114692</td><td> 0.9114237</td><td>a         </td></tr>\n",
       "\t<tr><td> 0.4173846</td><td>-0.9087299</td><td>a         </td></tr>\n",
       "\t<tr><td>-0.7918276</td><td> 0.6107447</td><td>a         </td></tr>\n",
       "\t<tr><td>-0.8067767</td><td>-0.5908565</td><td>a         </td></tr>\n",
       "\t<tr><td>-0.7154271</td><td> 0.6986874</td><td>a         </td></tr>\n",
       "</tbody>\n",
       "</table>\n"
      ],
      "text/latex": [
       "\\begin{tabular}{r|lll}\n",
       " X1 & X2 & class\\\\\n",
       "\\hline\n",
       "\t  0.5694828 &  0.8220033 & a         \\\\\n",
       "\t  0.4114692 &  0.9114237 & a         \\\\\n",
       "\t  0.4173846 & -0.9087299 & a         \\\\\n",
       "\t -0.7918276 &  0.6107447 & a         \\\\\n",
       "\t -0.8067767 & -0.5908565 & a         \\\\\n",
       "\t -0.7154271 &  0.6986874 & a         \\\\\n",
       "\\end{tabular}\n"
      ],
      "text/markdown": [
       "\n",
       "| X1 | X2 | class |\n",
       "|---|---|---|\n",
       "|  0.5694828 |  0.8220033 | a          |\n",
       "|  0.4114692 |  0.9114237 | a          |\n",
       "|  0.4173846 | -0.9087299 | a          |\n",
       "| -0.7918276 |  0.6107447 | a          |\n",
       "| -0.8067767 | -0.5908565 | a          |\n",
       "| -0.7154271 |  0.6986874 | a          |\n",
       "\n"
      ],
      "text/plain": [
       "  X1         X2         class\n",
       "1  0.5694828  0.8220033 a    \n",
       "2  0.4114692  0.9114237 a    \n",
       "3  0.4173846 -0.9087299 a    \n",
       "4 -0.7918276  0.6107447 a    \n",
       "5 -0.8067767 -0.5908565 a    \n",
       "6 -0.7154271  0.6986874 a    "
      ]
     },
     "metadata": {},
     "output_type": "display_data"
    }
   ],
   "source": [
    "head(dat)"
   ]
  },
  {
   "cell_type": "markdown",
   "id": "37e9f6e9",
   "metadata": {},
   "source": [
    "## 1.a"
   ]
  },
  {
   "cell_type": "markdown",
   "id": "473e8a1b",
   "metadata": {},
   "source": [
    "* We will perform PCA to reduce the dimensions from 2 to 1. \n",
    "* However, data does not seem linear, so the resulting component may fail to represent whole picture."
   ]
  },
  {
   "cell_type": "code",
   "execution_count": 74,
   "id": "8f1ba930",
   "metadata": {},
   "outputs": [
    {
     "data": {
      "text/plain": [
       "       X1                X2          class \n",
       " Min.   :-2.0000   Min.   :-1.7908   a:99  \n",
       " 1st Qu.:-0.7994   1st Qu.:-0.9445   b:99  \n",
       " Median :-0.2408   Median : 0.2578         \n",
       " Mean   :-0.1147   Mean   : 0.1006         \n",
       " 3rd Qu.: 0.5128   3rd Qu.: 0.9786         \n",
       " Max.   : 1.8671   Max.   : 1.9992         "
      ]
     },
     "metadata": {},
     "output_type": "display_data"
    }
   ],
   "source": [
    "summary(dat)"
   ]
  },
  {
   "cell_type": "code",
   "execution_count": 75,
   "id": "47f25129",
   "metadata": {},
   "outputs": [
    {
     "data": {
      "text/html": [
       "<table>\n",
       "<thead><tr><th></th><th scope=col>X1</th><th scope=col>X2</th></tr></thead>\n",
       "<tbody>\n",
       "\t<tr><th scope=row>X1</th><td>1.0000000000</td><td>0.0008849583</td></tr>\n",
       "\t<tr><th scope=row>X2</th><td>0.0008849583</td><td>1.0000000000</td></tr>\n",
       "</tbody>\n",
       "</table>\n"
      ],
      "text/latex": [
       "\\begin{tabular}{r|ll}\n",
       "  & X1 & X2\\\\\n",
       "\\hline\n",
       "\tX1 & 1.0000000000 & 0.0008849583\\\\\n",
       "\tX2 & 0.0008849583 & 1.0000000000\\\\\n",
       "\\end{tabular}\n"
      ],
      "text/markdown": [
       "\n",
       "| <!--/--> | X1 | X2 |\n",
       "|---|---|---|\n",
       "| X1 | 1.0000000000 | 0.0008849583 |\n",
       "| X2 | 0.0008849583 | 1.0000000000 |\n",
       "\n"
      ],
      "text/plain": [
       "   X1           X2          \n",
       "X1 1.0000000000 0.0008849583\n",
       "X2 0.0008849583 1.0000000000"
      ]
     },
     "metadata": {},
     "output_type": "display_data"
    }
   ],
   "source": [
    "cor(dat[,1:2])"
   ]
  },
  {
   "cell_type": "markdown",
   "id": "5e35a663",
   "metadata": {},
   "source": [
    "* 2 columns does not seem correlated, correlation is necessary for successful PCA."
   ]
  },
  {
   "cell_type": "code",
   "execution_count": 79,
   "id": "b2a9ddf2",
   "metadata": {
    "scrolled": true
   },
   "outputs": [
    {
     "data": {
      "text/plain": [
       "Importance of components:\n",
       "                          Comp.1    Comp.2\n",
       "Standard deviation     1.0004424 0.9995574\n",
       "Proportion of Variance 0.5004425 0.4995575\n",
       "Cumulative Proportion  0.5004425 1.0000000\n",
       "\n",
       "Loadings:\n",
       "   Comp.1 Comp.2\n",
       "X1  0.707  0.707\n",
       "X2  0.707 -0.707"
      ]
     },
     "metadata": {},
     "output_type": "display_data"
    }
   ],
   "source": [
    "pca <- princomp(dat[,1:2], cor=T)\n",
    "summary(pca, loadings=T)"
   ]
  },
  {
   "cell_type": "markdown",
   "id": "191dd9b5",
   "metadata": {},
   "source": [
    "* Here, we see that only 50% (half) of the variation can be represented by Component 1"
   ]
  },
  {
   "cell_type": "code",
   "execution_count": 82,
   "id": "bc04a456",
   "metadata": {},
   "outputs": [],
   "source": [
    "dat= data.table(dat)\n",
    "dat[, prin_comp := 0.707*(dat$X1 + dat$X2)]"
   ]
  },
  {
   "cell_type": "code",
   "execution_count": 83,
   "id": "5e1e2603",
   "metadata": {},
   "outputs": [
    {
     "data": {
      "image/png": "[encoded data removed]",
      "text/plain": [
       "plot without title"
      ]
     },
     "metadata": {},
     "output_type": "display_data"
    }
   ],
   "source": [
    "plot(dat$prin_comp)"
   ]
  },
  {
   "cell_type": "markdown",
   "id": "e1c59ce8",
   "metadata": {},
   "source": [
    "## 1.b"
   ]
  },
  {
   "cell_type": "markdown",
   "id": "eb87b985",
   "metadata": {},
   "source": [
    "* Now, we reduce the number of dimension using MDS\n",
    "* While calculating distance matrix, I used manhattan and euclidean distances"
   ]
  },
  {
   "cell_type": "code",
   "execution_count": 86,
   "id": "ec493c79",
   "metadata": {},
   "outputs": [
    {
     "data": {
      "image/png": "[encoded data removed]",
      "text/plain": [
       "plot without title"
      ]
     },
     "metadata": {},
     "output_type": "display_data"
    }
   ],
   "source": [
    "mds_euclidean = dat[,1:2]\n",
    "d <- dist(mds_euclidean, method = \"euclidean\") \n",
    "fit <- cmdscale(d,eig=TRUE, k=1)\n",
    "plot(fit$points)"
   ]
  },
  {
   "cell_type": "code",
   "execution_count": 87,
   "id": "095488ae",
   "metadata": {},
   "outputs": [
    {
     "data": {
      "image/png": "[encoded data removed]",
      "text/plain": [
       "plot without title"
      ]
     },
     "metadata": {},
     "output_type": "display_data"
    }
   ],
   "source": [
    "mds_manhattan = dat[,1:2]\n",
    "d <- dist(mds_manhattan, method = \"manhattan\") \n",
    "fit <- cmdscale(d,eig=TRUE, k=1)\n",
    "plot(fit$points)"
   ]
  },
  {
   "cell_type": "markdown",
   "id": "7e18e787",
   "metadata": {},
   "source": [
    "## 1.c"
   ]
  },
  {
   "cell_type": "markdown",
   "id": "4b6592e1",
   "metadata": {},
   "source": [
    "* From PCA's plot I see that first 100 points are randomly located around a middle point. Next 100 points are also similarly around a point with a higher variance. \n",
    "* It provides a rough information about the data, however it fails to explain most of the shape."
   ]
  },
  {
   "cell_type": "markdown",
   "id": "abba391c",
   "metadata": {},
   "source": [
    "* It seems like that MDS is separating points into 4 classes: 1 unit forward, 1 unit backward, 2 unit forward or 2 unit backward the middle point.\n",
    "* Variation on the first and second 100 data points is similar to PCA.\n",
    "* Looking at the original plot I can say that this is providing a meaningful information. \n",
    "* In addition to PCA we may infer that there is no point in middle. (PCA fails here, probably because the data is nonlinear.)"
   ]
  },
  {
   "cell_type": "markdown",
   "id": "97a2b377",
   "metadata": {},
   "source": [
    "* Using Manhattan distances, MDS distinguishes some points better, the points above 2 on the scatter plot.\n",
    "* This is because the red points on top at the original plot are not circularly rotated around origin. Using Euclidean distances, MDS fails a little to assign similar values to these points."
   ]
  },
  {
   "cell_type": "markdown",
   "id": "d6e6a16e",
   "metadata": {},
   "source": [
    "## 1.d"
   ]
  },
  {
   "cell_type": "markdown",
   "id": "e121d51f",
   "metadata": {},
   "source": [
    "* We add some new features and apply PCA again."
   ]
  },
  {
   "cell_type": "code",
   "execution_count": 88,
   "id": "e8176038",
   "metadata": {},
   "outputs": [],
   "source": [
    "enriched = dat[,1:2]\n",
    "enriched[, X1_sqr := enriched$X1*enriched$X1]\n",
    "enriched[, X2_sqr := enriched$X2*enriched$X2]\n",
    "enriched[, X1_X2 := enriched$X1*enriched$X2]"
   ]
  },
  {
   "cell_type": "code",
   "execution_count": 89,
   "id": "fa5d364b",
   "metadata": {},
   "outputs": [
    {
     "data": {
      "text/plain": [
       "       X1                X2              X1_sqr             X2_sqr      \n",
       " Min.   :-2.0000   Min.   :-1.7908   Min.   :0.003305   Min.   :0.0000  \n",
       " 1st Qu.:-0.7994   1st Qu.:-0.9445   1st Qu.:0.249322   1st Qu.:0.6560  \n",
       " Median :-0.2408   Median : 0.2578   Median :0.457800   Median :0.8974  \n",
       " Mean   :-0.1147   Mean   : 0.1006   Mean   :0.708035   Mean   :1.7920  \n",
       " 3rd Qu.: 0.5128   3rd Qu.: 0.9786   3rd Qu.:0.812388   3rd Qu.:3.2030  \n",
       " Max.   : 1.8671   Max.   : 1.9992   Max.   :4.000000   Max.   :3.9967  \n",
       "     X1_X2         \n",
       " Min.   :-1.99945  \n",
       " 1st Qu.:-0.49940  \n",
       " Median :-0.30717  \n",
       " Mean   :-0.01055  \n",
       " 3rd Qu.: 0.49849  \n",
       " Max.   : 1.99978  "
      ]
     },
     "metadata": {},
     "output_type": "display_data"
    }
   ],
   "source": [
    "summary(enriched)"
   ]
  },
  {
   "cell_type": "code",
   "execution_count": 90,
   "id": "2e4b9909",
   "metadata": {},
   "outputs": [
    {
     "data": {
      "text/html": [
       "<table>\n",
       "<thead><tr><th></th><th scope=col>X1</th><th scope=col>X2</th><th scope=col>X1_sqr</th><th scope=col>X2_sqr</th><th scope=col>X1_X2</th></tr></thead>\n",
       "<tbody>\n",
       "\t<tr><th scope=row>X1</th><td> 1.0000000000</td><td> 0.0008849583</td><td>-0.21732096  </td><td> 0.110299430 </td><td>-0.418221702 </td></tr>\n",
       "\t<tr><th scope=row>X2</th><td> 0.0008849583</td><td> 1.0000000000</td><td>-0.46385646  </td><td> 0.337210928 </td><td>-0.054897012 </td></tr>\n",
       "\t<tr><th scope=row>X1_sqr</th><td>-0.2173209550</td><td>-0.4638564555</td><td> 1.00000000  </td><td>-0.047837447 </td><td> 0.086866167 </td></tr>\n",
       "\t<tr><th scope=row>X2_sqr</th><td> 0.1102994296</td><td> 0.3372109275</td><td>-0.04783745  </td><td> 1.000000000 </td><td> 0.003243515 </td></tr>\n",
       "\t<tr><th scope=row>X1_X2</th><td>-0.4182217020</td><td>-0.0548970116</td><td> 0.08686617  </td><td> 0.003243515 </td><td> 1.000000000 </td></tr>\n",
       "</tbody>\n",
       "</table>\n"
      ],
      "text/latex": [
       "\\begin{tabular}{r|lllll}\n",
       "  & X1 & X2 & X1\\_sqr & X2\\_sqr & X1\\_X2\\\\\n",
       "\\hline\n",
       "\tX1 &  1.0000000000 &  0.0008849583 & -0.21732096   &  0.110299430  & -0.418221702 \\\\\n",
       "\tX2 &  0.0008849583 &  1.0000000000 & -0.46385646   &  0.337210928  & -0.054897012 \\\\\n",
       "\tX1\\_sqr & -0.2173209550 & -0.4638564555 &  1.00000000   & -0.047837447  &  0.086866167 \\\\\n",
       "\tX2\\_sqr &  0.1102994296 &  0.3372109275 & -0.04783745   &  1.000000000  &  0.003243515 \\\\\n",
       "\tX1\\_X2 & -0.4182217020 & -0.0548970116 &  0.08686617   &  0.003243515  &  1.000000000 \\\\\n",
       "\\end{tabular}\n"
      ],
      "text/markdown": [
       "\n",
       "| <!--/--> | X1 | X2 | X1_sqr | X2_sqr | X1_X2 |\n",
       "|---|---|---|---|---|---|\n",
       "| X1 |  1.0000000000 |  0.0008849583 | -0.21732096   |  0.110299430  | -0.418221702  |\n",
       "| X2 |  0.0008849583 |  1.0000000000 | -0.46385646   |  0.337210928  | -0.054897012  |\n",
       "| X1_sqr | -0.2173209550 | -0.4638564555 |  1.00000000   | -0.047837447  |  0.086866167  |\n",
       "| X2_sqr |  0.1102994296 |  0.3372109275 | -0.04783745   |  1.000000000  |  0.003243515  |\n",
       "| X1_X2 | -0.4182217020 | -0.0548970116 |  0.08686617   |  0.003243515  |  1.000000000  |\n",
       "\n"
      ],
      "text/plain": [
       "       X1            X2            X1_sqr      X2_sqr       X1_X2       \n",
       "X1      1.0000000000  0.0008849583 -0.21732096  0.110299430 -0.418221702\n",
       "X2      0.0008849583  1.0000000000 -0.46385646  0.337210928 -0.054897012\n",
       "X1_sqr -0.2173209550 -0.4638564555  1.00000000 -0.047837447  0.086866167\n",
       "X2_sqr  0.1102994296  0.3372109275 -0.04783745  1.000000000  0.003243515\n",
       "X1_X2  -0.4182217020 -0.0548970116  0.08686617  0.003243515  1.000000000"
      ]
     },
     "metadata": {},
     "output_type": "display_data"
    }
   ],
   "source": [
    "cor(enriched)"
   ]
  },
  {
   "cell_type": "code",
   "execution_count": 91,
   "id": "4a4b7301",
   "metadata": {},
   "outputs": [
    {
     "data": {
      "text/plain": [
       "Importance of components:\n",
       "                          Comp.1    Comp.2    Comp.3    Comp.4     Comp.5\n",
       "Standard deviation     1.3114557 1.1508988 0.9723549 0.7988684 0.60979578\n",
       "Proportion of Variance 0.3439832 0.2649136 0.1890948 0.1276382 0.07437018\n",
       "Cumulative Proportion  0.3439832 0.6088968 0.7979917 0.9256298 1.00000000\n",
       "\n",
       "Loadings:\n",
       "       Comp.1 Comp.2 Comp.3 Comp.4 Comp.5\n",
       "X1      0.419  0.556  0.128  0.571  0.415\n",
       "X2      0.538 -0.454        -0.368  0.600\n",
       "X1_sqr -0.539  0.162  0.578 -0.273  0.524\n",
       "X2_sqr  0.351 -0.313  0.797  0.127 -0.356\n",
       "X1_X2  -0.348 -0.600         0.669  0.258"
      ]
     },
     "metadata": {},
     "output_type": "display_data"
    }
   ],
   "source": [
    "pca_new <- princomp(enriched, cor=T)\n",
    "summary(pca_new, loadings=T)"
   ]
  },
  {
   "cell_type": "code",
   "execution_count": 96,
   "id": "4f1a1e64",
   "metadata": {},
   "outputs": [
    {
     "data": {
      "text/html": [
       "<dl class=dl-horizontal>\n",
       "\t<dt>Comp.1</dt>\n",
       "\t\t<dd>1.71991603348419</dd>\n",
       "\t<dt>Comp.2</dt>\n",
       "\t\t<dd>1.32456812533664</dd>\n",
       "\t<dt>Comp.3</dt>\n",
       "\t\t<dd>0.945474145485473</dd>\n",
       "\t<dt>Comp.4</dt>\n",
       "\t\t<dd>0.638190796342201</dd>\n",
       "\t<dt>Comp.5</dt>\n",
       "\t\t<dd>0.371850899351495</dd>\n",
       "</dl>\n"
      ],
      "text/latex": [
       "\\begin{description*}\n",
       "\\item[Comp.1] 1.71991603348419\n",
       "\\item[Comp.2] 1.32456812533664\n",
       "\\item[Comp.3] 0.945474145485473\n",
       "\\item[Comp.4] 0.638190796342201\n",
       "\\item[Comp.5] 0.371850899351495\n",
       "\\end{description*}\n"
      ],
      "text/markdown": [
       "Comp.1\n",
       ":   1.71991603348419Comp.2\n",
       ":   1.32456812533664Comp.3\n",
       ":   0.945474145485473Comp.4\n",
       ":   0.638190796342201Comp.5\n",
       ":   0.371850899351495\n",
       "\n"
      ],
      "text/plain": [
       "   Comp.1    Comp.2    Comp.3    Comp.4    Comp.5 \n",
       "1.7199160 1.3245681 0.9454741 0.6381908 0.3718509 "
      ]
     },
     "metadata": {},
     "output_type": "display_data"
    }
   ],
   "source": [
    "#Eigenvalues\n",
    "pca_new$sd^2"
   ]
  },
  {
   "cell_type": "markdown",
   "id": "08599bd8",
   "metadata": {},
   "source": [
    "* First 3 component covers nearly 80% of the variation and first 4 covers nearly 93% of the variation. 3 or 4 components may represent most of the variation.\n",
    "* First 2-3 eigenvalues are high where last 2 are relatively smaller. Especially the third is too small. We can see that the last 1-2 component may not contribute too much to define the variation in the data since the variance in that direction is small."
   ]
  },
  {
   "cell_type": "markdown",
   "id": "6c712b92",
   "metadata": {},
   "source": [
    "# Task 2"
   ]
  },
  {
   "cell_type": "markdown",
   "id": "e4651e3f",
   "metadata": {},
   "source": [
    "* We will construct Turkey map using distances between cities\n",
    "* I rearranged xls file, removed redundant columns and prepared a csv to use in this task.\n",
    "* In code, I filled the distance from the a city to itself with zeros.\n",
    "* To make the distance matrix symmetric, I copied lower triangle of the matrix to the upper."
   ]
  },
  {
   "cell_type": "code",
   "execution_count": 51,
   "id": "d652dd91",
   "metadata": {
    "scrolled": true
   },
   "outputs": [],
   "source": [
    "distance_matrix = read.csv(\"ilmesafe_modified.csv\", row.names=1, encoding = \"UTF-8\")\n",
    "distance_matrix[is.na(distance_matrix)]<-0"
   ]
  },
  {
   "cell_type": "code",
   "execution_count": 52,
   "id": "b9445c5a",
   "metadata": {},
   "outputs": [],
   "source": [
    "for(i in 1:81){for(j in 1:81){if(i<j){\n",
    "distance_matrix[i,j] = distance_matrix[j,i] }}}"
   ]
  },
  {
   "cell_type": "code",
   "execution_count": 54,
   "id": "450f563c",
   "metadata": {},
   "outputs": [],
   "source": [
    "mds_tr <- cmdscale(distance_matrix, eig=TRUE, k=2)"
   ]
  },
  {
   "cell_type": "code",
   "execution_count": 56,
   "id": "a408f330",
   "metadata": {
    "scrolled": false
   },
   "outputs": [
    {
     "data": {
      "image/png": "[encoded data removed]",
      "text/plain": [
       "plot without title"
      ]
     },
     "metadata": {},
     "output_type": "display_data"
    }
   ],
   "source": [
    "tr = mds_tr$points\n",
    "plot(tr)\n",
    "text(tr, labels=rownames(fit$points), pos = 4, cex = 0.5)"
   ]
  },
  {
   "attachments": {},
   "cell_type": "markdown",
   "id": "9115a8f8",
   "metadata": {},
   "source": [
    "* Most cities are somewhere around the spot they actually are located at.\n",
    "* Antalya seems far outside, probably because the roads to Antalya has a lot of turns and the road is longer that actual distance. There are similar cases.\n",
    "* Cities having direct road seems closer here. Konya and Antalya looks too far in that map, however, they are closer geographically. "
   ]
  },
  {
   "cell_type": "markdown",
   "id": "30142366",
   "metadata": {},
   "source": [
    "# Task 3"
   ]
  },
  {
   "cell_type": "markdown",
   "id": "036e7d61",
   "metadata": {},
   "source": [
    "* We are asked to perform PCA on time series data.\n",
    "* We will work on gesture acceleration data.\n",
    "* From acceleration data, position data is created."
   ]
  },
  {
   "cell_type": "code",
   "execution_count": 21,
   "id": "5866f49f",
   "metadata": {},
   "outputs": [
    {
     "name": "stderr",
     "output_type": "stream",
     "text": [
      "Installing package into 'C:/Users/samet.ozturk/Documents/R/win-library/3.6'\n",
      "(as 'lib' is unspecified)\n"
     ]
    },
    {
     "name": "stdout",
     "output_type": "stream",
     "text": [
      "package 'scatterplot3d' successfully unpacked and MD5 sums checked\n",
      "\n",
      "The downloaded binary packages are in\n",
      "\tC:\\Users\\samet.ozturk\\AppData\\Local\\Temp\\Rtmp4sS3V9\\downloaded_packages\n"
     ]
    }
   ],
   "source": [
    "install.packages(\"scatterplot3d\") # Install\n",
    "library(\"scatterplot3d\") # load"
   ]
  },
  {
   "cell_type": "code",
   "execution_count": 22,
   "id": "95b824d5",
   "metadata": {
    "scrolled": true
   },
   "outputs": [],
   "source": [
    "x_train = read.table(\"uWaveGestureLibrary_X_TRAIN\")\n",
    "y_train = read.table(\"uWaveGestureLibrary_Y_TRAIN\")\n",
    "z_train = read.table(\"uWaveGestureLibrary_Z_TRAIN\")"
   ]
  },
  {
   "cell_type": "code",
   "execution_count": 99,
   "id": "787d8e63",
   "metadata": {
    "scrolled": true
   },
   "outputs": [],
   "source": [
    "class = x_train[,1]\n",
    "\n",
    "x_velocity = apply(t(x_train[,-1]), 2, cumsum)\n",
    "x_position = apply(x_velocity, 2, cumsum)\n",
    "x_position = t(x_position)\n",
    "\n",
    "y_velocity = apply(t(y_train[,-1]), 2, cumsum)\n",
    "y_position = apply(y_velocity, 2, cumsum)\n",
    "y_position = t(y_position)\n",
    "\n",
    "z_velocity = apply(t(z_train[,-1]), 2, cumsum)\n",
    "z_position = apply(z_velocity, 2, cumsum)\n",
    "z_position = t(z_position)"
   ]
  },
  {
   "cell_type": "markdown",
   "id": "4be1c245",
   "metadata": {},
   "source": [
    "# 3.a)"
   ]
  },
  {
   "cell_type": "markdown",
   "id": "b2d09ede",
   "metadata": {},
   "source": [
    "* To understand better, we will visualize one time series instance from each class.\n",
    "* c = class selected for the plot"
   ]
  },
  {
   "cell_type": "code",
   "execution_count": 198,
   "id": "6cb872a8",
   "metadata": {
    "scrolled": false
   },
   "outputs": [
    {
     "data": {
      "image/png": "[encoded data removed]",
      "text/plain": [
       "plot without title"
      ]
     },
     "metadata": {},
     "output_type": "display_data"
    }
   ],
   "source": [
    "c <- 1\n",
    "instance <- cbind(x_position[class==c,][1,], y_position[class==c,][1,], z_position[class==c,][1,])\n",
    "scatterplot3d(instance)"
   ]
  },
  {
   "cell_type": "markdown",
   "id": "82bbd40b",
   "metadata": {},
   "source": [
    "* Looks like gesture 1"
   ]
  },
  {
   "cell_type": "code",
   "execution_count": 26,
   "id": "3408c429",
   "metadata": {},
   "outputs": [
    {
     "data": {
      "image/png": "[encoded data removed]",
      "text/plain": [
       "plot without title"
      ]
     },
     "metadata": {},
     "output_type": "display_data"
    }
   ],
   "source": [
    "c <- 2\n",
    "instance <- cbind(x_position[class==c,][1,], y_position[class==c,][1,], z_position[class==c,][1,])\n",
    "scatterplot3d(instance)"
   ]
  },
  {
   "cell_type": "markdown",
   "id": "87d150b8",
   "metadata": {},
   "source": [
    "* Looks like gesture 2 but not sure."
   ]
  },
  {
   "cell_type": "code",
   "execution_count": 28,
   "id": "f671071e",
   "metadata": {},
   "outputs": [
    {
     "data": {
      "image/png": "[encoded data removed]",
      "text/plain": [
       "plot without title"
      ]
     },
     "metadata": {},
     "output_type": "display_data"
    }
   ],
   "source": [
    "c <- 3\n",
    "instance <- cbind(x_position[class==c,][1,], y_position[class==c,][1,], z_position[class==c,][1,])\n",
    "scatterplot3d(instance)"
   ]
  },
  {
   "cell_type": "markdown",
   "id": "5008b2b1",
   "metadata": {},
   "source": [
    "* Depending on the perspective, this may look like moost of the gestures. But I guess it is 3"
   ]
  },
  {
   "cell_type": "code",
   "execution_count": 29,
   "id": "942fb176",
   "metadata": {},
   "outputs": [
    {
     "data": {
      "image/png": "[encoded data removed]",
      "text/plain": [
       "plot without title"
      ]
     },
     "metadata": {},
     "output_type": "display_data"
    }
   ],
   "source": [
    "c <- 4\n",
    "instance <- cbind(x_position[class==c,][1,], y_position[class==c,][1,], z_position[class==c,][1,])\n",
    "scatterplot3d(instance)"
   ]
  },
  {
   "cell_type": "markdown",
   "id": "aa2f51d6",
   "metadata": {},
   "source": [
    "* Point of view may make a difference on understanding the gesture. I guess they are in order given in the task."
   ]
  },
  {
   "cell_type": "code",
   "execution_count": 30,
   "id": "13d2b6e5",
   "metadata": {},
   "outputs": [
    {
     "data": {
      "image/png": "[encoded data removed]",
      "text/plain": [
       "plot without title"
      ]
     },
     "metadata": {},
     "output_type": "display_data"
    }
   ],
   "source": [
    "c <- 5\n",
    "instance <- cbind(x_position[class==c,][1,], y_position[class==c,][1,], z_position[class==c,][1,])\n",
    "scatterplot3d(instance)"
   ]
  },
  {
   "cell_type": "code",
   "execution_count": 31,
   "id": "8ed7bccb",
   "metadata": {},
   "outputs": [
    {
     "data": {
      "image/png": "[encoded data removed]",
      "text/plain": [
       "plot without title"
      ]
     },
     "metadata": {},
     "output_type": "display_data"
    }
   ],
   "source": [
    "c <- 6\n",
    "instance <- cbind(x_position[class==c,][1,], y_position[class==c,][1,], z_position[class==c,][1,])\n",
    "scatterplot3d(instance)"
   ]
  },
  {
   "cell_type": "code",
   "execution_count": 32,
   "id": "d2f24c7a",
   "metadata": {},
   "outputs": [
    {
     "data": {
      "image/png": "[encoded data removed]",
      "text/plain": [
       "plot without title"
      ]
     },
     "metadata": {},
     "output_type": "display_data"
    }
   ],
   "source": [
    "c <- 7\n",
    "instance <- cbind(x_position[class==c,][1,], y_position[class==c,][1,], z_position[class==c,][1,])\n",
    "scatterplot3d(instance)"
   ]
  },
  {
   "cell_type": "code",
   "execution_count": 33,
   "id": "d0926295",
   "metadata": {},
   "outputs": [
    {
     "data": {
      "image/png": "[encoded data removed]",
      "text/plain": [
       "plot without title"
      ]
     },
     "metadata": {},
     "output_type": "display_data"
    }
   ],
   "source": [
    "c <- 8\n",
    "instance <- cbind(x_position[class==c,][1,], y_position[class==c,][1,], z_position[class==c,][1,])\n",
    "scatterplot3d(instance)"
   ]
  },
  {
   "cell_type": "markdown",
   "id": "e2f62cb3",
   "metadata": {},
   "source": [
    "## 3.b"
   ]
  },
  {
   "cell_type": "code",
   "execution_count": 176,
   "id": "af78bb80",
   "metadata": {},
   "outputs": [],
   "source": [
    "concat <- cbind(x_position, y_position, z_position)"
   ]
  },
  {
   "cell_type": "code",
   "execution_count": 177,
   "id": "75a25ae4",
   "metadata": {
    "scrolled": true
   },
   "outputs": [
    {
     "data": {
      "text/html": [
       "<table>\n",
       "<thead><tr><th scope=col>V2</th><th scope=col>V3</th><th scope=col>V4</th><th scope=col>V5</th><th scope=col>V6</th><th scope=col>V7</th><th scope=col>V8</th><th scope=col>V9</th><th scope=col>V10</th><th scope=col>V11</th><th scope=col>...</th><th scope=col>V307</th><th scope=col>V308</th><th scope=col>V309</th><th scope=col>V310</th><th scope=col>V311</th><th scope=col>V312</th><th scope=col>V313</th><th scope=col>V314</th><th scope=col>V315</th><th scope=col>V316</th></tr></thead>\n",
       "<tbody>\n",
       "\t<tr><td>-0.304243210</td><td>-0.91272963 </td><td>-1.82545926 </td><td>-3.04243210 </td><td>-4.56364815 </td><td> -6.3891074 </td><td> -8.518810  </td><td>-10.9527556 </td><td>-13.6909444 </td><td>-16.7333765 </td><td>...         </td><td>-22393.514  </td><td>-22397.081  </td><td>-22400.144  </td><td>-22402.714  </td><td>-22404.810  </td><td>-22406.450  </td><td>-22407.652  </td><td>-22408.435  </td><td>-22408.818  </td><td>-22408.818  </td></tr>\n",
       "\t<tr><td> 1.627311100</td><td> 4.88193330 </td><td> 9.76386660 </td><td>16.27311100 </td><td>24.40966650 </td><td> 34.1735331 </td><td> 45.564711  </td><td> 58.5831996 </td><td> 73.2289995 </td><td> 89.5021105 </td><td>...         </td><td> 21466.255  </td><td> 21469.861  </td><td> 21473.040  </td><td> 21475.792  </td><td> 21478.115  </td><td> 21479.997  </td><td> 21481.427  </td><td> 21482.392  </td><td> 21482.880  </td><td> 21482.880  </td></tr>\n",
       "\t<tr><td> 0.661276530</td><td> 1.98382959 </td><td> 3.96765918 </td><td> 6.61276530 </td><td> 9.91914795 </td><td> 13.8868071 </td><td> 18.515743  </td><td> 23.8059551 </td><td> 29.7574438 </td><td> 36.3702092 </td><td>...         </td><td> 23633.048  </td><td> 23639.950  </td><td> 23645.989  </td><td> 23651.165  </td><td> 23655.479  </td><td> 23658.930  </td><td> 23661.518  </td><td> 23663.243  </td><td> 23664.106  </td><td> 23664.106  </td></tr>\n",
       "\t<tr><td> 0.005184784</td><td> 0.01555435 </td><td> 0.03110871 </td><td> 0.05184784 </td><td> 0.07777177 </td><td>  0.1088805 </td><td>  0.145174  </td><td>  0.1866522 </td><td>  0.2333153 </td><td>  0.2851631 </td><td>...         </td><td>  5382.058  </td><td>  5379.667  </td><td>  5377.219  </td><td>  5374.783  </td><td>  5372.426  </td><td>  5370.227  </td><td>  5368.282  </td><td>  5366.781  </td><td>  5365.930  </td><td>  5365.930  </td></tr>\n",
       "\t<tr><td> 1.286197800</td><td> 3.85859340 </td><td> 7.71718680 </td><td>12.86197800 </td><td>19.29296700 </td><td> 27.0101538 </td><td> 36.013538  </td><td> 46.3031208 </td><td> 57.8789010 </td><td> 70.7408790 </td><td>...         </td><td>-16912.339  </td><td>-16925.473  </td><td>-16936.852  </td><td>-16946.591  </td><td>-16954.810  </td><td>-16961.576  </td><td>-16966.826  </td><td>-16970.443  </td><td>-16972.311  </td><td>-16972.311  </td></tr>\n",
       "\t<tr><td>-0.479252460</td><td>-1.43775738 </td><td>-2.87551476 </td><td>-4.79252460 </td><td>-7.18878690 </td><td>-10.0643017 </td><td>-13.419069  </td><td>-17.2530886 </td><td>-21.5663607 </td><td>-26.3588853 </td><td>...         </td><td>  8727.600  </td><td>  8723.712  </td><td>  8720.457  </td><td>  8717.802  </td><td>  8715.706  </td><td>  8714.127  </td><td>  8713.016  </td><td>  8712.324  </td><td>  8712.002  </td><td>  8712.002  </td></tr>\n",
       "</tbody>\n",
       "</table>\n"
      ],
      "text/latex": [
       "\\begin{tabular}{lllllllllllllllllllllllllllllllllllllllllllllllllllllllllllllllllllllllllllllllllllllllllllllllllllllllllllllllllllllllllllllllllllllllllllllllllllllllllllllllllllllllllllllllllllllllllllllllllllllllllllllllllllllllllllllllllllllllllllllllllllllllllllllllllllllllllllllllllllllllllllllllllllllllllllllllllllllllllllllllllllllllllllllllllllllllllllllllllllllllllllllllllllllllllllllllllllllllllllllllllllllllllllllllllllllllllllllllllllllllllllllllllllllllllllllllllllllllllllllllllllllllllllllllllllllllllllllllllllllllllllllllllllllllllllllllllllllllllllllllllllllllllllllllllllllllllllllllllllllllllllllllllllllllllllllllllllllllllllllllllllllllllllllllllllllllllllllllllllllllllllllllllllllllllllllllllllllllllllllllllllllllllllllllllllllllllllllllllllllllllllllllllllllllllllllllllllllllllllllllllllllllllllllllllllllllllllllllllllllllllllllllllllllllllllllllllllllllllllllllllllllllllllllllllllllllllllllllllllllllllllllllllllllllllllllllll}\n",
       " V2 & V3 & V4 & V5 & V6 & V7 & V8 & V9 & V10 & V11 & ... & V307 & V308 & V309 & V310 & V311 & V312 & V313 & V314 & V315 & V316\\\\\n",
       "\\hline\n",
       "\t -0.304243210 & -0.91272963  & -1.82545926  & -3.04243210  & -4.56364815  &  -6.3891074  &  -8.518810   & -10.9527556  & -13.6909444  & -16.7333765  & ...          & -22393.514   & -22397.081   & -22400.144   & -22402.714   & -22404.810   & -22406.450   & -22407.652   & -22408.435   & -22408.818   & -22408.818  \\\\\n",
       "\t  1.627311100 &  4.88193330  &  9.76386660  & 16.27311100  & 24.40966650  &  34.1735331  &  45.564711   &  58.5831996  &  73.2289995  &  89.5021105  & ...          &  21466.255   &  21469.861   &  21473.040   &  21475.792   &  21478.115   &  21479.997   &  21481.427   &  21482.392   &  21482.880   &  21482.880  \\\\\n",
       "\t  0.661276530 &  1.98382959  &  3.96765918  &  6.61276530  &  9.91914795  &  13.8868071  &  18.515743   &  23.8059551  &  29.7574438  &  36.3702092  & ...          &  23633.048   &  23639.950   &  23645.989   &  23651.165   &  23655.479   &  23658.930   &  23661.518   &  23663.243   &  23664.106   &  23664.106  \\\\\n",
       "\t  0.005184784 &  0.01555435  &  0.03110871  &  0.05184784  &  0.07777177  &   0.1088805  &   0.145174   &   0.1866522  &   0.2333153  &   0.2851631  & ...          &   5382.058   &   5379.667   &   5377.219   &   5374.783   &   5372.426   &   5370.227   &   5368.282   &   5366.781   &   5365.930   &   5365.930  \\\\\n",
       "\t  1.286197800 &  3.85859340  &  7.71718680  & 12.86197800  & 19.29296700  &  27.0101538  &  36.013538   &  46.3031208  &  57.8789010  &  70.7408790  & ...          & -16912.339   & -16925.473   & -16936.852   & -16946.591   & -16954.810   & -16961.576   & -16966.826   & -16970.443   & -16972.311   & -16972.311  \\\\\n",
       "\t -0.479252460 & -1.43775738  & -2.87551476  & -4.79252460  & -7.18878690  & -10.0643017  & -13.419069   & -17.2530886  & -21.5663607  & -26.3588853  & ...          &   8727.600   &   8723.712   &   8720.457   &   8717.802   &   8715.706   &   8714.127   &   8713.016   &   8712.324   &   8712.002   &   8712.002  \\\\\n",
       "\\end{tabular}\n"
      ],
      "text/markdown": [
       "\n",
       "| V2 | V3 | V4 | V5 | V6 | V7 | V8 | V9 | V10 | V11 | ... | V307 | V308 | V309 | V310 | V311 | V312 | V313 | V314 | V315 | V316 |\n",
       "|---|---|---|---|---|---|---|---|---|---|---|---|---|---|---|---|---|---|---|---|---|\n",
       "| -0.304243210 | -0.91272963  | -1.82545926  | -3.04243210  | -4.56364815  |  -6.3891074  |  -8.518810   | -10.9527556  | -13.6909444  | -16.7333765  | ...          | -22393.514   | -22397.081   | -22400.144   | -22402.714   | -22404.810   | -22406.450   | -22407.652   | -22408.435   | -22408.818   | -22408.818   |\n",
       "|  1.627311100 |  4.88193330  |  9.76386660  | 16.27311100  | 24.40966650  |  34.1735331  |  45.564711   |  58.5831996  |  73.2289995  |  89.5021105  | ...          |  21466.255   |  21469.861   |  21473.040   |  21475.792   |  21478.115   |  21479.997   |  21481.427   |  21482.392   |  21482.880   |  21482.880   |\n",
       "|  0.661276530 |  1.98382959  |  3.96765918  |  6.61276530  |  9.91914795  |  13.8868071  |  18.515743   |  23.8059551  |  29.7574438  |  36.3702092  | ...          |  23633.048   |  23639.950   |  23645.989   |  23651.165   |  23655.479   |  23658.930   |  23661.518   |  23663.243   |  23664.106   |  23664.106   |\n",
       "|  0.005184784 |  0.01555435  |  0.03110871  |  0.05184784  |  0.07777177  |   0.1088805  |   0.145174   |   0.1866522  |   0.2333153  |   0.2851631  | ...          |   5382.058   |   5379.667   |   5377.219   |   5374.783   |   5372.426   |   5370.227   |   5368.282   |   5366.781   |   5365.930   |   5365.930   |\n",
       "|  1.286197800 |  3.85859340  |  7.71718680  | 12.86197800  | 19.29296700  |  27.0101538  |  36.013538   |  46.3031208  |  57.8789010  |  70.7408790  | ...          | -16912.339   | -16925.473   | -16936.852   | -16946.591   | -16954.810   | -16961.576   | -16966.826   | -16970.443   | -16972.311   | -16972.311   |\n",
       "| -0.479252460 | -1.43775738  | -2.87551476  | -4.79252460  | -7.18878690  | -10.0643017  | -13.419069   | -17.2530886  | -21.5663607  | -26.3588853  | ...          |   8727.600   |   8723.712   |   8720.457   |   8717.802   |   8715.706   |   8714.127   |   8713.016   |   8712.324   |   8712.002   |   8712.002   |\n",
       "\n"
      ],
      "text/plain": [
       "     V2           V3          V4          V5          V6          V7         \n",
       "[1,] -0.304243210 -0.91272963 -1.82545926 -3.04243210 -4.56364815  -6.3891074\n",
       "[2,]  1.627311100  4.88193330  9.76386660 16.27311100 24.40966650  34.1735331\n",
       "[3,]  0.661276530  1.98382959  3.96765918  6.61276530  9.91914795  13.8868071\n",
       "[4,]  0.005184784  0.01555435  0.03110871  0.05184784  0.07777177   0.1088805\n",
       "[5,]  1.286197800  3.85859340  7.71718680 12.86197800 19.29296700  27.0101538\n",
       "[6,] -0.479252460 -1.43775738 -2.87551476 -4.79252460 -7.18878690 -10.0643017\n",
       "     V8         V9          V10         V11         ... V307       V308      \n",
       "[1,]  -8.518810 -10.9527556 -13.6909444 -16.7333765 ... -22393.514 -22397.081\n",
       "[2,]  45.564711  58.5831996  73.2289995  89.5021105 ...  21466.255  21469.861\n",
       "[3,]  18.515743  23.8059551  29.7574438  36.3702092 ...  23633.048  23639.950\n",
       "[4,]   0.145174   0.1866522   0.2333153   0.2851631 ...   5382.058   5379.667\n",
       "[5,]  36.013538  46.3031208  57.8789010  70.7408790 ... -16912.339 -16925.473\n",
       "[6,] -13.419069 -17.2530886 -21.5663607 -26.3588853 ...   8727.600   8723.712\n",
       "     V309       V310       V311       V312       V313       V314      \n",
       "[1,] -22400.144 -22402.714 -22404.810 -22406.450 -22407.652 -22408.435\n",
       "[2,]  21473.040  21475.792  21478.115  21479.997  21481.427  21482.392\n",
       "[3,]  23645.989  23651.165  23655.479  23658.930  23661.518  23663.243\n",
       "[4,]   5377.219   5374.783   5372.426   5370.227   5368.282   5366.781\n",
       "[5,] -16936.852 -16946.591 -16954.810 -16961.576 -16966.826 -16970.443\n",
       "[6,]   8720.457   8717.802   8715.706   8714.127   8713.016   8712.324\n",
       "     V315       V316      \n",
       "[1,] -22408.818 -22408.818\n",
       "[2,]  21482.880  21482.880\n",
       "[3,]  23664.106  23664.106\n",
       "[4,]   5365.930   5365.930\n",
       "[5,] -16972.311 -16972.311\n",
       "[6,]   8712.002   8712.002"
      ]
     },
     "metadata": {},
     "output_type": "display_data"
    }
   ],
   "source": [
    "head(concat)"
   ]
  },
  {
   "cell_type": "markdown",
   "id": "4d78caec",
   "metadata": {},
   "source": [
    "Class 1"
   ]
  },
  {
   "cell_type": "code",
   "execution_count": 178,
   "id": "24eee339",
   "metadata": {},
   "outputs": [],
   "source": [
    "c <- 1\n",
    "class_concat <- concat[class == c,]"
   ]
  },
  {
   "cell_type": "code",
   "execution_count": 180,
   "id": "3db59c2e",
   "metadata": {
    "scrolled": true
   },
   "outputs": [
    {
     "data": {
      "text/html": [
       "<table>\n",
       "<thead><tr><th></th><th scope=col>PC1</th><th scope=col>PC2</th></tr></thead>\n",
       "<tbody>\n",
       "\t<tr><th scope=row>Standard deviation</th><td>97669.04333</td><td>70846.09215</td></tr>\n",
       "\t<tr><th scope=row>Proportion of Variance</th><td>    0.48711</td><td>    0.25630</td></tr>\n",
       "\t<tr><th scope=row>Cumulative Proportion</th><td>    0.48711</td><td>    0.74341</td></tr>\n",
       "</tbody>\n",
       "</table>\n"
      ],
      "text/latex": [
       "\\begin{tabular}{r|ll}\n",
       "  & PC1 & PC2\\\\\n",
       "\\hline\n",
       "\tStandard deviation & 97669.04333 & 70846.09215\\\\\n",
       "\tProportion of Variance &     0.48711 &     0.25630\\\\\n",
       "\tCumulative Proportion &     0.48711 &     0.74341\\\\\n",
       "\\end{tabular}\n"
      ],
      "text/markdown": [
       "\n",
       "| <!--/--> | PC1 | PC2 |\n",
       "|---|---|---|\n",
       "| Standard deviation | 97669.04333 | 70846.09215 |\n",
       "| Proportion of Variance |     0.48711 |     0.25630 |\n",
       "| Cumulative Proportion |     0.48711 |     0.74341 |\n",
       "\n"
      ],
      "text/plain": [
       "                       PC1         PC2        \n",
       "Standard deviation     97669.04333 70846.09215\n",
       "Proportion of Variance     0.48711     0.25630\n",
       "Cumulative Proportion      0.48711     0.74341"
      ]
     },
     "metadata": {},
     "output_type": "display_data"
    }
   ],
   "source": [
    "pca <- prcomp(class_concat)\n",
    "summary(pca)$importance[,c(1,2)]"
   ]
  },
  {
   "cell_type": "markdown",
   "id": "a8204169",
   "metadata": {},
   "source": [
    "* 74% of the variation is covered."
   ]
  },
  {
   "cell_type": "code",
   "execution_count": 181,
   "id": "a38ed6f3",
   "metadata": {
    "scrolled": false
   },
   "outputs": [
    {
     "data": {
      "image/png": "[encoded data removed]",
      "text/plain": [
       "plot without title"
      ]
     },
     "metadata": {},
     "output_type": "display_data"
    }
   ],
   "source": [
    "comp_1_2_ts <- rbind(pca$rotation[,c(1, 3)], pca$rotation[,c(2,3)])[,1]\n",
    "plot(comp_1_2_ts)"
   ]
  },
  {
   "cell_type": "markdown",
   "id": "a53a17f2",
   "metadata": {},
   "source": [
    "Class 2"
   ]
  },
  {
   "cell_type": "code",
   "execution_count": 182,
   "id": "edc665a8",
   "metadata": {
    "scrolled": true
   },
   "outputs": [
    {
     "data": {
      "text/html": [
       "<table>\n",
       "<thead><tr><th></th><th scope=col>PC1</th><th scope=col>PC2</th></tr></thead>\n",
       "<tbody>\n",
       "\t<tr><th scope=row>Standard deviation</th><td>58221.69440</td><td>39958.45960</td></tr>\n",
       "\t<tr><th scope=row>Proportion of Variance</th><td>    0.54008</td><td>    0.25439</td></tr>\n",
       "\t<tr><th scope=row>Cumulative Proportion</th><td>    0.54008</td><td>    0.79447</td></tr>\n",
       "</tbody>\n",
       "</table>\n"
      ],
      "text/latex": [
       "\\begin{tabular}{r|ll}\n",
       "  & PC1 & PC2\\\\\n",
       "\\hline\n",
       "\tStandard deviation & 58221.69440 & 39958.45960\\\\\n",
       "\tProportion of Variance &     0.54008 &     0.25439\\\\\n",
       "\tCumulative Proportion &     0.54008 &     0.79447\\\\\n",
       "\\end{tabular}\n"
      ],
      "text/markdown": [
       "\n",
       "| <!--/--> | PC1 | PC2 |\n",
       "|---|---|---|\n",
       "| Standard deviation | 58221.69440 | 39958.45960 |\n",
       "| Proportion of Variance |     0.54008 |     0.25439 |\n",
       "| Cumulative Proportion |     0.54008 |     0.79447 |\n",
       "\n"
      ],
      "text/plain": [
       "                       PC1         PC2        \n",
       "Standard deviation     58221.69440 39958.45960\n",
       "Proportion of Variance     0.54008     0.25439\n",
       "Cumulative Proportion      0.54008     0.79447"
      ]
     },
     "metadata": {},
     "output_type": "display_data"
    }
   ],
   "source": [
    "c <- 2\n",
    "class_concat <- concat[class == c,]\n",
    "pca <- prcomp(class_concat)\n",
    "summary(pca)$importance[,c(1,2)]"
   ]
  },
  {
   "cell_type": "markdown",
   "id": "06818553",
   "metadata": {},
   "source": [
    "* 79% of the variation is covered for Class 2 using 2 components."
   ]
  },
  {
   "cell_type": "code",
   "execution_count": 183,
   "id": "4ee50f23",
   "metadata": {
    "scrolled": false
   },
   "outputs": [
    {
     "data": {
      "image/png": "[encoded data removed]",
      "text/plain": [
       "plot without title"
      ]
     },
     "metadata": {},
     "output_type": "display_data"
    }
   ],
   "source": [
    "comp_1_2_ts <- rbind(pca$rotation[,c(1, 3)], pca$rotation[,c(2,3)])[,1]\n",
    "plot(comp_1_2_ts)"
   ]
  },
  {
   "cell_type": "markdown",
   "id": "94c90642",
   "metadata": {},
   "source": [
    "Class 3"
   ]
  },
  {
   "cell_type": "code",
   "execution_count": 184,
   "id": "40b4c035",
   "metadata": {
    "scrolled": true
   },
   "outputs": [
    {
     "data": {
      "text/html": [
       "<table>\n",
       "<thead><tr><th></th><th scope=col>PC1</th><th scope=col>PC2</th></tr></thead>\n",
       "<tbody>\n",
       "\t<tr><th scope=row>Standard deviation</th><td>148992.92030</td><td>133423.39824</td></tr>\n",
       "\t<tr><th scope=row>Proportion of Variance</th><td>     0.48952</td><td>     0.39256</td></tr>\n",
       "\t<tr><th scope=row>Cumulative Proportion</th><td>     0.48952</td><td>     0.88209</td></tr>\n",
       "</tbody>\n",
       "</table>\n"
      ],
      "text/latex": [
       "\\begin{tabular}{r|ll}\n",
       "  & PC1 & PC2\\\\\n",
       "\\hline\n",
       "\tStandard deviation & 148992.92030 & 133423.39824\\\\\n",
       "\tProportion of Variance &      0.48952 &      0.39256\\\\\n",
       "\tCumulative Proportion &      0.48952 &      0.88209\\\\\n",
       "\\end{tabular}\n"
      ],
      "text/markdown": [
       "\n",
       "| <!--/--> | PC1 | PC2 |\n",
       "|---|---|---|\n",
       "| Standard deviation | 148992.92030 | 133423.39824 |\n",
       "| Proportion of Variance |      0.48952 |      0.39256 |\n",
       "| Cumulative Proportion |      0.48952 |      0.88209 |\n",
       "\n"
      ],
      "text/plain": [
       "                       PC1          PC2         \n",
       "Standard deviation     148992.92030 133423.39824\n",
       "Proportion of Variance      0.48952      0.39256\n",
       "Cumulative Proportion       0.48952      0.88209"
      ]
     },
     "metadata": {},
     "output_type": "display_data"
    }
   ],
   "source": [
    "c <- 3\n",
    "class_concat <- concat[class == c,]\n",
    "pca <- prcomp(class_concat)\n",
    "summary(pca)$importance[,c(1,2)]"
   ]
  },
  {
   "cell_type": "markdown",
   "id": "73686191",
   "metadata": {},
   "source": [
    "* 88% of the variation is covered for Class 3 using 2 components. "
   ]
  },
  {
   "cell_type": "code",
   "execution_count": 186,
   "id": "e677262e",
   "metadata": {},
   "outputs": [
    {
     "data": {
      "image/png": "[encoded data removed]",
      "text/plain": [
       "plot without title"
      ]
     },
     "metadata": {},
     "output_type": "display_data"
    }
   ],
   "source": [
    "comp_1_2_ts <- rbind(pca$rotation[,c(1, 3)], pca$rotation[,c(2,3)])[,1]\n",
    "plot(comp_1_2_ts)"
   ]
  },
  {
   "cell_type": "markdown",
   "id": "02501dd8",
   "metadata": {},
   "source": [
    "Class 4"
   ]
  },
  {
   "cell_type": "code",
   "execution_count": 187,
   "id": "3a73cb4b",
   "metadata": {
    "scrolled": true
   },
   "outputs": [
    {
     "data": {
      "text/html": [
       "<table>\n",
       "<thead><tr><th></th><th scope=col>PC1</th><th scope=col>PC2</th></tr></thead>\n",
       "<tbody>\n",
       "\t<tr><th scope=row>Standard deviation</th><td>168774.43720</td><td>135564.59978</td></tr>\n",
       "\t<tr><th scope=row>Proportion of Variance</th><td>     0.55018</td><td>     0.35496</td></tr>\n",
       "\t<tr><th scope=row>Cumulative Proportion</th><td>     0.55018</td><td>     0.90515</td></tr>\n",
       "</tbody>\n",
       "</table>\n"
      ],
      "text/latex": [
       "\\begin{tabular}{r|ll}\n",
       "  & PC1 & PC2\\\\\n",
       "\\hline\n",
       "\tStandard deviation & 168774.43720 & 135564.59978\\\\\n",
       "\tProportion of Variance &      0.55018 &      0.35496\\\\\n",
       "\tCumulative Proportion &      0.55018 &      0.90515\\\\\n",
       "\\end{tabular}\n"
      ],
      "text/markdown": [
       "\n",
       "| <!--/--> | PC1 | PC2 |\n",
       "|---|---|---|\n",
       "| Standard deviation | 168774.43720 | 135564.59978 |\n",
       "| Proportion of Variance |      0.55018 |      0.35496 |\n",
       "| Cumulative Proportion |      0.55018 |      0.90515 |\n",
       "\n"
      ],
      "text/plain": [
       "                       PC1          PC2         \n",
       "Standard deviation     168774.43720 135564.59978\n",
       "Proportion of Variance      0.55018      0.35496\n",
       "Cumulative Proportion       0.55018      0.90515"
      ]
     },
     "metadata": {},
     "output_type": "display_data"
    }
   ],
   "source": [
    "c <- 4\n",
    "class_concat <- concat[class == c,]\n",
    "pca <- prcomp(class_concat)\n",
    "summary(pca)$importance[,c(1,2)]"
   ]
  },
  {
   "cell_type": "markdown",
   "id": "24e70e0d",
   "metadata": {},
   "source": [
    "* 90% of the variation is covered for Class 4 using 2 components. "
   ]
  },
  {
   "cell_type": "code",
   "execution_count": 188,
   "id": "7722f3b4",
   "metadata": {},
   "outputs": [
    {
     "data": {
      "image/png": "[encoded data removed]",
      "text/plain": [
       "plot without title"
      ]
     },
     "metadata": {},
     "output_type": "display_data"
    }
   ],
   "source": [
    "comp_1_2_ts <- rbind(pca$rotation[,c(1, 3)], pca$rotation[,c(2,3)])[,1]\n",
    "plot(comp_1_2_ts)"
   ]
  },
  {
   "cell_type": "markdown",
   "id": "7be05a7b",
   "metadata": {},
   "source": [
    "Class 5"
   ]
  },
  {
   "cell_type": "code",
   "execution_count": 189,
   "id": "91b7ee5d",
   "metadata": {
    "scrolled": true
   },
   "outputs": [
    {
     "data": {
      "text/html": [
       "<table>\n",
       "<thead><tr><th></th><th scope=col>PC1</th><th scope=col>PC2</th></tr></thead>\n",
       "<tbody>\n",
       "\t<tr><th scope=row>Standard deviation</th><td>189150.66732</td><td>91867.43615 </td></tr>\n",
       "\t<tr><th scope=row>Proportion of Variance</th><td>     0.76606</td><td>    0.18071 </td></tr>\n",
       "\t<tr><th scope=row>Cumulative Proportion</th><td>     0.76606</td><td>    0.94677 </td></tr>\n",
       "</tbody>\n",
       "</table>\n"
      ],
      "text/latex": [
       "\\begin{tabular}{r|ll}\n",
       "  & PC1 & PC2\\\\\n",
       "\\hline\n",
       "\tStandard deviation & 189150.66732 & 91867.43615 \\\\\n",
       "\tProportion of Variance &      0.76606 &     0.18071 \\\\\n",
       "\tCumulative Proportion &      0.76606 &     0.94677 \\\\\n",
       "\\end{tabular}\n"
      ],
      "text/markdown": [
       "\n",
       "| <!--/--> | PC1 | PC2 |\n",
       "|---|---|---|\n",
       "| Standard deviation | 189150.66732 | 91867.43615  |\n",
       "| Proportion of Variance |      0.76606 |     0.18071  |\n",
       "| Cumulative Proportion |      0.76606 |     0.94677  |\n",
       "\n"
      ],
      "text/plain": [
       "                       PC1          PC2        \n",
       "Standard deviation     189150.66732 91867.43615\n",
       "Proportion of Variance      0.76606     0.18071\n",
       "Cumulative Proportion       0.76606     0.94677"
      ]
     },
     "metadata": {},
     "output_type": "display_data"
    }
   ],
   "source": [
    "c <- 5\n",
    "class_concat <- concat[class == c,]\n",
    "pca <- prcomp(class_concat)\n",
    "summary(pca)$importance[,c(1,2)]"
   ]
  },
  {
   "cell_type": "markdown",
   "id": "5c0b9443",
   "metadata": {},
   "source": [
    "* 95% of the variation is covered for Class 5 using 2 components. "
   ]
  },
  {
   "cell_type": "code",
   "execution_count": 190,
   "id": "e61405d5",
   "metadata": {},
   "outputs": [
    {
     "data": {
      "image/png": "[encoded data removed]",
      "text/plain": [
       "plot without title"
      ]
     },
     "metadata": {},
     "output_type": "display_data"
    }
   ],
   "source": [
    "comp_1_2_ts <- rbind(pca$rotation[,c(1, 3)], pca$rotation[,c(2,3)])[,1]\n",
    "plot(comp_1_2_ts)"
   ]
  },
  {
   "cell_type": "markdown",
   "id": "b4019ce8",
   "metadata": {},
   "source": [
    "Class 6"
   ]
  },
  {
   "cell_type": "code",
   "execution_count": 191,
   "id": "2f04c057",
   "metadata": {
    "scrolled": true
   },
   "outputs": [
    {
     "data": {
      "text/html": [
       "<table>\n",
       "<thead><tr><th></th><th scope=col>PC1</th><th scope=col>PC2</th></tr></thead>\n",
       "<tbody>\n",
       "\t<tr><th scope=row>Standard deviation</th><td>213174.56275</td><td>164680.41399</td></tr>\n",
       "\t<tr><th scope=row>Proportion of Variance</th><td>     0.56135</td><td>     0.33500</td></tr>\n",
       "\t<tr><th scope=row>Cumulative Proportion</th><td>     0.56135</td><td>     0.89635</td></tr>\n",
       "</tbody>\n",
       "</table>\n"
      ],
      "text/latex": [
       "\\begin{tabular}{r|ll}\n",
       "  & PC1 & PC2\\\\\n",
       "\\hline\n",
       "\tStandard deviation & 213174.56275 & 164680.41399\\\\\n",
       "\tProportion of Variance &      0.56135 &      0.33500\\\\\n",
       "\tCumulative Proportion &      0.56135 &      0.89635\\\\\n",
       "\\end{tabular}\n"
      ],
      "text/markdown": [
       "\n",
       "| <!--/--> | PC1 | PC2 |\n",
       "|---|---|---|\n",
       "| Standard deviation | 213174.56275 | 164680.41399 |\n",
       "| Proportion of Variance |      0.56135 |      0.33500 |\n",
       "| Cumulative Proportion |      0.56135 |      0.89635 |\n",
       "\n"
      ],
      "text/plain": [
       "                       PC1          PC2         \n",
       "Standard deviation     213174.56275 164680.41399\n",
       "Proportion of Variance      0.56135      0.33500\n",
       "Cumulative Proportion       0.56135      0.89635"
      ]
     },
     "metadata": {},
     "output_type": "display_data"
    }
   ],
   "source": [
    "c <- 6\n",
    "class_concat <- concat[class == c,]\n",
    "pca <- prcomp(class_concat)\n",
    "summary(pca)$importance[,c(1,2)]"
   ]
  },
  {
   "cell_type": "markdown",
   "id": "b44c782f",
   "metadata": {},
   "source": [
    "* 90% of the variation is covered for Class 6 using 2 components."
   ]
  },
  {
   "cell_type": "code",
   "execution_count": 192,
   "id": "e9e1a817",
   "metadata": {},
   "outputs": [
    {
     "data": {
      "image/png": "[encoded data removed]",
      "text/plain": [
       "plot without title"
      ]
     },
     "metadata": {},
     "output_type": "display_data"
    }
   ],
   "source": [
    "comp_1_2_ts <- rbind(pca$rotation[,c(1, 3)], pca$rotation[,c(2,3)])[,1]\n",
    "plot(comp_1_2_ts)"
   ]
  },
  {
   "cell_type": "markdown",
   "id": "bf2da521",
   "metadata": {},
   "source": [
    "Class 7"
   ]
  },
  {
   "cell_type": "code",
   "execution_count": 193,
   "id": "6cbd55b0",
   "metadata": {
    "scrolled": true
   },
   "outputs": [
    {
     "data": {
      "text/html": [
       "<table>\n",
       "<thead><tr><th></th><th scope=col>PC1</th><th scope=col>PC2</th></tr></thead>\n",
       "<tbody>\n",
       "\t<tr><th scope=row>Standard deviation</th><td>128042.62536</td><td>65573.93333 </td></tr>\n",
       "\t<tr><th scope=row>Proportion of Variance</th><td>     0.69946</td><td>    0.18345 </td></tr>\n",
       "\t<tr><th scope=row>Cumulative Proportion</th><td>     0.69946</td><td>    0.88291 </td></tr>\n",
       "</tbody>\n",
       "</table>\n"
      ],
      "text/latex": [
       "\\begin{tabular}{r|ll}\n",
       "  & PC1 & PC2\\\\\n",
       "\\hline\n",
       "\tStandard deviation & 128042.62536 & 65573.93333 \\\\\n",
       "\tProportion of Variance &      0.69946 &     0.18345 \\\\\n",
       "\tCumulative Proportion &      0.69946 &     0.88291 \\\\\n",
       "\\end{tabular}\n"
      ],
      "text/markdown": [
       "\n",
       "| <!--/--> | PC1 | PC2 |\n",
       "|---|---|---|\n",
       "| Standard deviation | 128042.62536 | 65573.93333  |\n",
       "| Proportion of Variance |      0.69946 |     0.18345  |\n",
       "| Cumulative Proportion |      0.69946 |     0.88291  |\n",
       "\n"
      ],
      "text/plain": [
       "                       PC1          PC2        \n",
       "Standard deviation     128042.62536 65573.93333\n",
       "Proportion of Variance      0.69946     0.18345\n",
       "Cumulative Proportion       0.69946     0.88291"
      ]
     },
     "metadata": {},
     "output_type": "display_data"
    }
   ],
   "source": [
    "c <- 7\n",
    "class_concat <- concat[class == c,]\n",
    "pca <- prcomp(class_concat)\n",
    "summary(pca)$importance[,c(1,2)]"
   ]
  },
  {
   "cell_type": "markdown",
   "id": "42242a7b",
   "metadata": {},
   "source": [
    "* 88% of the variation is covered for Class 7 using 2 components."
   ]
  },
  {
   "cell_type": "code",
   "execution_count": 194,
   "id": "ddc76178",
   "metadata": {},
   "outputs": [
    {
     "data": {
      "image/png": "[encoded data removed]",
      "text/plain": [
       "plot without title"
      ]
     },
     "metadata": {},
     "output_type": "display_data"
    }
   ],
   "source": [
    "comp_1_2_ts <- rbind(pca$rotation[,c(1, 3)], pca$rotation[,c(2,3)])[,1]\n",
    "plot(comp_1_2_ts)"
   ]
  },
  {
   "cell_type": "markdown",
   "id": "a570e150",
   "metadata": {},
   "source": [
    "Class 8 "
   ]
  },
  {
   "cell_type": "code",
   "execution_count": 195,
   "id": "89e33b78",
   "metadata": {
    "scrolled": true
   },
   "outputs": [
    {
     "data": {
      "text/html": [
       "<table>\n",
       "<thead><tr><th></th><th scope=col>PC1</th><th scope=col>PC2</th></tr></thead>\n",
       "<tbody>\n",
       "\t<tr><th scope=row>Standard deviation</th><td>90682.58527</td><td>70512.54401</td></tr>\n",
       "\t<tr><th scope=row>Proportion of Variance</th><td>    0.52435</td><td>    0.31703</td></tr>\n",
       "\t<tr><th scope=row>Cumulative Proportion</th><td>    0.52435</td><td>    0.84138</td></tr>\n",
       "</tbody>\n",
       "</table>\n"
      ],
      "text/latex": [
       "\\begin{tabular}{r|ll}\n",
       "  & PC1 & PC2\\\\\n",
       "\\hline\n",
       "\tStandard deviation & 90682.58527 & 70512.54401\\\\\n",
       "\tProportion of Variance &     0.52435 &     0.31703\\\\\n",
       "\tCumulative Proportion &     0.52435 &     0.84138\\\\\n",
       "\\end{tabular}\n"
      ],
      "text/markdown": [
       "\n",
       "| <!--/--> | PC1 | PC2 |\n",
       "|---|---|---|\n",
       "| Standard deviation | 90682.58527 | 70512.54401 |\n",
       "| Proportion of Variance |     0.52435 |     0.31703 |\n",
       "| Cumulative Proportion |     0.52435 |     0.84138 |\n",
       "\n"
      ],
      "text/plain": [
       "                       PC1         PC2        \n",
       "Standard deviation     90682.58527 70512.54401\n",
       "Proportion of Variance     0.52435     0.31703\n",
       "Cumulative Proportion      0.52435     0.84138"
      ]
     },
     "metadata": {},
     "output_type": "display_data"
    }
   ],
   "source": [
    "c <- 8\n",
    "class_concat <- concat[class == c,]\n",
    "pca <- prcomp(class_concat)\n",
    "summary(pca)$importance[,c(1,2)]"
   ]
  },
  {
   "cell_type": "markdown",
   "id": "a75e3ea4",
   "metadata": {},
   "source": [
    "* 84% of the variation is covered for Class 8 using 2 components."
   ]
  },
  {
   "cell_type": "code",
   "execution_count": 196,
   "id": "4bd23d8d",
   "metadata": {},
   "outputs": [
    {
     "data": {
      "image/png": "[encoded data removed]",
      "text/plain": [
       "plot without title"
      ]
     },
     "metadata": {},
     "output_type": "display_data"
    }
   ],
   "source": [
    "comp_1_2_ts <- rbind(pca$rotation[,c(1, 3)], pca$rotation[,c(2,3)])[,1]\n",
    "plot(comp_1_2_ts)"
   ]
  },
  {
   "cell_type": "markdown",
   "id": "ba6d540e",
   "metadata": {},
   "source": [
    "* The eigenvectors combine 3 time series representing 3 dimensions. 2 eigenvectors are there -> 6 segments\n",
    "* Each segment shows where the variation is being explained. For instance in the last plot, in the first eigenvector, most of the variation is explained by the movement made in the second half of the time frame in dimension y. Since its value is away from 0, the movements happened there will be used for this componenet to describe the variation.\n",
    "* The eigenvectors are giving hints about the gestures, in that sense."
   ]
  },
  {
   "cell_type": "code",
   "execution_count": null,
   "id": "e219010f",
   "metadata": {},
   "outputs": [],
   "source": []
  }
 ],
 "metadata": {
  "kernelspec": {
   "display_name": "R",
   "language": "R",
   "name": "ir"
  },
  "language_info": {
   "codemirror_mode": "r",
   "file_extension": ".r",
   "mimetype": "text/x-r-source",
   "name": "R",
   "pygments_lexer": "r",
   "version": "3.6.1"
  }
 },
 "nbformat": 4,
 "nbformat_minor": 5
}
