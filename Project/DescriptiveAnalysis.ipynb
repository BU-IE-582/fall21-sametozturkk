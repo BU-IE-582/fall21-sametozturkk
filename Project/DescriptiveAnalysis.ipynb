{
 "cells": [
  {
   "cell_type": "code",
   "execution_count": 16,
   "id": "e293964a",
   "metadata": {},
   "outputs": [
    {
     "name": "stderr",
     "output_type": "stream",
     "text": [
      "Warning message:\n",
      "\"package 'Hmisc' was built under R version 3.6.3\"Loading required package: lattice\n",
      "Loading required package: survival\n",
      "Warning message:\n",
      "\"package 'survival' was built under R version 3.6.3\"Loading required package: Formula\n",
      "Warning message:\n",
      "\"package 'Formula' was built under R version 3.6.3\"Loading required package: ggplot2\n",
      "Warning message:\n",
      "\"package 'ggplot2' was built under R version 3.6.3\"\n",
      "Attaching package: 'Hmisc'\n",
      "\n",
      "The following objects are masked from 'package:base':\n",
      "\n",
      "    format.pval, units\n",
      "\n"
     ]
    }
   ],
   "source": [
    "require(data.table)\n",
    "library(Hmisc)"
   ]
  },
  {
   "cell_type": "code",
   "execution_count": 5,
   "id": "985847c4",
   "metadata": {},
   "outputs": [],
   "source": [
    "train = fread('train_raw.csv', encoding = \"UTF-8\")"
   ]
  },
  {
   "cell_type": "code",
   "execution_count": 6,
   "id": "2d3d8f38",
   "metadata": {},
   "outputs": [
    {
     "data": {
      "text/html": [
       "<table>\n",
       "<thead><tr><th scope=col>time_stamp</th><th scope=col>contentid</th><th scope=col>user_action</th><th scope=col>sellingprice</th><th scope=col>product_name</th><th scope=col>brand_id</th><th scope=col>brand_name</th><th scope=col>businessunit</th><th scope=col>product_gender</th><th scope=col>category_id</th><th scope=col>Level1_Category_Id</th><th scope=col>Level1_Category_Name</th><th scope=col>Level2_Category_Id</th><th scope=col>Level2_Category_Name</th><th scope=col>Level3_Category_Id</th><th scope=col>Level3_Category_Name</th><th scope=col>gender</th><th scope=col>unique_id</th><th scope=col>type</th></tr></thead>\n",
       "<tbody>\n",
       "\t<tr><td>2020-12-02T22:26:14.023Z                                       </td><td>39918893                                                       </td><td>favorite                                                       </td><td>3099.00                                                        </td><td>PerfectCare 600 EW6F449ST A+++ 9 KG 1400 Devir Çamasir Makinesi</td><td> 8511                                                          </td><td>Electrolux                                                     </td><td>Beyaz Esya                                                     </td><td>Unisex                                                         </td><td>1272                                                           </td><td>1071                                                           </td><td>Elektronik                                                     </td><td>1212                                                           </td><td>Beyaz Esya                                                     </td><td>1272                                                           </td><td>Çamasir Makinesi                                               </td><td>F                                                              </td><td>425                                                            </td><td>train                                                          </td></tr>\n",
       "\t<tr><td>2020-12-08T23:15:04.603Z                                       </td><td> 3558544                                                       </td><td>favorite                                                       </td><td>3079.00                                                        </td><td>WW90J5475FW A+++ 1400 Devir 9 kg Çamasir Makinesi              </td><td> 3228                                                          </td><td>Samsung                                                        </td><td>Beyaz Esya                                                     </td><td>                                                               </td><td>1272                                                           </td><td>1071                                                           </td><td>Elektronik                                                     </td><td>1212                                                           </td><td>Beyaz Esya                                                     </td><td>1272                                                           </td><td>Çamasir Makinesi                                               </td><td>F                                                              </td><td>425                                                            </td><td>train                                                          </td></tr>\n",
       "\t<tr><td>2020-12-05T16:19:01.157Z                                       </td><td>31292729                                                       </td><td>favorite                                                       </td><td>3999.00                                                        </td><td>KM 9711 A++ 9 kg Çamasir Kurutma Makinesi                      </td><td>10989                                                          </td><td>Vestel                                                         </td><td>Beyaz Esya                                                     </td><td>Unisex                                                         </td><td>1276                                                           </td><td>1071                                                           </td><td>Elektronik                                                     </td><td>1212                                                           </td><td>Beyaz Esya                                                     </td><td>1276                                                           </td><td>Kurutma Makinesi                                               </td><td>F                                                              </td><td>425                                                            </td><td>train                                                          </td></tr>\n",
       "\t<tr><td>2020-12-05T16:28:00Z                                           </td><td> 6363103                                                       </td><td>visit                                                          </td><td>2544.00                                                        </td><td>CMI 9710 A+++ 1000 Devir 9 kg Çamasir Makinesi                 </td><td>10989                                                          </td><td>Vestel                                                         </td><td>Beyaz Esya                                                     </td><td>                                                               </td><td>1272                                                           </td><td>1071                                                           </td><td>Elektronik                                                     </td><td>1212                                                           </td><td>Beyaz Esya                                                     </td><td>1272                                                           </td><td>Çamasir Makinesi                                               </td><td>F                                                              </td><td>425                                                            </td><td>train                                                          </td></tr>\n",
       "\t<tr><td>2020-12-02T22:26:59Z                                           </td><td>39918893                                                       </td><td>visit                                                          </td><td>3099.00                                                        </td><td>PerfectCare 600 EW6F449ST A+++ 9 KG 1400 Devir Çamasir Makinesi</td><td> 8511                                                          </td><td>Electrolux                                                     </td><td>Beyaz Esya                                                     </td><td>Unisex                                                         </td><td>1272                                                           </td><td>1071                                                           </td><td>Elektronik                                                     </td><td>1212                                                           </td><td>Beyaz Esya                                                     </td><td>1272                                                           </td><td>Çamasir Makinesi                                               </td><td>F                                                              </td><td>425                                                            </td><td>train                                                          </td></tr>\n",
       "\t<tr><td>2020-11-03T21:04:11Z                                           </td><td>32593071                                                       </td><td>visit                                                          </td><td> 266.65                                                        </td><td>Siyah Kadin Abiye Ayakkabi 01AYH158420A100                     </td><td>   59                                                          </td><td>Hotiç                                                          </td><td>Branded Shoes A                                                </td><td>Kadin                                                          </td><td> 431                                                           </td><td> 403                                                           </td><td>Ayakkabi                                                       </td><td> 430                                                           </td><td>Topuklu Ayakkabi                                               </td><td> 431                                                           </td><td>Abiye Ayakkabi                                                 </td><td>F                                                              </td><td>425                                                            </td><td>train                                                          </td></tr>\n",
       "</tbody>\n",
       "</table>\n"
      ],
      "text/latex": [
       "\\begin{tabular}{r|lllllllllllllllllll}\n",
       " time\\_stamp & contentid & user\\_action & sellingprice & product\\_name & brand\\_id & brand\\_name & businessunit & product\\_gender & category\\_id & Level1\\_Category\\_Id & Level1\\_Category\\_Name & Level2\\_Category\\_Id & Level2\\_Category\\_Name & Level3\\_Category\\_Id & Level3\\_Category\\_Name & gender & unique\\_id & type\\\\\n",
       "\\hline\n",
       "\t 2020-12-02T22:26:14.023Z                                        & 39918893                                                        & favorite                                                        & 3099.00                                                         & PerfectCare 600 EW6F449ST A+++ 9 KG 1400 Devir Çamasir Makinesi &  8511                                                           & Electrolux                                                      & Beyaz Esya                                                      & Unisex                                                          & 1272                                                            & 1071                                                            & Elektronik                                                      & 1212                                                            & Beyaz Esya                                                      & 1272                                                            & Çamasir Makinesi                                                & F                                                               & 425                                                             & train                                                          \\\\\n",
       "\t 2020-12-08T23:15:04.603Z                                        &  3558544                                                        & favorite                                                        & 3079.00                                                         & WW90J5475FW A+++ 1400 Devir 9 kg Çamasir Makinesi               &  3228                                                           & Samsung                                                         & Beyaz Esya                                                      &                                                                 & 1272                                                            & 1071                                                            & Elektronik                                                      & 1212                                                            & Beyaz Esya                                                      & 1272                                                            & Çamasir Makinesi                                                & F                                                               & 425                                                             & train                                                          \\\\\n",
       "\t 2020-12-05T16:19:01.157Z                                        & 31292729                                                        & favorite                                                        & 3999.00                                                         & KM 9711 A++ 9 kg Çamasir Kurutma Makinesi                       & 10989                                                           & Vestel                                                          & Beyaz Esya                                                      & Unisex                                                          & 1276                                                            & 1071                                                            & Elektronik                                                      & 1212                                                            & Beyaz Esya                                                      & 1276                                                            & Kurutma Makinesi                                                & F                                                               & 425                                                             & train                                                          \\\\\n",
       "\t 2020-12-05T16:28:00Z                                            &  6363103                                                        & visit                                                           & 2544.00                                                         & CMI 9710 A+++ 1000 Devir 9 kg Çamasir Makinesi                  & 10989                                                           & Vestel                                                          & Beyaz Esya                                                      &                                                                 & 1272                                                            & 1071                                                            & Elektronik                                                      & 1212                                                            & Beyaz Esya                                                      & 1272                                                            & Çamasir Makinesi                                                & F                                                               & 425                                                             & train                                                          \\\\\n",
       "\t 2020-12-02T22:26:59Z                                            & 39918893                                                        & visit                                                           & 3099.00                                                         & PerfectCare 600 EW6F449ST A+++ 9 KG 1400 Devir Çamasir Makinesi &  8511                                                           & Electrolux                                                      & Beyaz Esya                                                      & Unisex                                                          & 1272                                                            & 1071                                                            & Elektronik                                                      & 1212                                                            & Beyaz Esya                                                      & 1272                                                            & Çamasir Makinesi                                                & F                                                               & 425                                                             & train                                                          \\\\\n",
       "\t 2020-11-03T21:04:11Z                                            & 32593071                                                        & visit                                                           &  266.65                                                         & Siyah Kadin Abiye Ayakkabi 01AYH158420A100                      &    59                                                           & Hotiç                                                           & Branded Shoes A                                                 & Kadin                                                           &  431                                                            &  403                                                            & Ayakkabi                                                        &  430                                                            & Topuklu Ayakkabi                                                &  431                                                            & Abiye Ayakkabi                                                  & F                                                               & 425                                                             & train                                                          \\\\\n",
       "\\end{tabular}\n"
      ],
      "text/markdown": [
       "\n",
       "| time_stamp | contentid | user_action | sellingprice | product_name | brand_id | brand_name | businessunit | product_gender | category_id | Level1_Category_Id | Level1_Category_Name | Level2_Category_Id | Level2_Category_Name | Level3_Category_Id | Level3_Category_Name | gender | unique_id | type |\n",
       "|---|---|---|---|---|---|---|---|---|---|---|---|---|---|---|---|---|---|---|\n",
       "| 2020-12-02T22:26:14.023Z                                        | 39918893                                                        | favorite                                                        | 3099.00                                                         | PerfectCare 600 EW6F449ST A+++ 9 KG 1400 Devir Çamasir Makinesi |  8511                                                           | Electrolux                                                      | Beyaz Esya                                                      | Unisex                                                          | 1272                                                            | 1071                                                            | Elektronik                                                      | 1212                                                            | Beyaz Esya                                                      | 1272                                                            | Çamasir Makinesi                                                | F                                                               | 425                                                             | train                                                           |\n",
       "| 2020-12-08T23:15:04.603Z                                        |  3558544                                                        | favorite                                                        | 3079.00                                                         | WW90J5475FW A+++ 1400 Devir 9 kg Çamasir Makinesi               |  3228                                                           | Samsung                                                         | Beyaz Esya                                                      |                                                                 | 1272                                                            | 1071                                                            | Elektronik                                                      | 1212                                                            | Beyaz Esya                                                      | 1272                                                            | Çamasir Makinesi                                                | F                                                               | 425                                                             | train                                                           |\n",
       "| 2020-12-05T16:19:01.157Z                                        | 31292729                                                        | favorite                                                        | 3999.00                                                         | KM 9711 A++ 9 kg Çamasir Kurutma Makinesi                       | 10989                                                           | Vestel                                                          | Beyaz Esya                                                      | Unisex                                                          | 1276                                                            | 1071                                                            | Elektronik                                                      | 1212                                                            | Beyaz Esya                                                      | 1276                                                            | Kurutma Makinesi                                                | F                                                               | 425                                                             | train                                                           |\n",
       "| 2020-12-05T16:28:00Z                                            |  6363103                                                        | visit                                                           | 2544.00                                                         | CMI 9710 A+++ 1000 Devir 9 kg Çamasir Makinesi                  | 10989                                                           | Vestel                                                          | Beyaz Esya                                                      |                                                                 | 1272                                                            | 1071                                                            | Elektronik                                                      | 1212                                                            | Beyaz Esya                                                      | 1272                                                            | Çamasir Makinesi                                                | F                                                               | 425                                                             | train                                                           |\n",
       "| 2020-12-02T22:26:59Z                                            | 39918893                                                        | visit                                                           | 3099.00                                                         | PerfectCare 600 EW6F449ST A+++ 9 KG 1400 Devir Çamasir Makinesi |  8511                                                           | Electrolux                                                      | Beyaz Esya                                                      | Unisex                                                          | 1272                                                            | 1071                                                            | Elektronik                                                      | 1212                                                            | Beyaz Esya                                                      | 1272                                                            | Çamasir Makinesi                                                | F                                                               | 425                                                             | train                                                           |\n",
       "| 2020-11-03T21:04:11Z                                            | 32593071                                                        | visit                                                           |  266.65                                                         | Siyah Kadin Abiye Ayakkabi 01AYH158420A100                      |    59                                                           | Hotiç                                                           | Branded Shoes A                                                 | Kadin                                                           |  431                                                            |  403                                                            | Ayakkabi                                                        |  430                                                            | Topuklu Ayakkabi                                                |  431                                                            | Abiye Ayakkabi                                                  | F                                                               | 425                                                             | train                                                           |\n",
       "\n"
      ],
      "text/plain": [
       "  time_stamp               contentid user_action sellingprice\n",
       "1 2020-12-02T22:26:14.023Z 39918893  favorite    3099.00     \n",
       "2 2020-12-08T23:15:04.603Z  3558544  favorite    3079.00     \n",
       "3 2020-12-05T16:19:01.157Z 31292729  favorite    3999.00     \n",
       "4 2020-12-05T16:28:00Z      6363103  visit       2544.00     \n",
       "5 2020-12-02T22:26:59Z     39918893  visit       3099.00     \n",
       "6 2020-11-03T21:04:11Z     32593071  visit        266.65     \n",
       "  product_name                                                    brand_id\n",
       "1 PerfectCare 600 EW6F449ST A+++ 9 KG 1400 Devir Çamasir Makinesi  8511   \n",
       "2 WW90J5475FW A+++ 1400 Devir 9 kg Çamasir Makinesi                3228   \n",
       "3 KM 9711 A++ 9 kg Çamasir Kurutma Makinesi                       10989   \n",
       "4 CMI 9710 A+++ 1000 Devir 9 kg Çamasir Makinesi                  10989   \n",
       "5 PerfectCare 600 EW6F449ST A+++ 9 KG 1400 Devir Çamasir Makinesi  8511   \n",
       "6 Siyah Kadin Abiye Ayakkabi 01AYH158420A100                         59   \n",
       "  brand_name businessunit    product_gender category_id Level1_Category_Id\n",
       "1 Electrolux Beyaz Esya      Unisex         1272        1071              \n",
       "2 Samsung    Beyaz Esya                     1272        1071              \n",
       "3 Vestel     Beyaz Esya      Unisex         1276        1071              \n",
       "4 Vestel     Beyaz Esya                     1272        1071              \n",
       "5 Electrolux Beyaz Esya      Unisex         1272        1071              \n",
       "6 Hotiç      Branded Shoes A Kadin           431         403              \n",
       "  Level1_Category_Name Level2_Category_Id Level2_Category_Name\n",
       "1 Elektronik           1212               Beyaz Esya          \n",
       "2 Elektronik           1212               Beyaz Esya          \n",
       "3 Elektronik           1212               Beyaz Esya          \n",
       "4 Elektronik           1212               Beyaz Esya          \n",
       "5 Elektronik           1212               Beyaz Esya          \n",
       "6 Ayakkabi              430               Topuklu Ayakkabi    \n",
       "  Level3_Category_Id Level3_Category_Name gender unique_id type \n",
       "1 1272               Çamasir Makinesi     F      425       train\n",
       "2 1272               Çamasir Makinesi     F      425       train\n",
       "3 1276               Kurutma Makinesi     F      425       train\n",
       "4 1272               Çamasir Makinesi     F      425       train\n",
       "5 1272               Çamasir Makinesi     F      425       train\n",
       "6  431               Abiye Ayakkabi       F      425       train"
      ]
     },
     "metadata": {},
     "output_type": "display_data"
    }
   ],
   "source": [
    "head(train)"
   ]
  },
  {
   "cell_type": "code",
   "execution_count": 7,
   "id": "ffc2bd35",
   "metadata": {},
   "outputs": [
    {
     "data": {
      "text/html": [
       "5493268"
      ],
      "text/latex": [
       "5493268"
      ],
      "text/markdown": [
       "5493268"
      ],
      "text/plain": [
       "[1] 5493268"
      ]
     },
     "metadata": {},
     "output_type": "display_data"
    }
   ],
   "source": [
    "nrow(train)"
   ]
  },
  {
   "cell_type": "code",
   "execution_count": 12,
   "id": "dc9e31c7",
   "metadata": {},
   "outputs": [
    {
     "name": "stdout",
     "output_type": "stream",
     "text": [
      "Classes 'data.table' and 'data.frame':\t5493268 obs. of  19 variables:\n",
      " $ time_stamp          : chr  \"2020-12-02T22:26:14.023Z\" \"2020-12-08T23:15:04.603Z\" \"2020-12-05T16:19:01.157Z\" \"2020-12-05T16:28:00Z\" ...\n",
      " $ contentid           : int  39918893 3558544 31292729 6363103 39918893 32593071 4946868 6363103 6363100 6363100 ...\n",
      " $ user_action         : chr  \"favorite\" \"favorite\" \"favorite\" \"visit\" ...\n",
      " $ sellingprice        : num  3099 3079 3999 2544 3099 ...\n",
      " $ product_name        : chr  \"PerfectCare 600 EW6F449ST A+++ 9 KG 1400 Devir Çamasir Makinesi\" \"WW90J5475FW A+++ 1400 Devir 9 kg Çamasir Makinesi\" \"KM 9711 A++ 9 kg Çamasir Kurutma Makinesi\" \"CMI 9710 A+++ 1000 Devir 9 kg Çamasir Makinesi\" ...\n",
      " $ brand_id            : int  8511 3228 10989 10989 8511 59 1802 10989 10989 10989 ...\n",
      " $ brand_name          : chr  \"Electrolux\" \"Samsung\" \"Vestel\" \"Vestel\" ...\n",
      " $ businessunit        : chr  \"Beyaz Esya\" \"Beyaz Esya\" \"Beyaz Esya\" \"Beyaz Esya\" ...\n",
      " $ product_gender      : chr  \"Unisex\" \"\" \"Unisex\" \"\" ...\n",
      " $ category_id         : int  1272 1272 1276 1272 1272 431 379 1272 1272 1272 ...\n",
      " $ Level1_Category_Id  : int  1071 1071 1071 1071 1071 403 368 1071 1071 1071 ...\n",
      " $ Level1_Category_Name: chr  \"Elektronik\" \"Elektronik\" \"Elektronik\" \"Elektronik\" ...\n",
      " $ Level2_Category_Id  : int  1212 1212 1212 1212 1212 430 2876 1212 1212 1212 ...\n",
      " $ Level2_Category_Name: chr  \"Beyaz Esya\" \"Beyaz Esya\" \"Beyaz Esya\" \"Beyaz Esya\" ...\n",
      " $ Level3_Category_Id  : int  1272 1272 1276 1272 1272 431 379 1272 1272 1272 ...\n",
      " $ Level3_Category_Name: chr  \"Çamasir Makinesi\" \"Çamasir Makinesi\" \"Kurutma Makinesi\" \"Çamasir Makinesi\" ...\n",
      " $ gender              : chr  \"F\" \"F\" \"F\" \"F\" ...\n",
      " $ unique_id           : int  425 425 425 425 425 425 425 425 425 425 ...\n",
      " $ type                : chr  \"train\" \"train\" \"train\" \"train\" ...\n",
      " - attr(*, \".internal.selfref\")=<externalptr> \n"
     ]
    }
   ],
   "source": [
    "str(train)"
   ]
  },
  {
   "cell_type": "code",
   "execution_count": 13,
   "id": "bfa3fff8",
   "metadata": {},
   "outputs": [],
   "source": [
    "u_train = unique(train)"
   ]
  },
  {
   "cell_type": "code",
   "execution_count": 10,
   "id": "125da713",
   "metadata": {},
   "outputs": [
    {
     "data": {
      "text/html": [
       "2077356"
      ],
      "text/latex": [
       "2077356"
      ],
      "text/markdown": [
       "2077356"
      ],
      "text/plain": [
       "[1] 2077356"
      ]
     },
     "metadata": {},
     "output_type": "display_data"
    }
   ],
   "source": [
    "nrow(u_train)"
   ]
  },
  {
   "cell_type": "code",
   "execution_count": 15,
   "id": "ac37498a",
   "metadata": {},
   "outputs": [
    {
     "data": {
      "text/html": [
       "5618"
      ],
      "text/latex": [
       "5618"
      ],
      "text/markdown": [
       "5618"
      ],
      "text/plain": [
       "[1] 5618"
      ]
     },
     "metadata": {},
     "output_type": "display_data"
    }
   ],
   "source": [
    "length(unique(u_train$unique_id))"
   ]
  },
  {
   "cell_type": "code",
   "execution_count": 17,
   "id": "80bfc16a",
   "metadata": {
    "scrolled": false
   },
   "outputs": [
    {
     "data": {
      "text/plain": [
       "u_train \n",
       "\n",
       " 19  Variables      2077356  Observations\n",
       "--------------------------------------------------------------------------------\n",
       "time_stamp \n",
       "       n  missing distinct \n",
       " 2077356        0  1583129 \n",
       "\n",
       "lowest : 2020-10-14T10:42:23Z 2020-10-14T10:42:27Z 2020-10-14T10:42:31Z 2020-10-14T10:42:35Z 2020-10-14T10:42:38Z\n",
       "highest: 2020-12-09T13:29:44Z 2020-12-09T13:29:47Z 2020-12-09T13:29:50Z 2020-12-09T13:29:52Z 2020-12-09T13:29:55Z\n",
       "--------------------------------------------------------------------------------\n",
       "contentid \n",
       "       n  missing distinct     Info     Mean      Gmd      .05      .10 \n",
       " 2077354        2   482796        1 37987215 17813687  3034276  4732656 \n",
       "     .25      .50      .75      .90      .95 \n",
       "32589936 42259581 49701645 55084743 57547598 \n",
       "\n",
       "lowest :    48852    51969    51973    51995    52007\n",
       "highest: 67562911 67672020 67672059 67717726 67806253\n",
       "--------------------------------------------------------------------------------\n",
       "user_action \n",
       "       n  missing distinct \n",
       " 2077356        0        5 \n",
       "\n",
       "lowest : basket   favorite order    search   visit   \n",
       "highest: basket   favorite order    search   visit   \n",
       "                                                       \n",
       "Value        basket favorite    order   search    visit\n",
       "Frequency     99102   156204    23400   771420  1027230\n",
       "Proportion    0.048    0.075    0.011    0.371    0.494\n",
       "--------------------------------------------------------------------------------\n",
       "sellingprice \n",
       "       n  missing distinct     Info     Mean      Gmd      .05      .10 \n",
       " 2045343    32013    35433        1    234.4    320.4    12.50    24.90 \n",
       "     .25      .50      .75      .90      .95 \n",
       "   49.99    89.99   179.99   350.00   599.00 \n",
       "\n",
       "lowest :      0.00      0.25      0.42      0.45      0.49\n",
       "highest: 138760.00 145000.00 194127.00 212520.00 226320.00\n",
       "--------------------------------------------------------------------------------\n",
       "product_name \n",
       "       n  missing distinct \n",
       " 2075172     2184   441470 \n",
       "\n",
       "lowest : '' Groovy Serisi Orta Sehpa ''                                                                '' Sadem Serisi '' Avangart Orta Sehpa -Beyaz                                                 ''elif-lam-mim'' 3'lü Set-gümüs                                                               ''gelincik''  Dekoratif Duvar Aynasi                                                          ''kivilcim'' Dekoratif Duvar Aynasi                                                          \n",
       "highest: Zy Store Modern Tasli Metal Tekli Avize, Salon Tasli Avize, Oturma Odasi Avize, Tavan Lambasi Zyliss E900027 4lü Rende Ve Dilimleyici                                                       Zyrexin Plus Sertlestirici Hap                                                                Zz 2013-type El Feneri Sarjli Soklu Fener Savunma Aleti                                       Zz Yan Sehpa Ecedizayn                                                                       \n",
       "--------------------------------------------------------------------------------\n",
       "brand_id \n",
       "       n  missing distinct     Info     Mean      Gmd      .05      .10 \n",
       " 2075172     2184    33328    0.999   176934   283584       40       40 \n",
       "     .25      .50      .75      .90      .95 \n",
       "    1120    10075    35680   962022   984128 \n",
       "\n",
       "lowest :       9      10      11      12      13\n",
       "highest: 1041537 1041621 1041866 1042009 1042155\n",
       "--------------------------------------------------------------------------------\n",
       "brand_name \n",
       "       n  missing distinct \n",
       " 2075172     2184    33332 \n",
       "\n",
       "lowest : 'ALPASLAN KOÇ NAR -417              ????a             @RBERTI           +1 Drc Yapim     \n",
       "highest: ZY BUTIK          ZYLISS            ZyXEL             Zzencefil Butik   Zzn              \n",
       "--------------------------------------------------------------------------------\n",
       "businessunit \n",
       "       n  missing distinct \n",
       " 2075172     2184       83 \n",
       "\n",
       "lowest : Aksesuar                       Anne & Bebek Bakim             Aydinlatma                     Bahçe & Yapi Market & Hirdavat Bahçe Mobilyasi               \n",
       "highest: Sportswear                     Taki                           TV & Görüntü Ses Sistemleri    Vücut Bakim                    Yatak Oda Mobilyasi           \n",
       "--------------------------------------------------------------------------------\n",
       "product_gender \n",
       "       n  missing distinct \n",
       " 1842761   234595        3 \n",
       "                                  \n",
       "Value        Erkek   Kadin  Unisex\n",
       "Frequency   257333 1038708  546720\n",
       "Proportion   0.140   0.564   0.297\n",
       "--------------------------------------------------------------------------------\n",
       "category_id \n",
       "       n  missing distinct     Info     Mean      Gmd      .05      .10 \n",
       " 2075172     2184     2240        1     1200    921.3      407      460 \n",
       "     .25      .50      .75      .90      .95 \n",
       "     567      747     1806     2737     3188 \n",
       "\n",
       "lowest :  369  371  373  379  380, highest: 4572 4573 4574 4575 4577\n",
       "--------------------------------------------------------------------------------\n",
       "Level1_Category_Id \n",
       "       n  missing distinct     Info     Mean      Gmd      .05      .10 \n",
       " 2075172     2184       10    0.906      814    542.4      368      403 \n",
       "     .25      .50      .75      .90      .95 \n",
       "     522      522      758     1219     2859 \n",
       "\n",
       "lowest :  368  403  522  758 1070, highest: 1071 1219 2859 2862 3186\n",
       "                                                                         \n",
       "Value         368    403    522    758   1070   1071   1219   2859   2862\n",
       "Frequency  147787 208921 925169 325672 110886 105407  86521  96534  30076\n",
       "Proportion  0.071  0.101  0.446  0.157  0.053  0.051  0.042  0.047  0.014\n",
       "                 \n",
       "Value        3186\n",
       "Frequency   38199\n",
       "Proportion  0.018\n",
       "--------------------------------------------------------------------------------\n",
       "Level1_Category_Name \n",
       "       n  missing distinct \n",
       " 2075172     2184       10 \n",
       "\n",
       "lowest : Aksesuar                 Anne & Bebek & Çocuk     Ayakkabi                 Elektronik               Ev & Mobilya            \n",
       "highest: Giyim                    Kozmetik & Kisisel Bakim Spor & Outdoor           Süpermarket              Yasam                   \n",
       "\n",
       "Aksesuar (147787, 0.071), Anne & Bebek & Çocuk (30076, 0.014), Ayakkabi\n",
       "(208921, 0.101), Elektronik (105407, 0.051), Ev & Mobilya (325672, 0.157),\n",
       "Giyim (925169, 0.446), Kozmetik & Kisisel Bakim (110886, 0.053), Spor & Outdoor\n",
       "(38199, 0.018), Süpermarket (86521, 0.042), Yasam (96534, 0.047)\n",
       "--------------------------------------------------------------------------------\n",
       "Level2_Category_Id \n",
       "       n  missing distinct     Info     Mean      Gmd      .05      .10 \n",
       " 2075172     2184       95    0.993     1642     1169      406      420 \n",
       "     .25      .50      .75      .90      .95 \n",
       "     503     1203     2869     2871     2871 \n",
       "\n",
       "lowest :  387  394  396  406  417, highest: 3825 3914 4481 4527 4572\n",
       "--------------------------------------------------------------------------------\n",
       "Level2_Category_Name \n",
       "       n  missing distinct \n",
       " 2075172     2184       95 \n",
       "\n",
       "lowest : Abiye & Mezuniyet Elbisesi    Acil Durum & Güvenlik Ekipman Agiz Bakim                    Aksesuar Set                  Alt Giyim                    \n",
       "highest: Topuklu Ayakkabi              TV, Görüntü & Ses Sistemleri  Üst Giyim                     Vücut Bakimi                  Yazici & Tarayici            \n",
       "--------------------------------------------------------------------------------\n",
       "Level3_Category_Id \n",
       "       n  missing distinct     Info     Mean      Gmd      .05      .10 \n",
       " 2075172     2184      739    0.999     1179      830      407      418 \n",
       "     .25      .50      .75      .90      .95 \n",
       "     567      975     1188     2231     2995 \n",
       "\n",
       "lowest :  369  371  373  379  380, highest: 4569 4572 4588 4589 4591\n",
       "--------------------------------------------------------------------------------\n",
       "Level3_Category_Name \n",
       "       n  missing distinct \n",
       " 2075172     2184      739 \n",
       "\n",
       "lowest : 3D Yazici                  Abajur                     Abiye & Mezuniyet Elbisesi Abiye Ayakkabi             Abiye Çanta               \n",
       "highest: Yogurt Yapma Makinesi      Yürüteç                    Yürüyüs Ayakkabisi         Yüz Temizleyici            Yüzük                     \n",
       "--------------------------------------------------------------------------------\n",
       "gender \n",
       "       n  missing distinct \n",
       " 2077356        0        2 \n",
       "                          \n",
       "Value            F       M\n",
       "Frequency  1739165  338191\n",
       "Proportion   0.837   0.163\n",
       "--------------------------------------------------------------------------------\n",
       "unique_id \n",
       "       n  missing distinct     Info     Mean      Gmd      .05      .10 \n",
       " 2077356        0     5618        1     1720     1719       49      117 \n",
       "     .25      .50      .75      .90      .95 \n",
       "     444     1209     2624     4197     5087 \n",
       "\n",
       "lowest :    1    2    3    4    5, highest: 7991 7992 7995 7996 7997\n",
       "--------------------------------------------------------------------------------\n",
       "type \n",
       "       n  missing distinct    value \n",
       " 2077356        0        1    train \n",
       "                  \n",
       "Value        train\n",
       "Frequency  2077356\n",
       "Proportion       1\n",
       "--------------------------------------------------------------------------------"
      ]
     },
     "metadata": {},
     "output_type": "display_data"
    }
   ],
   "source": [
    "describe(u_train)"
   ]
  },
  {
   "cell_type": "code",
   "execution_count": 18,
   "id": "7c4390d5",
   "metadata": {},
   "outputs": [],
   "source": [
    "customers = unique(u_train[, c(\"unique_id\", \"gender\")])"
   ]
  },
  {
   "cell_type": "code",
   "execution_count": 20,
   "id": "0f336914",
   "metadata": {
    "scrolled": true
   },
   "outputs": [
    {
     "data": {
      "text/plain": [
       "\n",
       "   F    M \n",
       "3679 1939 "
      ]
     },
     "metadata": {},
     "output_type": "display_data"
    }
   ],
   "source": [
    "table(customers$gender)"
   ]
  },
  {
   "cell_type": "markdown",
   "id": "f1b713bb",
   "metadata": {},
   "source": [
    "* 5918 users, 3679 of which are female and 1939 of which are male (Class imbalance)\n",
    "* Time of the actions starts from 2020-10-14 end at 2020-12-09, which is approximately 2 months\n",
    "* 5 distinct actions: Adding the product to basket, adding the product to favorites, ordering the product, searching the product and visiting the product. Most records are from searching and visiting.\n",
    "* Selling price of the product, ranging from 0 to 226,320 with 32,013 missing values.\n",
    "* 3 level category information with id and character values, 2184 missing values.\n",
    "* Gender of the product, Male/Female/Unisex, 257,333 missing values\n",
    "* Business Unit, high level category information, 2184 missing values.\n",
    "* Brand id and name, 2184 missing values.\n",
    "* Product name, cannot be used in predictive models, only for descriptive analysis and observation, 2184 missing values.\n",
    "* Content id, "
   ]
  },
  {
   "cell_type": "code",
   "execution_count": 21,
   "id": "d580c30b",
   "metadata": {},
   "outputs": [
    {
     "data": {
      "text/html": [
       "0.654859380562478"
      ],
      "text/latex": [
       "0.654859380562478"
      ],
      "text/markdown": [
       "0.654859380562478"
      ],
      "text/plain": [
       "[1] 0.6548594"
      ]
     },
     "metadata": {},
     "output_type": "display_data"
    }
   ],
   "source": [
    "3679 / 5618"
   ]
  },
  {
   "cell_type": "code",
   "execution_count": null,
   "id": "d850d8e6",
   "metadata": {},
   "outputs": [],
   "source": []
  }
 ],
 "metadata": {
  "kernelspec": {
   "display_name": "R",
   "language": "R",
   "name": "ir"
  },
  "language_info": {
   "codemirror_mode": "r",
   "file_extension": ".r",
   "mimetype": "text/x-r-source",
   "name": "R",
   "pygments_lexer": "r",
   "version": "3.6.1"
  }
 },
 "nbformat": 4,
 "nbformat_minor": 5
}
