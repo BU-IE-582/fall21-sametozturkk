{
 "cells": [
  {
   "cell_type": "code",
   "execution_count": 1,
   "id": "fab745c8",
   "metadata": {},
   "outputs": [
    {
     "name": "stderr",
     "output_type": "stream",
     "text": [
      "Loading required package: data.table\n",
      "Warning message:\n",
      "\"package 'data.table' was built under R version 3.6.2\"Loading required package: caret\n",
      "Loading required package: lattice\n",
      "Loading required package: ggplot2\n",
      "Warning message:\n",
      "\"package 'ggplot2' was built under R version 3.6.3\""
     ]
    }
   ],
   "source": [
    "require(data.table)\n",
    "require(caret)"
   ]
  },
  {
   "cell_type": "markdown",
   "id": "c8d9bbd5",
   "metadata": {},
   "source": [
    "Start with reading train data with features created."
   ]
  },
  {
   "cell_type": "code",
   "execution_count": 2,
   "id": "1ff79b97",
   "metadata": {},
   "outputs": [],
   "source": [
    "train = fread(\"train_feature.csv\", encoding = \"UTF-8\")"
   ]
  },
  {
   "cell_type": "code",
   "execution_count": 3,
   "id": "99f0371c",
   "metadata": {},
   "outputs": [
    {
     "name": "stdout",
     "output_type": "stream",
     "text": [
      "Classes 'data.table' and 'data.frame':\t5618 obs. of  32 variables:\n",
      " $ unique_id                       : int  1 2 3 4 5 6 7 8 10 11 ...\n",
      " $ gender                          : chr  \"F\" \"F\" \"F\" \"F\" ...\n",
      " $ brand_gender                    : chr  \"Kadin\" \"Kadin\" \"Kadin\" \"Kadin\" ...\n",
      " $ cat_gender                      : chr  \"Unisex\" \"Unisex\" \"Kadin\" \"Kadin\" ...\n",
      " $ fav_product_gender              : chr  \"Unisex\" \"Kadin\" \"Kadin\" \"Kadin\" ...\n",
      " $ wDay_basket                     : chr  \"weekday\" \"weekday\" \"weekend\" \"weekday\" ...\n",
      " $ wDay_favorite                   : chr  \"weekday\" \"weekday\" \"Unknown\" \"weekday\" ...\n",
      " $ wDay_order                      : chr  \"weekday\" \"weekday\" \"weekend\" \"weekday\" ...\n",
      " $ wDay_search                     : chr  \"weekend\" \"weekend\" \"weekend\" \"weekday\" ...\n",
      " $ wDay_visit                      : chr  \"weekday\" \"weekday\" \"weekday\" \"weekday\" ...\n",
      " $ daytime_basket                  : chr  \"night\" \"evening\" \"night\" \"afternoon\" ...\n",
      " $ daytime_favorite                : chr  \"night\" \"afternoon\" \"Unknown\" \"afternoon\" ...\n",
      " $ daytime_order                   : chr  \"evening\" \"evening\" \"night\" \"afternoon\" ...\n",
      " $ daytime_search                  : chr  \"night\" \"afternoon\" \"afternoon\" \"night\" ...\n",
      " $ daytime_visit                   : chr  \"night\" \"afternoon\" \"night\" \"night\" ...\n",
      " $ fav_avg_price                   : num  138 234 234 183 60 ...\n",
      " $ order_avg_price                 : num  45 97.5 150 106.6 134.5 ...\n",
      " $ basket_avg_price                : num  87 99.8 188.9 234.4 234.4 ...\n",
      " $ count_basket                    : int  109 26 32 300 205 170 14 68 30 130 ...\n",
      " $ count_favorite                  : int  92 892 0 130 1 329 232 228 0 61 ...\n",
      " $ count_order                     : int  3 2 11 56 10 35 0 11 2 4 ...\n",
      " $ count_search                    : int  671 916 216 2126 598 832 295 394 166 426 ...\n",
      " $ count_visit                     : int  745 781 135 2878 3297 3392 411 1038 111 1047 ...\n",
      " $ female_category_action_count    : int  1147 2306 0 4232 3688 3684 768 1311 134 967 ...\n",
      " $ female_brand_action_count       : int  660 1795 279 2784 2686 1442 570 879 1 262 ...\n",
      " $ male_brand_action_count         : int  0 0 0 1 0 0 0 0 0 0 ...\n",
      " $ avg_price                       : num  166 154 271 290 137 ...\n",
      " $ female_businessunit_action_count: int  906 2239 283 4084 3619 3763 761 974 65 607 ...\n",
      " $ male_businessunit_action_count  : int  2 6 0 127 0 220 0 3 17 13 ...\n",
      " $ female_content_action_count     : int  190 144 10 84 419 245 71 84 1 195 ...\n",
      " $ male_content_action_count       : int  0 1 0 0 0 18 0 0 20 1 ...\n",
      " $ avg_session_time                : num  67.7 45.9 38.4 71.2 45.4 ...\n",
      " - attr(*, \".internal.selfref\")=<externalptr> \n"
     ]
    }
   ],
   "source": [
    "str(train)"
   ]
  },
  {
   "cell_type": "markdown",
   "id": "d345be02",
   "metadata": {},
   "source": [
    "Convert character values to factor so that we can use them as predictors."
   ]
  },
  {
   "cell_type": "code",
   "execution_count": 4,
   "id": "c5b8c52e",
   "metadata": {},
   "outputs": [],
   "source": [
    "cols = c(\"unique_id\", \"gender\", 'brand_gender', 'cat_gender', 'fav_product_gender', 'wDay_basket',\n",
    "         'wDay_favorite', 'wDay_order', 'wDay_search', 'wDay_visit', 'daytime_basket',\n",
    "         'daytime_favorite', 'daytime_order', 'daytime_search', 'daytime_visit')\n",
    "train[,(cols):=lapply(.SD, as.factor),.SDcols=cols]"
   ]
  },
  {
   "cell_type": "markdown",
   "id": "610d43b2",
   "metadata": {},
   "source": [
    "## Scaling\n",
    "Create a version of train data with scaling and centering numerical columns of training data to see if we can have improvement using scaling. "
   ]
  },
  {
   "cell_type": "code",
   "execution_count": 5,
   "id": "210bcf6e",
   "metadata": {},
   "outputs": [
    {
     "data": {
      "text/plain": [
       "Created from 5618 samples and 32 variables\n",
       "\n",
       "Pre-processing:\n",
       "  - centered (17)\n",
       "  - ignored (15)\n",
       "  - scaled (17)\n"
      ]
     },
     "metadata": {},
     "output_type": "display_data"
    }
   ],
   "source": [
    "preProcValues <- preProcess(train, method = c(\"center\", \"scale\"))\n",
    "preProcValues"
   ]
  },
  {
   "cell_type": "code",
   "execution_count": 6,
   "id": "0e171342",
   "metadata": {},
   "outputs": [],
   "source": [
    "train_scaled <- predict(preProcValues, train)"
   ]
  },
  {
   "cell_type": "markdown",
   "id": "cc99485c",
   "metadata": {},
   "source": [
    "## Metric Calcualtion Function\n",
    "We created a function calculating the performance metric mentioned in project description, average of AUC and BAR. We used perfo value from the result of the function to compare different models. "
   ]
  },
  {
   "cell_type": "code",
   "execution_count": 7,
   "id": "de902c6d",
   "metadata": {},
   "outputs": [],
   "source": [
    "performance<- function(data, lev, model){\n",
    "    two_class <- twoClassSummary(data, lev, model)\n",
    "    perfo = two_class[\"Sens\"]*0.25 + two_class[\"Spec\"]*0.25 + two_class[\"ROC\"]*0.5\n",
    "    names(perfo) = \"perfo\"\n",
    "    combined = c(two_class, perfo)\n",
    "    combined\n",
    "}"
   ]
  },
  {
   "cell_type": "markdown",
   "id": "c5590aa8",
   "metadata": {},
   "source": [
    "## CART\n",
    "Classification and regression tree runs and results using train data and scaled train data."
   ]
  },
  {
   "cell_type": "code",
   "execution_count": 8,
   "id": "d3485ce7",
   "metadata": {},
   "outputs": [],
   "source": [
    "n_repeats=5\n",
    "n_folds=10\n",
    "fitControl=trainControl(method = \"repeatedcv\",\n",
    "                        number = n_folds,\n",
    "                        repeats = n_repeats,\n",
    "                        classProbs=TRUE, \n",
    "                        summaryFunction=performance,\n",
    "                        sampling=\"up\"\n",
    "                       )\n",
    "cart_grid = expand.grid(cp=c(0:20)*0.00025)\n",
    "set.seed(1)\n",
    "cart_fit=train(gender ~ ., \n",
    "               data = train[, -c(\"unique_id\")],\n",
    "               method = \"rpart\", \n",
    "               trControl = fitControl, \n",
    "               metric = \"perfo\",\n",
    "               tuneGrid = cart_grid)"
   ]
  },
  {
   "cell_type": "code",
   "execution_count": 127,
   "id": "8aa45ad5",
   "metadata": {},
   "outputs": [
    {
     "data": {
      "text/plain": [
       "CART \n",
       "\n",
       "5618 samples\n",
       "  30 predictor\n",
       "   2 classes: 'F', 'M' \n",
       "\n",
       "No pre-processing\n",
       "Resampling: Cross-Validated (10 fold, repeated 5 times) \n",
       "Summary of sample sizes: 5057, 5056, 5056, 5056, 5056, 5056, ... \n",
       "Addtional sampling using up-sampling\n",
       "\n",
       "Resampling results across tuning parameters:\n",
       "\n",
       "  cp       ROC        Sens       Spec       perfo    \n",
       "  0.00000  0.8019384  0.7659710  0.6741536  0.7610004\n",
       "  0.00025  0.8038880  0.7638504  0.6914818  0.7657771\n",
       "  0.00050  0.8081701  0.7578157  0.7289221  0.7757695\n",
       "  0.00075  0.8145458  0.7497711  0.7621361  0.7852497\n",
       "  0.00100  0.8199531  0.7428650  0.7886523  0.7928559\n",
       "  0.00125  0.8252873  0.7377007  0.8045372  0.7982031\n",
       "  0.00150  0.8266386  0.7353096  0.8118605  0.8001118\n",
       "  0.00175  0.8285999  0.7324260  0.8192794  0.8022263\n",
       "  0.00200  0.8290963  0.7292187  0.8218567  0.8023170\n",
       "  0.00225  0.8289110  0.7259033  0.8277426  0.8028670\n",
       "  0.00250  0.8277447  0.7210122  0.8325885  0.8022725\n",
       "  0.00275  0.8254938  0.7200856  0.8314545  0.8006319\n",
       "  0.00300  0.8238127  0.7157911  0.8336195  0.7992590\n",
       "  0.00325  0.8224045  0.7127458  0.8354751  0.7982575\n",
       "  0.00350  0.8214349  0.7100829  0.8368164  0.7974423\n",
       "  0.00375  0.8206957  0.7088322  0.8368143  0.7967595\n",
       "  0.00400  0.8202636  0.7106240  0.8349586  0.7965275\n",
       "  0.00425  0.8199489  0.7114936  0.8333032  0.7961737\n",
       "  0.00450  0.8197709  0.7102426  0.8346434  0.7961070\n",
       "  0.00475  0.8192782  0.7089926  0.8357780  0.7958318\n",
       "  0.00500  0.8190575  0.7054600  0.8371182  0.7951733\n",
       "\n",
       "perfo was used to select the optimal model using the largest value.\n",
       "The final value used for the model was cp = 0.00225."
      ]
     },
     "metadata": {},
     "output_type": "display_data"
    }
   ],
   "source": [
    "cart_fit"
   ]
  },
  {
   "cell_type": "code",
   "execution_count": 30,
   "id": "832fd256",
   "metadata": {
    "scrolled": false
   },
   "outputs": [
    {
     "data": {
      "image/png": "[encoded data removed]",
      "text/plain": [
       "plot without title"
      ]
     },
     "metadata": {},
     "output_type": "display_data"
    }
   ],
   "source": [
    "plot(cart_fit, xlab=\"cp\", ylab=\"Performance\", main=\"CART Results\")"
   ]
  },
  {
   "cell_type": "markdown",
   "id": "4af82696",
   "metadata": {},
   "source": [
    "Best result is obtained with cp = 0.00225  "
   ]
  },
  {
   "cell_type": "code",
   "execution_count": 11,
   "id": "33430342",
   "metadata": {},
   "outputs": [],
   "source": [
    "set.seed(1)\n",
    "cart_fit_scaled=train(\n",
    "    gender ~ ., \n",
    "    data = train_scaled[, -c(\"unique_id\")],\n",
    "    method = \"rpart\", \n",
    "    trControl = fitControl, \n",
    "    metric = \"perfo\",\n",
    "    tuneGrid = cart_grid)"
   ]
  },
  {
   "cell_type": "code",
   "execution_count": 12,
   "id": "95af4041",
   "metadata": {
    "scrolled": false
   },
   "outputs": [
    {
     "data": {
      "text/plain": [
       "CART \n",
       "\n",
       "5618 samples\n",
       "  30 predictor\n",
       "   2 classes: 'F', 'M' \n",
       "\n",
       "No pre-processing\n",
       "Resampling: Cross-Validated (10 fold, repeated 5 times) \n",
       "Summary of sample sizes: 5057, 5056, 5056, 5056, 5056, 5056, ... \n",
       "Addtional sampling using up-sampling\n",
       "\n",
       "Resampling results across tuning parameters:\n",
       "\n",
       "  cp       ROC        Sens       Spec       perfo    \n",
       "  0.00000  0.8019103  0.7658078  0.6743603  0.7609972\n",
       "  0.00025  0.8038470  0.7636872  0.6916885  0.7657674\n",
       "  0.00050  0.8081227  0.7576525  0.7290257  0.7757309\n",
       "  0.00075  0.8145450  0.7496079  0.7622397  0.7852344\n",
       "  0.00100  0.8198940  0.7426475  0.7887559  0.7927979\n",
       "  0.00125  0.8252912  0.7375920  0.8045372  0.7981779\n",
       "  0.00150  0.8266307  0.7352010  0.8118605  0.8000807\n",
       "  0.00175  0.8285913  0.7323173  0.8192794  0.8021948\n",
       "  0.00200  0.8290860  0.7291100  0.8218567  0.8022847\n",
       "  0.00225  0.8289155  0.7258490  0.8277426  0.8028557\n",
       "  0.00250  0.8277625  0.7209578  0.8326922  0.8022938\n",
       "  0.00275  0.8255116  0.7200312  0.8315581  0.8006532\n",
       "  0.00300  0.8238272  0.7157367  0.8337231  0.7992785\n",
       "  0.00325  0.8224214  0.7126915  0.8355788  0.7982782\n",
       "  0.00350  0.8214697  0.7100829  0.8369200  0.7974856\n",
       "  0.00375  0.8207305  0.7088322  0.8369179  0.7968028\n",
       "  0.00400  0.8202967  0.7106240  0.8350622  0.7965699\n",
       "  0.00425  0.8199820  0.7114936  0.8334069  0.7962161\n",
       "  0.00450  0.8198040  0.7102426  0.8347471  0.7961494\n",
       "  0.00475  0.8193113  0.7089926  0.8358816  0.7958742\n",
       "  0.00500  0.8190906  0.7054600  0.8372218  0.7952157\n",
       "\n",
       "perfo was used to select the optimal model using the largest value.\n",
       "The final value used for the model was cp = 0.00225."
      ]
     },
     "metadata": {},
     "output_type": "display_data"
    }
   ],
   "source": [
    "cart_fit_scaled"
   ]
  },
  {
   "cell_type": "markdown",
   "id": "51453a28",
   "metadata": {},
   "source": [
    "Scaled train data did not change the results very much."
   ]
  },
  {
   "cell_type": "code",
   "execution_count": 31,
   "id": "a6ae2e8f",
   "metadata": {
    "scrolled": false
   },
   "outputs": [
    {
     "data": {
      "image/png": "[encoded data removed]",
      "text/plain": [
       "plot without title"
      ]
     },
     "metadata": {},
     "output_type": "display_data"
    }
   ],
   "source": [
    "plot(cart_fit_scaled, xlab=\"cp\", ylab=\"Performance\", main=\"CART Results with Scaled Train\")"
   ]
  },
  {
   "cell_type": "markdown",
   "id": "9bf9171f",
   "metadata": {},
   "source": [
    "## Lasso Regression\n",
    "Lasso regression runs and results"
   ]
  },
  {
   "cell_type": "code",
   "execution_count": 14,
   "id": "d89f82e9",
   "metadata": {},
   "outputs": [],
   "source": [
    "n_repeats=5\n",
    "n_folds=10\n",
    "fitControl=trainControl(method = \"repeatedcv\",\n",
    "                        number = n_folds,\n",
    "                        repeats = n_repeats,\n",
    "                        classProbs=TRUE, \n",
    "                        summaryFunction=performance,\n",
    "                        sampling=\"up\"\n",
    "                       )\n",
    "lasso_grid = expand.grid(alpha=1, lambda=c(1:50)*0.0001)\n",
    "set.seed(1)\n",
    "lasso_fit=train(gender ~ ., \n",
    "              data = train[, -c(\"unique_id\")],\n",
    "              method = \"glmnet\",\n",
    "              trControl = fitControl,\n",
    "              metric = \"perfo\",\n",
    "              tuneGrid = lasso_grid)"
   ]
  },
  {
   "cell_type": "code",
   "execution_count": 15,
   "id": "7fe45c65",
   "metadata": {
    "scrolled": false
   },
   "outputs": [
    {
     "data": {
      "text/plain": [
       "glmnet \n",
       "\n",
       "5618 samples\n",
       "  30 predictor\n",
       "   2 classes: 'F', 'M' \n",
       "\n",
       "No pre-processing\n",
       "Resampling: Cross-Validated (10 fold, repeated 5 times) \n",
       "Summary of sample sizes: 5057, 5056, 5056, 5056, 5056, 5056, ... \n",
       "Addtional sampling using up-sampling\n",
       "\n",
       "Resampling results across tuning parameters:\n",
       "\n",
       "  lambda  ROC        Sens       Spec       perfo    \n",
       "  0.0001  0.8269941  0.6573528  0.8568218  0.7920407\n",
       "  0.0002  0.8269145  0.6565368  0.8577496  0.7920289\n",
       "  0.0003  0.8268083  0.6555038  0.8587805  0.7919752\n",
       "  0.0004  0.8266653  0.6543620  0.8596063  0.7918247\n",
       "  0.0005  0.8265144  0.6532752  0.8602254  0.7916324\n",
       "  0.0006  0.8263832  0.6525129  0.8606373  0.7914791\n",
       "  0.0007  0.8262671  0.6513171  0.8615672  0.7913546\n",
       "  0.0008  0.8261014  0.6505555  0.8624961  0.7913136\n",
       "  0.0009  0.8259941  0.6497403  0.8635281  0.7913141\n",
       "  0.0010  0.8258794  0.6485442  0.8640436  0.7910866\n",
       "  0.0011  0.8257563  0.6478920  0.8648683  0.7910682\n",
       "  0.0012  0.8256108  0.6462066  0.8655900  0.7907546\n",
       "  0.0013  0.8254421  0.6458254  0.8666214  0.7908327\n",
       "  0.0014  0.8253170  0.6449557  0.8670349  0.7906561\n",
       "  0.0015  0.8251810  0.6440857  0.8677565  0.7905510\n",
       "  0.0016  0.8250346  0.6431073  0.8676545  0.7902077\n",
       "  0.0017  0.8248526  0.6418569  0.8677576  0.7898299\n",
       "  0.0018  0.8246891  0.6414761  0.8681705  0.7897562\n",
       "  0.0019  0.8244979  0.6406060  0.8682731  0.7894687\n",
       "  0.0020  0.8243723  0.6398993  0.8688911  0.7893838\n",
       "  0.0021  0.8241733  0.6387580  0.8690983  0.7890507\n",
       "  0.0022  0.8239700  0.6385951  0.8699241  0.7891148\n",
       "  0.0023  0.8238185  0.6376709  0.8704396  0.7889369\n",
       "  0.0024  0.8236735  0.6370728  0.8710582  0.7888695\n",
       "  0.0025  0.8235025  0.6363660  0.8720902  0.7888653\n",
       "  0.0026  0.8233118  0.6351699  0.8733289  0.7887806\n",
       "  0.0027  0.8231236  0.6345720  0.8738454  0.7886662\n",
       "  0.0028  0.8229518  0.6338655  0.8745687  0.7885844\n",
       "  0.0029  0.8227667  0.6331587  0.8751878  0.7884699\n",
       "  0.0030  0.8225707  0.6326152  0.8756007  0.7883393\n",
       "  0.0031  0.8223989  0.6320716  0.8759105  0.7881949\n",
       "  0.0032  0.8222169  0.6311477  0.8763228  0.7879761\n",
       "  0.0033  0.8220322  0.6303322  0.8765296  0.7877315\n",
       "  0.0034  0.8218458  0.6294081  0.8771487  0.7875621\n",
       "  0.0035  0.8216741  0.6286474  0.8775610  0.7873892\n",
       "  0.0036  0.8214695  0.6279952  0.8780765  0.7872527\n",
       "  0.0037  0.8213003  0.6274517  0.8781801  0.7870581\n",
       "  0.0038  0.8211250  0.6271798  0.8789023  0.7870831\n",
       "  0.0039  0.8209565  0.6266364  0.8789018  0.7868628\n",
       "  0.0040  0.8207810  0.6256579  0.8794172  0.7866593\n",
       "  0.0041  0.8206315  0.6251145  0.8795209  0.7864746\n",
       "  0.0042  0.8204428  0.6241903  0.8797265  0.7862006\n",
       "  0.0043  0.8202631  0.6237008  0.8801394  0.7860916\n",
       "  0.0044  0.8200808  0.6230485  0.8800363  0.7858116\n",
       "  0.0045  0.8199271  0.6222878  0.8804487  0.7856477\n",
       "  0.0046  0.8197457  0.6212005  0.8808611  0.7853882\n",
       "  0.0047  0.8195760  0.6205478  0.8809636  0.7851659\n",
       "  0.0048  0.8194249  0.6201128  0.8814796  0.7851106\n",
       "  0.0049  0.8192928  0.6198955  0.8817889  0.7850675\n",
       "  0.0050  0.8191607  0.6192431  0.8819951  0.7848899\n",
       "\n",
       "Tuning parameter 'alpha' was held constant at a value of 1\n",
       "perfo was used to select the optimal model using the largest value.\n",
       "The final values used for the model were alpha = 1 and lambda = 1e-04."
      ]
     },
     "metadata": {},
     "output_type": "display_data"
    }
   ],
   "source": [
    "lasso_fit"
   ]
  },
  {
   "cell_type": "code",
   "execution_count": 32,
   "id": "c9c98a25",
   "metadata": {
    "scrolled": false
   },
   "outputs": [
    {
     "data": {
      "image/png": "[encoded data removed]",
      "text/plain": [
       "plot without title"
      ]
     },
     "metadata": {},
     "output_type": "display_data"
    }
   ],
   "source": [
    "plot(lasso_fit, xlab=\"lambda\", ylab=\"Performance\", main=\"Lasso Results\")"
   ]
  },
  {
   "cell_type": "markdown",
   "id": "8b28b3ed",
   "metadata": {},
   "source": [
    "Best result is obtained with the smallest value of lambda, 0.0001. Smallest lambda may mean that the model does not intend to remove features."
   ]
  },
  {
   "cell_type": "code",
   "execution_count": 17,
   "id": "90792612",
   "metadata": {},
   "outputs": [],
   "source": [
    "n_repeats=5\n",
    "n_folds=10\n",
    "set.seed(1)\n",
    "lasso_fit_scaled=train(gender ~ ., \n",
    "              data = train_scaled[, -c(\"unique_id\")],\n",
    "              method = \"glmnet\",\n",
    "              trControl = fitControl,\n",
    "              metric = \"perfo\",\n",
    "              tuneGrid = lasso_grid)"
   ]
  },
  {
   "cell_type": "code",
   "execution_count": 18,
   "id": "a4d20536",
   "metadata": {
    "scrolled": false
   },
   "outputs": [
    {
     "data": {
      "text/plain": [
       "glmnet \n",
       "\n",
       "5618 samples\n",
       "  30 predictor\n",
       "   2 classes: 'F', 'M' \n",
       "\n",
       "No pre-processing\n",
       "Resampling: Cross-Validated (10 fold, repeated 5 times) \n",
       "Summary of sample sizes: 5057, 5056, 5056, 5056, 5056, 5056, ... \n",
       "Addtional sampling using up-sampling\n",
       "\n",
       "Resampling results across tuning parameters:\n",
       "\n",
       "  lambda  ROC        Sens       Spec       perfo    \n",
       "  0.0001  0.8269941  0.6573528  0.8568218  0.7920407\n",
       "  0.0002  0.8269145  0.6565368  0.8577496  0.7920289\n",
       "  0.0003  0.8268083  0.6555038  0.8587805  0.7919752\n",
       "  0.0004  0.8266653  0.6543620  0.8596063  0.7918247\n",
       "  0.0005  0.8265144  0.6532752  0.8602254  0.7916324\n",
       "  0.0006  0.8263832  0.6525129  0.8606373  0.7914791\n",
       "  0.0007  0.8262671  0.6513171  0.8615672  0.7913546\n",
       "  0.0008  0.8261014  0.6505555  0.8624961  0.7913136\n",
       "  0.0009  0.8259941  0.6497403  0.8635281  0.7913141\n",
       "  0.0010  0.8258794  0.6485442  0.8640436  0.7910866\n",
       "  0.0011  0.8257563  0.6478920  0.8648683  0.7910682\n",
       "  0.0012  0.8256108  0.6462066  0.8655900  0.7907546\n",
       "  0.0013  0.8254421  0.6458254  0.8666214  0.7908327\n",
       "  0.0014  0.8253170  0.6449557  0.8670349  0.7906561\n",
       "  0.0015  0.8251810  0.6440857  0.8677565  0.7905510\n",
       "  0.0016  0.8250346  0.6431073  0.8676545  0.7902077\n",
       "  0.0017  0.8248526  0.6418569  0.8677576  0.7898299\n",
       "  0.0018  0.8246891  0.6414761  0.8681705  0.7897562\n",
       "  0.0019  0.8244979  0.6406060  0.8682731  0.7894687\n",
       "  0.0020  0.8243723  0.6398993  0.8688911  0.7893838\n",
       "  0.0021  0.8241733  0.6387580  0.8690983  0.7890507\n",
       "  0.0022  0.8239700  0.6385951  0.8699241  0.7891148\n",
       "  0.0023  0.8238185  0.6376709  0.8704396  0.7889369\n",
       "  0.0024  0.8236735  0.6370728  0.8710582  0.7888695\n",
       "  0.0025  0.8235025  0.6363660  0.8720902  0.7888653\n",
       "  0.0026  0.8233118  0.6351699  0.8733289  0.7887806\n",
       "  0.0027  0.8231236  0.6345720  0.8738454  0.7886662\n",
       "  0.0028  0.8229518  0.6338655  0.8745687  0.7885844\n",
       "  0.0029  0.8227667  0.6331587  0.8751878  0.7884699\n",
       "  0.0030  0.8225707  0.6326152  0.8756007  0.7883393\n",
       "  0.0031  0.8223989  0.6320716  0.8759105  0.7881949\n",
       "  0.0032  0.8222169  0.6311477  0.8763228  0.7879761\n",
       "  0.0033  0.8220322  0.6303322  0.8765296  0.7877315\n",
       "  0.0034  0.8218458  0.6294081  0.8771487  0.7875621\n",
       "  0.0035  0.8216741  0.6286474  0.8775610  0.7873892\n",
       "  0.0036  0.8214695  0.6279952  0.8780765  0.7872527\n",
       "  0.0037  0.8213003  0.6274517  0.8781801  0.7870581\n",
       "  0.0038  0.8211250  0.6271798  0.8789023  0.7870831\n",
       "  0.0039  0.8209565  0.6266364  0.8789018  0.7868628\n",
       "  0.0040  0.8207810  0.6256579  0.8794172  0.7866593\n",
       "  0.0041  0.8206315  0.6251145  0.8795209  0.7864746\n",
       "  0.0042  0.8204428  0.6241903  0.8797265  0.7862006\n",
       "  0.0043  0.8202631  0.6237008  0.8801394  0.7860916\n",
       "  0.0044  0.8200808  0.6230485  0.8800363  0.7858116\n",
       "  0.0045  0.8199271  0.6222878  0.8804487  0.7856477\n",
       "  0.0046  0.8197457  0.6212005  0.8808611  0.7853882\n",
       "  0.0047  0.8195760  0.6205478  0.8809636  0.7851659\n",
       "  0.0048  0.8194249  0.6201128  0.8814796  0.7851106\n",
       "  0.0049  0.8192928  0.6198955  0.8817889  0.7850675\n",
       "  0.0050  0.8191607  0.6192431  0.8819951  0.7848899\n",
       "\n",
       "Tuning parameter 'alpha' was held constant at a value of 1\n",
       "perfo was used to select the optimal model using the largest value.\n",
       "The final values used for the model were alpha = 1 and lambda = 1e-04."
      ]
     },
     "metadata": {},
     "output_type": "display_data"
    }
   ],
   "source": [
    "lasso_fit_scaled"
   ]
  },
  {
   "cell_type": "markdown",
   "id": "6587f9a5",
   "metadata": {},
   "source": [
    "Scaled train did not improve the results, noticeably."
   ]
  },
  {
   "cell_type": "code",
   "execution_count": 33,
   "id": "64f7ab3c",
   "metadata": {
    "scrolled": false
   },
   "outputs": [
    {
     "data": {
      "image/png": "[encoded data removed]",
      "text/plain": [
       "plot without title"
      ]
     },
     "metadata": {},
     "output_type": "display_data"
    }
   ],
   "source": [
    "plot(lasso_fit_scaled, xlab=\"lambda\", ylab=\"Performance\", main=\"Lasso Results with Scaled Train\")"
   ]
  },
  {
   "cell_type": "markdown",
   "id": "6e9b6787",
   "metadata": {},
   "source": [
    "## Elastic Net\n",
    "ElasticNet Regression runs and results"
   ]
  },
  {
   "cell_type": "code",
   "execution_count": 22,
   "id": "efef28cf",
   "metadata": {},
   "outputs": [],
   "source": [
    "n_repeats=5\n",
    "n_folds=10\n",
    "fitControl=trainControl(method = \"repeatedcv\",\n",
    "                        number = n_folds,\n",
    "                        repeats = n_repeats,\n",
    "                        classProbs=TRUE, \n",
    "                        summaryFunction=performance,\n",
    "                        sampling=\"up\"\n",
    "                       )\n",
    "elas_grid = expand.grid(alpha = c(0.1, 0.25, 0.5, 0.75), lambda = c(0.001, 0.005, 0.01, 0.05))\n",
    "set.seed(1)\n",
    "elas_fit=train(gender ~ ., \n",
    "              data = train[, -c(\"unique_id\")],\n",
    "              method = \"glmnet\",\n",
    "              trControl = fitControl,\n",
    "              metric = \"perfo\",\n",
    "              tuneGrid = elas_grid)"
   ]
  },
  {
   "cell_type": "code",
   "execution_count": 23,
   "id": "13bdce75",
   "metadata": {},
   "outputs": [
    {
     "data": {
      "text/plain": [
       "glmnet \n",
       "\n",
       "5618 samples\n",
       "  30 predictor\n",
       "   2 classes: 'F', 'M' \n",
       "\n",
       "No pre-processing\n",
       "Resampling: Cross-Validated (10 fold, repeated 5 times) \n",
       "Summary of sample sizes: 5057, 5056, 5056, 5056, 5056, 5056, ... \n",
       "Addtional sampling using up-sampling\n",
       "\n",
       "Resampling results across tuning parameters:\n",
       "\n",
       "  alpha  lambda  ROC        Sens       Spec       perfo    \n",
       "  0.10   0.001   0.8237750  0.6511532  0.8569291  0.7889081\n",
       "  0.10   0.005   0.8175357  0.6422931  0.8579616  0.7838315\n",
       "  0.10   0.010   0.8137329  0.6358780  0.8617755  0.7812798\n",
       "  0.10   0.050   0.8027558  0.5985859  0.8771438  0.7703103\n",
       "  0.25   0.001   0.8237099  0.6514258  0.8566172  0.7888657\n",
       "  0.25   0.005   0.8176419  0.6393567  0.8610518  0.7839231\n",
       "  0.25   0.010   0.8135037  0.6279409  0.8679627  0.7807278\n",
       "  0.25   0.050   0.8009481  0.5790164  0.8864291  0.7668354\n",
       "  0.50   0.001   0.8247933  0.6502836  0.8618765  0.7904366\n",
       "  0.50   0.005   0.8182174  0.6322894  0.8717777  0.7851255\n",
       "  0.50   0.010   0.8138632  0.6152750  0.8809615  0.7809907\n",
       "  0.50   0.050   0.7975739  0.5435172  0.9018001  0.7601163\n",
       "  0.75   0.001   0.8251267  0.6502842  0.8619823  0.7906299\n",
       "  0.75   0.005   0.8189505  0.6247333  0.8785914  0.7853064\n",
       "  0.75   0.010   0.8136368  0.6055439  0.8876700  0.7801219\n",
       "  0.75   0.050   0.7755067  0.5186194  0.9039656  0.7433996\n",
       "\n",
       "perfo was used to select the optimal model using the largest value.\n",
       "The final values used for the model were alpha = 0.75 and lambda = 0.001."
      ]
     },
     "metadata": {},
     "output_type": "display_data"
    }
   ],
   "source": [
    "elas_fit"
   ]
  },
  {
   "cell_type": "code",
   "execution_count": 71,
   "id": "b39ce48c",
   "metadata": {},
   "outputs": [
    {
     "data": {
      "image/png": "[encoded data removed]",
      "text/plain": [
       "plot without title"
      ]
     },
     "metadata": {},
     "output_type": "display_data"
    }
   ],
   "source": [
    "plot(elas_fit, xlab=\"alpha\", ylab=\"Performance\", main=\"Elastic Net Results\" )"
   ]
  },
  {
   "cell_type": "markdown",
   "id": "4b622085",
   "metadata": {},
   "source": [
    "Alpha = 0.75 (highest), Lambda = 0.001 (lowest). Penalized low."
   ]
  },
  {
   "cell_type": "markdown",
   "id": "145013be",
   "metadata": {},
   "source": [
    "## Random Forest\n",
    "Random Forest runs and results"
   ]
  },
  {
   "cell_type": "code",
   "execution_count": 27,
   "id": "8d99a723",
   "metadata": {
    "scrolled": true
   },
   "outputs": [],
   "source": [
    "n_repeats=5\n",
    "n_folds=10\n",
    "fitControl=trainControl(method = \"repeatedcv\",\n",
    "                        number = n_folds,\n",
    "                        repeats = n_repeats,\n",
    "                        classProbs=TRUE, \n",
    "                        summaryFunction=performance,\n",
    "                        sampling=\"up\"\n",
    "                       )\n",
    "rf_grid = expand.grid(splitrule=c(\"gini\", \"extratrees\"), mtry = c(3, 6, 10, 20), min.node.size = 5)\n",
    "set.seed(1)\n",
    "rf_fit=train(gender ~ ., \n",
    "             data = train[, -c(\"unique_id\")],\n",
    "             method = \"ranger\",\n",
    "             trControl = fitControl,\n",
    "             metric = \"perfo\",\n",
    "             tuneGrid = rf_grid)"
   ]
  },
  {
   "cell_type": "code",
   "execution_count": 28,
   "id": "b57b0c9c",
   "metadata": {},
   "outputs": [
    {
     "data": {
      "text/plain": [
       "Random Forest \n",
       "\n",
       "5618 samples\n",
       "  30 predictor\n",
       "   2 classes: 'F', 'M' \n",
       "\n",
       "No pre-processing\n",
       "Resampling: Cross-Validated (10 fold, repeated 5 times) \n",
       "Summary of sample sizes: 5057, 5056, 5056, 5056, 5056, 5056, ... \n",
       "Addtional sampling using up-sampling\n",
       "\n",
       "Resampling results across tuning parameters:\n",
       "\n",
       "  splitrule   mtry  ROC        Sens       Spec       perfo    \n",
       "  gini         3    0.8610332  0.7796699  0.8013327  0.8257672\n",
       "  gini         6    0.8640422  0.8048928  0.7714262  0.8261008\n",
       "  gini        10    0.8639790  0.8105482  0.7627611  0.8253168\n",
       "  gini        20    0.8616785  0.8146225  0.7532691  0.8228122\n",
       "  extratrees   3    0.8295563  0.7220987  0.7945153  0.7939316\n",
       "  extratrees   6    0.8380733  0.7712952  0.7579104  0.8013380\n",
       "  extratrees  10    0.8407754  0.7865166  0.7403723  0.8021099\n",
       "  extratrees  20    0.8431684  0.7996727  0.7417189  0.8069321\n",
       "\n",
       "Tuning parameter 'min.node.size' was held constant at a value of 5\n",
       "perfo was used to select the optimal model using the largest value.\n",
       "The final values used for the model were mtry = 6, splitrule = gini\n",
       " and min.node.size = 5."
      ]
     },
     "metadata": {},
     "output_type": "display_data"
    }
   ],
   "source": [
    "rf_fit"
   ]
  },
  {
   "cell_type": "code",
   "execution_count": 29,
   "id": "3c9d657d",
   "metadata": {},
   "outputs": [
    {
     "data": {
      "image/png": "[encoded data removed]",
      "text/plain": [
       "plot without title"
      ]
     },
     "metadata": {},
     "output_type": "display_data"
    }
   ],
   "source": [
    "plot(rf_fit, ylab=\"Performance\", main=\"Random Forest Results\")"
   ]
  },
  {
   "cell_type": "markdown",
   "id": "4d1c9d5b",
   "metadata": {},
   "source": [
    "Gini split rule and 6 variables provided best results."
   ]
  },
  {
   "cell_type": "code",
   "execution_count": 72,
   "id": "0b179d18",
   "metadata": {},
   "outputs": [],
   "source": [
    "n_repeats=5\n",
    "n_folds=10\n",
    "fitControl=trainControl(method = \"repeatedcv\",\n",
    "                        number = n_folds,\n",
    "                        repeats = n_repeats,\n",
    "                        classProbs=TRUE, \n",
    "                        summaryFunction=performance,\n",
    "                        sampling=\"up\"\n",
    "                       )\n",
    "rf_grid = expand.grid(splitrule=c(\"gini\"), mtry = c(3, 6), min.node.size = 5)\n",
    "set.seed(1)\n",
    "rf_fit_scaled=train(gender ~ ., \n",
    "             data = train_scaled[, -c(\"unique_id\")],\n",
    "             method = \"ranger\",\n",
    "             trControl = fitControl,\n",
    "             metric = \"perfo\",\n",
    "             tuneGrid = rf_grid)"
   ]
  },
  {
   "cell_type": "code",
   "execution_count": 73,
   "id": "77bf6e8f",
   "metadata": {},
   "outputs": [
    {
     "data": {
      "text/plain": [
       "Random Forest \n",
       "\n",
       "5618 samples\n",
       "  30 predictor\n",
       "   2 classes: 'F', 'M' \n",
       "\n",
       "No pre-processing\n",
       "Resampling: Cross-Validated (10 fold, repeated 5 times) \n",
       "Summary of sample sizes: 5057, 5056, 5056, 5056, 5056, 5056, ... \n",
       "Addtional sampling using up-sampling\n",
       "\n",
       "Resampling results across tuning parameters:\n",
       "\n",
       "  mtry  ROC        Sens       Spec       perfo    \n",
       "  3     0.8605532  0.7796684  0.8028813  0.8259140\n",
       "  6     0.8641476  0.8036447  0.7710133  0.8257383\n",
       "\n",
       "Tuning parameter 'splitrule' was held constant at a value of gini\n",
       "\n",
       "Tuning parameter 'min.node.size' was held constant at a value of 5\n",
       "perfo was used to select the optimal model using the largest value.\n",
       "The final values used for the model were mtry = 3, splitrule = gini\n",
       " and min.node.size = 5."
      ]
     },
     "metadata": {},
     "output_type": "display_data"
    }
   ],
   "source": [
    "rf_fit_scaled"
   ]
  },
  {
   "cell_type": "markdown",
   "id": "bc1271c7",
   "metadata": {},
   "source": [
    "Scaled train did not improve results"
   ]
  },
  {
   "cell_type": "markdown",
   "id": "bd112ee2",
   "metadata": {},
   "source": [
    "## SVM\n",
    "Support Vector Machines runs adn results"
   ]
  },
  {
   "cell_type": "code",
   "execution_count": 74,
   "id": "3a700116",
   "metadata": {},
   "outputs": [],
   "source": [
    "n_repeats=5\n",
    "n_folds=10\n",
    "fitControl=trainControl(method = \"repeatedcv\",\n",
    "                        number = n_folds,\n",
    "                        repeats = n_repeats,\n",
    "                        classProbs=TRUE, \n",
    "                        summaryFunction=performance,\n",
    "                        sampling=\"up\"\n",
    "                       )\n",
    "svm_grid = expand.grid(C = c(0.25, 0.5, 1, 2), sigma = c(0.01, 0.02, 0.03))\n",
    "set.seed(1)\n",
    "svm_fit=train(gender ~ ., \n",
    "              data = train[, -c(\"unique_id\")],\n",
    "              method = \"svmRadial\", \n",
    "              trControl = fitControl, \n",
    "              metric = c(\"perfo\"),\n",
    "              tuneGrid = svm_grid)"
   ]
  },
  {
   "cell_type": "code",
   "execution_count": 75,
   "id": "388e835d",
   "metadata": {},
   "outputs": [
    {
     "data": {
      "text/plain": [
       "Support Vector Machines with Radial Basis Function Kernel \n",
       "\n",
       "5618 samples\n",
       "  30 predictor\n",
       "   2 classes: 'F', 'M' \n",
       "\n",
       "No pre-processing\n",
       "Resampling: Cross-Validated (10 fold, repeated 5 times) \n",
       "Summary of sample sizes: 5057, 5056, 5056, 5056, 5056, 5056, ... \n",
       "Addtional sampling using up-sampling\n",
       "\n",
       "Resampling results across tuning parameters:\n",
       "\n",
       "  C     sigma  ROC        Sens       Spec       perfo    \n",
       "  0.25  0.01   0.8043833  0.6119604  0.8686806  0.7723519\n",
       "  0.25  0.02   0.8011738  0.6528412  0.8333011  0.7721225\n",
       "  0.25  0.03   0.7927593  0.6682795  0.7934865  0.7618212\n",
       "  0.50  0.01   0.8127793  0.6416957  0.8601191  0.7818434\n",
       "  0.50  0.02   0.8061258  0.6734985  0.8098910  0.7739103\n",
       "  0.50  0.03   0.7977999  0.6954081  0.7619256  0.7632334\n",
       "  1.00  0.01   0.8171872  0.6630059  0.8375311  0.7837278\n",
       "  1.00  0.02   0.8083625  0.6991583  0.7793515  0.7738087\n",
       "  1.00  0.03   0.7972670  0.7190000  0.7298478  0.7608454\n",
       "  2.00  0.01   0.8182423  0.6812719  0.8146317  0.7830970\n",
       "  2.00  0.02   0.8063558  0.7225874  0.7455259  0.7702062\n",
       "  2.00  0.03   0.7939813  0.7397666  0.6887965  0.7541314\n",
       "\n",
       "perfo was used to select the optimal model using the largest value.\n",
       "The final values used for the model were sigma = 0.01 and C = 1."
      ]
     },
     "metadata": {},
     "output_type": "display_data"
    }
   ],
   "source": [
    "svm_fit"
   ]
  },
  {
   "cell_type": "code",
   "execution_count": 76,
   "id": "35d26a18",
   "metadata": {},
   "outputs": [
    {
     "data": {
      "image/png": "[encoded data removed]",
      "text/plain": [
       "plot without title"
      ]
     },
     "metadata": {},
     "output_type": "display_data"
    }
   ],
   "source": [
    "plot(svm_fit, ylab=\"Performance\", main=\"SVM Results\")"
   ]
  },
  {
   "cell_type": "markdown",
   "id": "f44f2c22",
   "metadata": {},
   "source": [
    "Best results are obtained with sigma = 0.01 and C = 1"
   ]
  },
  {
   "cell_type": "markdown",
   "id": "98ff1134",
   "metadata": {},
   "source": [
    "## GBM\n",
    "Runs and results for Gradient Boosting Machines"
   ]
  },
  {
   "cell_type": "code",
   "execution_count": null,
   "id": "7fca72d7",
   "metadata": {
    "scrolled": true
   },
   "outputs": [],
   "source": [
    "n_repeats=5\n",
    "n_folds=10\n",
    "fitControl=trainControl(method = \"repeatedcv\",\n",
    "                        number = n_folds,\n",
    "                        repeats = n_repeats,\n",
    "                        classProbs=TRUE, \n",
    "                        summaryFunction=performance,\n",
    "                        sampling=\"up\"\n",
    "                       )\n",
    "gbmGrid=expand.grid(interaction.depth = c(4, 5, 6), \n",
    "                        n.trees = c(1:8)*50, \n",
    "                        shrinkage = c(0.025, 0.05),\n",
    "                        n.minobsinnode = 10)\n",
    "set.seed(1)\n",
    "gbm_fit=train(gender ~ ., \n",
    "              data = train[, -c(\"unique_id\")],\n",
    "              method = \"gbm\", \n",
    "              trControl = fitControl, \n",
    "              metric = c(\"perfo\"),\n",
    "              tuneGrid = gbmGrid)"
   ]
  },
  {
   "cell_type": "code",
   "execution_count": 78,
   "id": "1088e54d",
   "metadata": {
    "scrolled": false
   },
   "outputs": [
    {
     "data": {
      "text/plain": [
       "Stochastic Gradient Boosting \n",
       "\n",
       "5618 samples\n",
       "  30 predictor\n",
       "   2 classes: 'F', 'M' \n",
       "\n",
       "No pre-processing\n",
       "Resampling: Cross-Validated (10 fold, repeated 5 times) \n",
       "Summary of sample sizes: 5057, 5056, 5056, 5056, 5056, 5056, ... \n",
       "Addtional sampling using up-sampling\n",
       "\n",
       "Resampling results across tuning parameters:\n",
       "\n",
       "  shrinkage  interaction.depth  n.trees  ROC        Sens       Spec     \n",
       "  0.025      4                   50      0.8539974  0.7153560  0.8417734\n",
       "  0.025      4                  100      0.8598394  0.7203576  0.8486854\n",
       "  0.025      4                  150      0.8634057  0.7280768  0.8495096\n",
       "  0.025      4                  200      0.8650514  0.7350366  0.8486838\n",
       "  0.025      4                  250      0.8658942  0.7408533  0.8451760\n",
       "  0.025      4                  300      0.8663220  0.7456923  0.8399151\n",
       "  0.025      4                  350      0.8665607  0.7494429  0.8363047\n",
       "  0.025      4                  400      0.8665634  0.7519436  0.8350692\n",
       "  0.025      5                   50      0.8563059  0.7150307  0.8440441\n",
       "  0.025      5                  100      0.8617022  0.7234027  0.8507473\n",
       "  0.025      5                  150      0.8647526  0.7320458  0.8519881\n",
       "  0.025      5                  200      0.8663058  0.7392217  0.8480685\n",
       "  0.025      5                  250      0.8669057  0.7459629  0.8426003\n",
       "  0.025      5                  300      0.8672867  0.7506388  0.8381646\n",
       "  0.025      5                  350      0.8674289  0.7528144  0.8357924\n",
       "  0.025      5                  400      0.8672844  0.7543903  0.8323888\n",
       "  0.025      6                   50      0.8578937  0.7135606  0.8518776\n",
       "  0.025      6                  100      0.8629887  0.7230746  0.8548710\n",
       "  0.025      6                  150      0.8657297  0.7348723  0.8511591\n",
       "  0.025      6                  200      0.8668084  0.7423747  0.8451760\n",
       "  0.025      6                  250      0.8669953  0.7481922  0.8389899\n",
       "  0.025      6                  300      0.8670858  0.7513455  0.8356899\n",
       "  0.025      6                  350      0.8670099  0.7541723  0.8328022\n",
       "  0.025      6                  400      0.8669080  0.7561834  0.8289878\n",
       "  0.050      4                   50      0.8596081  0.7188349  0.8496127\n",
       "  0.050      4                  100      0.8651330  0.7348177  0.8519823\n",
       "  0.050      4                  150      0.8665280  0.7445498  0.8434202\n",
       "  0.050      4                  200      0.8668571  0.7507472  0.8353768\n",
       "  0.050      4                  250      0.8668832  0.7548786  0.8324886\n",
       "  0.050      4                  300      0.8667451  0.7589557  0.8291849\n",
       "  0.050      4                  350      0.8663795  0.7621098  0.8254719\n",
       "  0.050      4                  400      0.8657926  0.7637411  0.8231019\n",
       "  0.050      5                   50      0.8610151  0.7215001  0.8510560\n",
       "  0.050      5                  100      0.8656541  0.7386237  0.8467267\n",
       "  0.050      5                  150      0.8664727  0.7485742  0.8355857\n",
       "  0.050      5                  200      0.8661636  0.7528157  0.8292912\n",
       "  0.050      5                  250      0.8658491  0.7570009  0.8254746\n",
       "  0.050      5                  300      0.8655030  0.7612422  0.8227937\n",
       "  0.050      5                  350      0.8649722  0.7627094  0.8192853\n",
       "  0.050      5                  400      0.8642536  0.7648839  0.8170157\n",
       "  0.050      6                   50      0.8623409  0.7267180  0.8539400\n",
       "  0.050      6                  100      0.8662699  0.7420482  0.8453827\n",
       "  0.050      6                  150      0.8663784  0.7514544  0.8349650\n",
       "  0.050      6                  200      0.8659302  0.7567818  0.8275349\n",
       "  0.050      6                  250      0.8654534  0.7594999  0.8232039\n",
       "  0.050      6                  300      0.8648588  0.7631430  0.8197992\n",
       "  0.050      6                  350      0.8641176  0.7644472  0.8160862\n",
       "  0.050      6                  400      0.8636214  0.7669484  0.8106202\n",
       "  perfo    \n",
       "  0.8162811\n",
       "  0.8221804\n",
       "  0.8260995\n",
       "  0.8284558\n",
       "  0.8294544\n",
       "  0.8295629\n",
       "  0.8297173\n",
       "  0.8300349\n",
       "  0.8179217\n",
       "  0.8243886\n",
       "  0.8283848\n",
       "  0.8299754\n",
       "  0.8305936\n",
       "  0.8308442\n",
       "  0.8308662\n",
       "  0.8303370\n",
       "  0.8203064\n",
       "  0.8259807\n",
       "  0.8293727\n",
       "  0.8302919\n",
       "  0.8302931\n",
       "  0.8303018\n",
       "  0.8302486\n",
       "  0.8297468\n",
       "  0.8219159\n",
       "  0.8292665\n",
       "  0.8302565\n",
       "  0.8299596\n",
       "  0.8302834\n",
       "  0.8304077\n",
       "  0.8300852\n",
       "  0.8296070\n",
       "  0.8236466\n",
       "  0.8291646\n",
       "  0.8292763\n",
       "  0.8286085\n",
       "  0.8285435\n",
       "  0.8287604\n",
       "  0.8279848\n",
       "  0.8276017\n",
       "  0.8263349\n",
       "  0.8299927\n",
       "  0.8297941\n",
       "  0.8290443\n",
       "  0.8284026\n",
       "  0.8281650\n",
       "  0.8271922\n",
       "  0.8262028\n",
       "\n",
       "Tuning parameter 'n.minobsinnode' was held constant at a value of 10\n",
       "perfo was used to select the optimal model using the largest value.\n",
       "The final values used for the model were n.trees = 350, interaction.depth =\n",
       " 5, shrinkage = 0.025 and n.minobsinnode = 10."
      ]
     },
     "metadata": {},
     "output_type": "display_data"
    }
   ],
   "source": [
    "gbm_fit"
   ]
  },
  {
   "cell_type": "code",
   "execution_count": 79,
   "id": "9d1ac980",
   "metadata": {},
   "outputs": [
    {
     "data": {
      "image/png": "[encoded data removed]",
      "text/plain": [
       "plot without title"
      ]
     },
     "metadata": {},
     "output_type": "display_data"
    }
   ],
   "source": [
    "plot(gbm_fit)"
   ]
  },
  {
   "cell_type": "code",
   "execution_count": null,
   "id": "2a6c0cf1",
   "metadata": {
    "scrolled": true
   },
   "outputs": [],
   "source": [
    "gbmGrid2=expand.grid(interaction.depth = c(4, 5, 6), \n",
    "                        n.trees = c(5:15)*100, \n",
    "                        shrinkage = c(0.01),\n",
    "                        n.minobsinnode = 10)\n",
    "set.seed(1)\n",
    "gbm_fit2=train(gender ~ ., \n",
    "              data = train[, -c(\"unique_id\")],\n",
    "              method = \"gbm\", \n",
    "              trControl = fitControl, \n",
    "              metric = c(\"perfo\"),\n",
    "              tuneGrid = gbmGrid2)"
   ]
  },
  {
   "cell_type": "code",
   "execution_count": 81,
   "id": "953bdde9",
   "metadata": {},
   "outputs": [
    {
     "data": {
      "text/plain": [
       "Stochastic Gradient Boosting \n",
       "\n",
       "5618 samples\n",
       "  30 predictor\n",
       "   2 classes: 'F', 'M' \n",
       "\n",
       "No pre-processing\n",
       "Resampling: Cross-Validated (10 fold, repeated 5 times) \n",
       "Summary of sample sizes: 5057, 5056, 5056, 5056, 5056, 5056, ... \n",
       "Addtional sampling using up-sampling\n",
       "\n",
       "Resampling results across tuning parameters:\n",
       "\n",
       "  interaction.depth  n.trees  ROC        Sens       Spec       perfo    \n",
       "  4                   500     0.8654553  0.7338939  0.8477544  0.8281397\n",
       "  4                   600     0.8662505  0.7396019  0.8454831  0.8293965\n",
       "  4                   700     0.8666813  0.7427005  0.8423898  0.8296132\n",
       "  4                   800     0.8671119  0.7462349  0.8399172  0.8300940\n",
       "  4                   900     0.8673181  0.7496598  0.8367197  0.8302539\n",
       "  4                  1000     0.8673667  0.7522691  0.8355852  0.8306469\n",
       "  4                  1100     0.8672889  0.7531936  0.8335233  0.8303237\n",
       "  4                  1200     0.8672667  0.7548242  0.8319748  0.8303331\n",
       "  4                  1300     0.8671784  0.7556942  0.8303248  0.8300939\n",
       "  4                  1400     0.8671047  0.7570534  0.8293959  0.8301646\n",
       "  4                  1500     0.8670435  0.7581409  0.8279515  0.8300449\n",
       "  5                   500     0.8662592  0.7399280  0.8488911  0.8303344\n",
       "  5                   600     0.8668207  0.7436786  0.8445601  0.8304700\n",
       "  5                   700     0.8671229  0.7468329  0.8402270  0.8303264\n",
       "  5                   800     0.8671686  0.7499319  0.8376486  0.8304794\n",
       "  5                   900     0.8672074  0.7525416  0.8362059  0.8307906\n",
       "  5                  1000     0.8672001  0.7544436  0.8347599  0.8309009\n",
       "  5                  1100     0.8671667  0.7555857  0.8321826  0.8305254\n",
       "  5                  1200     0.8670768  0.7565097  0.8311527  0.8304540\n",
       "  5                  1300     0.8668820  0.7586840  0.8292938  0.8304355\n",
       "  5                  1400     0.8666933  0.7591189  0.8272325  0.8299345\n",
       "  5                  1500     0.8665638  0.7614563  0.8255820  0.8300414\n",
       "  6                   500     0.8671041  0.7444944  0.8437327  0.8306088\n",
       "  6                   600     0.8675422  0.7480291  0.8395011  0.8306537\n",
       "  6                   700     0.8676392  0.7513455  0.8374392  0.8310158\n",
       "  6                   800     0.8675245  0.7538464  0.8353752  0.8310676\n",
       "  6                   900     0.8675274  0.7553687  0.8315581  0.8304954\n",
       "  6                  1000     0.8673801  0.7568360  0.8295983  0.8302986\n",
       "  6                  1100     0.8671665  0.7579774  0.8293927  0.8304258\n",
       "  6                  1200     0.8670493  0.7593361  0.8269168  0.8300879\n",
       "  6                  1300     0.8667976  0.7598795  0.8247530  0.8295569\n",
       "  6                  1400     0.8665821  0.7617825  0.8242380  0.8297962\n",
       "  6                  1500     0.8664210  0.7629244  0.8223818  0.8295370\n",
       "\n",
       "Tuning parameter 'shrinkage' was held constant at a value of 0.01\n",
       "\n",
       "Tuning parameter 'n.minobsinnode' was held constant at a value of 10\n",
       "perfo was used to select the optimal model using the largest value.\n",
       "The final values used for the model were n.trees = 800, interaction.depth =\n",
       " 6, shrinkage = 0.01 and n.minobsinnode = 10."
      ]
     },
     "metadata": {},
     "output_type": "display_data"
    }
   ],
   "source": [
    "gbm_fit2"
   ]
  },
  {
   "cell_type": "code",
   "execution_count": 82,
   "id": "0c373c41",
   "metadata": {},
   "outputs": [
    {
     "data": {
      "image/png": "[encoded data removed]",
      "text/plain": [
       "plot without title"
      ]
     },
     "metadata": {},
     "output_type": "display_data"
    }
   ],
   "source": [
    "plot(gbm_fit2)"
   ]
  },
  {
   "cell_type": "markdown",
   "id": "c9212560",
   "metadata": {},
   "source": [
    "Best run is with learning rate 0.01, depth 6, ntree 600."
   ]
  },
  {
   "cell_type": "markdown",
   "id": "a71b1062",
   "metadata": {},
   "source": [
    "An old run below is preserved to be a reference fro parameter grids."
   ]
  },
  {
   "cell_type": "code",
   "execution_count": 128,
   "id": "cd7576ba",
   "metadata": {},
   "outputs": [
    {
     "name": "stderr",
     "output_type": "stream",
     "text": [
      "IOPub data rate exceeded.\n",
      "The notebook server will temporarily stop sending output\n",
      "to the client in order to avoid crashing it.\n",
      "To change this limit, set the config variable\n",
      "`--NotebookApp.iopub_data_rate_limit`.\n",
      "\n",
      "Current values:\n",
      "NotebookApp.iopub_data_rate_limit=1000000.0 (bytes/sec)\n",
      "NotebookApp.rate_limit_window=3.0 (secs)\n",
      "\n"
     ]
    }
   ],
   "source": [
    "n_repeats=5\n",
    "n_folds=10\n",
    "fitControl=trainControl(method = \"repeatedcv\",\n",
    "                        number = n_folds,\n",
    "                        repeats = n_repeats,\n",
    "                        classProbs=TRUE, \n",
    "                        summaryFunction=performance,\n",
    "                        preProc = c(\"center\", \"scale\", \"nzv\"),\n",
    "                        sampling=\"up\"\n",
    "                       )\n",
    "gbmGrid2=expand.grid(interaction.depth = c( 3, 4, 5, 6, 7), \n",
    "                        n.trees = c(1:20)*50, \n",
    "                        shrinkage = c(0.01, 0.025, 0.05, 0.1),\n",
    "                        n.minobsinnode = 10)\n",
    "set.seed(1)\n",
    "gbm_fit_scaled_2=train(gender ~ ., \n",
    "                       data = train[, -c(\"unique_id\")],\n",
    "                       method = \"gbm\", \n",
    "                       trControl = fitControl, \n",
    "                       metric = c(\"perfo\"),\n",
    "                       tuneGrid = gbmGrid2)"
   ]
  },
  {
   "cell_type": "code",
   "execution_count": 129,
   "id": "162c4c8e",
   "metadata": {},
   "outputs": [
    {
     "data": {
      "text/plain": [
       "Stochastic Gradient Boosting \n",
       "\n",
       "5618 samples\n",
       "  24 predictor\n",
       "   2 classes: 'F', 'M' \n",
       "\n",
       "No pre-processing\n",
       "Resampling: Cross-Validated (10 fold, repeated 5 times) \n",
       "Summary of sample sizes: 5057, 5056, 5056, 5056, 5056, 5056, ... \n",
       "Addtional sampling using up-sampling\n",
       "\n",
       "Resampling results across tuning parameters:\n",
       "\n",
       "  shrinkage  interaction.depth  n.trees  ROC        Sens       Spec     \n",
       "  0.010      3                    50     0.8219434  0.6743130  0.8303146\n",
       "  0.010      3                   100     0.8293355  0.6767055  0.8368143\n",
       "  0.010      3                   150     0.8330622  0.6782276  0.8404241\n",
       "  0.010      3                   200     0.8362224  0.6789347  0.8444469\n",
       "  0.010      3                   250     0.8392935  0.6826860  0.8480594\n",
       "  0.010      3                   300     0.8415976  0.6893730  0.8520816\n",
       "  0.010      3                   350     0.8433697  0.6948630  0.8519780\n",
       "  0.010      3                   400     0.8447271  0.6988320  0.8520816\n",
       "  0.010      3                   450     0.8460522  0.7017671  0.8523925\n",
       "  0.010      3                   500     0.8470156  0.7042676  0.8564163\n",
       "  0.010      3                   550     0.8479661  0.7058983  0.8566225\n",
       "  0.010      3                   600     0.8487418  0.7080724  0.8567261\n",
       "  0.010      3                   650     0.8494617  0.7097032  0.8559014\n",
       "  0.010      3                   700     0.8500540  0.7117687  0.8554880\n",
       "  0.010      3                   750     0.8505204  0.7137263  0.8543534\n",
       "  0.010      3                   800     0.8509831  0.7159552  0.8540415\n",
       "  0.010      3                   850     0.8512856  0.7187270  0.8538347\n",
       "  0.010      3                   900     0.8516308  0.7201949  0.8527012\n",
       "  0.010      3                   950     0.8519021  0.7216629  0.8520827\n",
       "  0.010      3                  1000     0.8522014  0.7230764  0.8505347\n",
       "  0.010      4                    50     0.8274048  0.6752920  0.8394968\n",
       "  0.010      4                   100     0.8340276  0.6785544  0.8418701\n",
       "  0.010      4                   150     0.8384675  0.6869271  0.8435212\n",
       "  0.010      4                   200     0.8415649  0.6946467  0.8467187\n",
       "  0.010      4                   250     0.8438822  0.6984519  0.8497100\n",
       "  0.010      4                   300     0.8457052  0.7030180  0.8531141\n",
       "  0.010      4                   350     0.8473547  0.7062256  0.8560024\n",
       "  0.010      4                   400     0.8486234  0.7080195  0.8577549\n",
       "  0.010      4                   450     0.8496548  0.7100850  0.8564174\n",
       "  0.010      4                   500     0.8505281  0.7117162  0.8563164\n",
       "  0.010      4                   550     0.8511162  0.7138902  0.8554901\n",
       "  0.010      4                   600     0.8517152  0.7163908  0.8537364\n",
       "  0.010      4                   650     0.8522495  0.7193259  0.8532199\n",
       "  0.010      4                   700     0.8525769  0.7222077  0.8519817\n",
       "  0.010      4                   750     0.8528989  0.7247078  0.8502286\n",
       "  0.010      4                   800     0.8531777  0.7272087  0.8491966\n",
       "  0.010      4                   850     0.8534474  0.7286226  0.8480610\n",
       "  0.010      4                   900     0.8535844  0.7295476  0.8469264\n",
       "  0.010      4                   950     0.8536752  0.7314508  0.8465130\n",
       "  0.010      4                  1000     0.8537714  0.7326465  0.8456877\n",
       "  0.010      5                    50     0.8317142  0.6762700  0.8449645\n",
       "  0.010      5                   100     0.8374799  0.6836102  0.8459997\n",
       "  0.010      5                   150     0.8413742  0.6963303  0.8460002\n",
       "  0.010      5                   200     0.8442847  0.7017116  0.8490951\n",
       "  0.010      5                   250     0.8463796  0.7054083  0.8544565\n",
       "  0.010      5                   300     0.8482314  0.7074742  0.8561081\n",
       "  0.010      5                   350     0.8497329  0.7094858  0.8572448\n",
       "  0.010      5                   400     0.8508032  0.7116601  0.8571417\n",
       "  0.010      5                   450     0.8516999  0.7140514  0.8556973\n",
       "  0.010      5                   500     0.8523014  0.7160089  0.8550777\n",
       "  0.010      5                   550     0.8528686  0.7195974  0.8524988\n",
       "  0.010      5                   600     0.8533084  0.7225327  0.8515710\n",
       "  0.010      5                   650     0.8535940  0.7254139  0.8496111\n",
       "  0.010      5                   700     0.8539648  0.7272625  0.8482709\n",
       "  0.010      5                   750     0.8540606  0.7288936  0.8465162\n",
       "  0.010      5                   800     0.8541988  0.7308511  0.8447636\n",
       "  0.010      5                   850     0.8543599  0.7324276  0.8444533\n",
       "  0.010      5                   900     0.8544170  0.7341672  0.8425971\n",
       "  0.010      5                   950     0.8544160  0.7352001  0.8415646\n",
       "  0.010      5                  1000     0.8544469  0.7359615  0.8416676\n",
       "  0.010      6                    50     0.8347561  0.6799665  0.8480594\n",
       "  0.010      6                   100     0.8396429  0.6936123  0.8459959\n",
       "  0.010      6                   150     0.8435121  0.7013314  0.8474414\n",
       "  0.010      6                   200     0.8459833  0.7070941  0.8510544\n",
       "  0.010      6                   250     0.8481570  0.7093228  0.8548689\n",
       "  0.010      6                   300     0.8496083  0.7111166  0.8555900\n",
       "  0.010      6                   350     0.8507575  0.7138889  0.8552818\n",
       "  0.010      6                   400     0.8516131  0.7167157  0.8546643\n",
       "  0.010      6                   450     0.8523558  0.7203582  0.8537359\n",
       "  0.010      6                   500     0.8529916  0.7240559  0.8523952\n",
       "  0.010      6                   550     0.8533622  0.7271000  0.8495064\n",
       "  0.010      6                   600     0.8536510  0.7296553  0.8484744\n",
       "  0.010      6                   650     0.8539197  0.7317757  0.8459991\n",
       "  0.010      6                   700     0.8540874  0.7332982  0.8448641\n",
       "  0.010      6                   750     0.8542418  0.7354185  0.8430079\n",
       "  0.010      6                   800     0.8542675  0.7365057  0.8419748\n",
       "  0.010      6                   850     0.8543280  0.7373753  0.8413562\n",
       "  0.010      6                   900     0.8544208  0.7382455  0.8400150\n",
       "  0.010      6                   950     0.8543669  0.7391149  0.8392922\n",
       "  0.010      6                  1000     0.8543588  0.7400388  0.8386737\n",
       "  0.010      7                    50     0.8369901  0.6904586  0.8479590\n",
       "  0.010      7                   100     0.8420174  0.6982324  0.8508466\n",
       "  0.010      7                   150     0.8454300  0.7036145  0.8547674\n",
       "  0.010      7                   200     0.8476417  0.7078541  0.8552860\n",
       "  0.010      7                   250     0.8496354  0.7102461  0.8554912\n",
       "  0.010      7                   300     0.8512264  0.7130187  0.8556957\n",
       "  0.010      7                   350     0.8523428  0.7164437  0.8541472\n",
       "  0.010      7                   400     0.8531375  0.7201940  0.8525992\n",
       "  0.010      7                   450     0.8536959  0.7237275  0.8515683\n",
       "  0.010      7                   500     0.8540401  0.7267168  0.8484723\n",
       "  0.010      7                   550     0.8543640  0.7292727  0.8465125\n",
       "  0.010      7                   600     0.8545900  0.7313928  0.8453779\n",
       "  0.010      7                   650     0.8547328  0.7326983  0.8443449\n",
       "  0.010      7                   700     0.8548496  0.7344382  0.8429021\n",
       "  0.010      7                   750     0.8548496  0.7366675  0.8412505\n",
       "  0.010      7                   800     0.8548964  0.7381895  0.8395999\n",
       "  0.010      7                   850     0.8548975  0.7393315  0.8377437\n",
       "  0.010      7                   900     0.8549507  0.7407994  0.8359895\n",
       "  0.010      7                   950     0.8549413  0.7418866  0.8351632\n",
       "  0.010      7                  1000     0.8549156  0.7426478  0.8340292\n",
       "  0.025      3                    50     0.8308341  0.6786081  0.8378468\n",
       "  0.025      3                   100     0.8392199  0.6835015  0.8465109\n",
       "  0.025      3                   150     0.8441227  0.6964938  0.8523882\n",
       "  0.025      3                   200     0.8472682  0.7029629  0.8563116\n",
       "  0.025      3                   250     0.8491543  0.7080180  0.8550745\n",
       "  0.025      3                   300     0.8506137  0.7132364  0.8540431\n",
       "  0.025      3                   350     0.8515420  0.7192168  0.8518765\n",
       "  0.025      3                   400     0.8522240  0.7224787  0.8502259\n",
       "  0.025      3                   450     0.8527500  0.7259577  0.8487810\n",
       "  0.025      3                   500     0.8531419  0.7298179  0.8467187\n",
       "  0.025      3                   550     0.8532557  0.7318837  0.8450681\n",
       "  0.025      3                   600     0.8532596  0.7340043  0.8424892\n",
       "  0.025      3                   650     0.8533801  0.7365585  0.8412515\n",
       "  0.025      3                   700     0.8533726  0.7373746  0.8387730\n",
       "  0.025      3                   750     0.8533764  0.7391685  0.8374323\n",
       "  0.025      3                   800     0.8532638  0.7402557  0.8361952\n",
       "  0.025      3                   850     0.8531699  0.7414521  0.8346483\n",
       "  0.025      3                   900     0.8529983  0.7425936  0.8331003\n",
       "  0.025      3                   950     0.8528180  0.7430830  0.8321714\n",
       "  0.025      3                  1000     0.8526587  0.7438445  0.8295940\n",
       "  0.025      4                    50     0.8361808  0.6795312  0.8436211\n",
       "  0.025      4                   100     0.8431427  0.6982324  0.8504332\n",
       "  0.025      4                   150     0.8477147  0.7059512  0.8552770\n",
       "  0.025      4                   200     0.8502423  0.7111700  0.8558987\n",
       "  0.025      4                   250     0.8519129  0.7174770  0.8536328\n",
       "  0.025      4                   300     0.8527523  0.7234577  0.8508482\n",
       "  0.025      4                   350     0.8532819  0.7283502  0.8469280\n",
       "  0.025      4                   400     0.8536982  0.7329718  0.8426975\n",
       "  0.025      4                   450     0.8538745  0.7346567  0.8405326\n",
       "  0.025      4                   500     0.8538678  0.7377553  0.8396026\n",
       "  0.025      4                   550     0.8538068  0.7398219  0.8374355\n",
       "  0.025      4                   600     0.8535575  0.7405835  0.8352716\n",
       "  0.025      4                   650     0.8532504  0.7433016  0.8331051\n",
       "  0.025      4                   700     0.8533264  0.7442254  0.8306271\n",
       "  0.025      4                   750     0.8532067  0.7454762  0.8280492\n",
       "  0.025      4                   800     0.8529705  0.7470528  0.8272245\n",
       "  0.025      4                   850     0.8529357  0.7483023  0.8247492\n",
       "  0.025      4                   900     0.8526569  0.7493351  0.8242327\n",
       "  0.025      4                   950     0.8523939  0.7499880  0.8225821\n",
       "  0.025      4                  1000     0.8522500  0.7508568  0.8223754\n",
       "  0.025      5                    50     0.8393823  0.6906227  0.8466140\n",
       "  0.025      5                   100     0.8461945  0.7067677  0.8529064\n",
       "  0.025      5                   150     0.8499752  0.7128017  0.8568287\n",
       "  0.025      5                   200     0.8519427  0.7185100  0.8551803\n",
       "  0.025      5                   250     0.8533009  0.7243262  0.8518760\n",
       "  0.025      5                   300     0.8538899  0.7305236  0.8468218\n",
       "  0.025      5                   350     0.8541594  0.7347102  0.8442407\n",
       "  0.025      5                   400     0.8541738  0.7377552  0.8421783\n",
       "  0.025      5                   450     0.8541651  0.7406917  0.8382586\n",
       "  0.025      5                   500     0.8540120  0.7425400  0.8354719\n",
       "  0.025      5                   550     0.8539239  0.7454754  0.8331008\n",
       "  0.025      5                   600     0.8537906  0.7468342  0.8303157\n",
       "  0.025      5                   650     0.8536333  0.7479762  0.8285636\n",
       "  0.025      5                   700     0.8533998  0.7493354  0.8267064\n",
       "  0.025      5                   750     0.8531879  0.7509660  0.8248496\n",
       "  0.025      5                   800     0.8530625  0.7518361  0.8225800\n",
       "  0.025      5                   850     0.8528504  0.7533034  0.8200021\n",
       "  0.025      5                   900     0.8524744  0.7541735  0.8184547\n",
       "  0.025      5                   950     0.8523394  0.7550431  0.8173207\n",
       "  0.025      5                  1000     0.8523022  0.7562399  0.8149485\n",
       "  0.025      6                    50     0.8412421  0.6962223  0.8454783\n",
       "  0.025      6                   100     0.8478022  0.7081261  0.8553833\n",
       "  0.025      6                   150     0.8513504  0.7147586  0.8538385\n",
       "  0.025      6                   200     0.8529683  0.7220427  0.8499199\n",
       "  0.025      6                   250     0.8539083  0.7294913  0.8465151\n",
       "  0.025      6                   300     0.8543054  0.7332974  0.8439362\n",
       "  0.025      6                   350     0.8545148  0.7364496  0.8411495\n",
       "  0.025      6                   400     0.8544770  0.7402550  0.8372293\n",
       "  0.025      6                   450     0.8543493  0.7428643  0.8342375\n",
       "  0.025      6                   500     0.8542312  0.7447132  0.8301095\n",
       "  0.025      6                   550     0.8540718  0.7473224  0.8268095\n",
       "  0.025      6                   600     0.8537512  0.7494429  0.8243342\n",
       "  0.025      6                   650     0.8533769  0.7513470  0.8216532\n",
       "  0.025      6                   700     0.8531633  0.7528139  0.8190743\n",
       "  0.025      6                   750     0.8528704  0.7546625  0.8175290\n",
       "  0.025      6                   800     0.8524675  0.7556406  0.8156738\n",
       "  0.025      6                   850     0.8522457  0.7565659  0.8147460\n",
       "  0.025      6                   900     0.8519716  0.7577614  0.8137145\n",
       "  0.025      6                   950     0.8516069  0.7588483  0.8120640\n",
       "  0.025      6                  1000     0.8512605  0.7600441  0.8098980\n",
       "  0.025      7                    50     0.8428657  0.7004063  0.8517691\n",
       "  0.025      7                   100     0.8493816  0.7100289  0.8550724\n",
       "  0.025      7                   150     0.8525488  0.7181840  0.8532183\n",
       "  0.025      7                   200     0.8538252  0.7267733  0.8482677\n",
       "  0.025      7                   250     0.8541292  0.7316128  0.8440377\n",
       "  0.025      7                   300     0.8544452  0.7369956  0.8409428\n",
       "  0.025      7                   350     0.8546220  0.7404204  0.8372304\n",
       "  0.025      7                   400     0.8545969  0.7434103  0.8346509\n",
       "  0.025      7                   450     0.8544583  0.7461284  0.8298018\n",
       "  0.025      7                   500     0.8541461  0.7490642  0.8262951\n",
       "  0.025      7                   550     0.8540734  0.7517821  0.8232028\n",
       "  0.025      7                   600     0.8538079  0.7533585  0.8200053\n",
       "  0.025      7                   650     0.8534315  0.7546627  0.8171193\n",
       "  0.025      7                   700     0.8530989  0.7567288  0.8151584\n",
       "  0.025      7                   750     0.8528758  0.7579250  0.8140244\n",
       "  0.025      7                   800     0.8524549  0.7593388  0.8120624\n",
       "  0.025      7                   850     0.8521501  0.7603708  0.8113386\n",
       "  0.025      7                   900     0.8517597  0.7606979  0.8092762\n",
       "  0.025      7                   950     0.8512617  0.7618939  0.8063853\n",
       "  0.025      7                  1000     0.8509019  0.7637971  0.8049431\n",
       "  0.050      3                    50     0.8378603  0.6840444  0.8468212\n",
       "  0.050      3                   100     0.8467393  0.7047549  0.8538406\n",
       "  0.050      3                   150     0.8500741  0.7151382  0.8542503\n",
       "  0.050      3                   200     0.8515162  0.7231850  0.8482672\n",
       "  0.050      3                   250     0.8524538  0.7296553  0.8440372\n",
       "  0.050      3                   300     0.8526107  0.7345473  0.8415608\n",
       "  0.050      3                   350     0.8529308  0.7386255  0.8399108\n",
       "  0.050      3                   400     0.8527835  0.7413434  0.8366113\n",
       "  0.050      3                   450     0.8524522  0.7423766  0.8330025\n",
       "  0.050      3                   500     0.8521754  0.7437901  0.8305261\n",
       "  0.050      3                   550     0.8520612  0.7454215  0.8262967\n",
       "  0.050      3                   600     0.8518948  0.7476500  0.8238224\n",
       "  0.050      3                   650     0.8517245  0.7484106  0.8217563\n",
       "  0.050      3                   700     0.8514790  0.7498248  0.8195887\n",
       "  0.050      3                   750     0.8512538  0.7511835  0.8165974\n",
       "  0.050      3                   800     0.8506530  0.7514012  0.8159783\n",
       "  0.050      3                   850     0.8505026  0.7536305  0.8148443\n",
       "  0.050      3                   900     0.8501857  0.7542283  0.8119561\n",
       "  0.050      3                   950     0.8498726  0.7546630  0.8118509\n",
       "  0.050      3                  1000     0.8496728  0.7550429  0.8102014\n",
       "  0.050      4                    50     0.8428311  0.6986686  0.8484712\n",
       "  0.050      4                   100     0.8495868  0.7131824  0.8543555\n",
       "  0.050      4                   150     0.8520226  0.7240573  0.8498136\n",
       "  0.050      4                   200     0.8531098  0.7317772  0.8448625\n",
       "  0.050      4                   250     0.8532507  0.7378656  0.8390861\n",
       "  0.050      4                   300     0.8533355  0.7419967  0.8338240\n",
       "  0.050      4                   350     0.8531142  0.7441725  0.8305219\n",
       "  0.050      4                   400     0.8529323  0.7456945  0.8274286\n",
       "  0.050      4                   450     0.8527690  0.7474886  0.8234069\n",
       "  0.050      4                   500     0.8524760  0.7506951  0.8201042\n",
       "  0.050      4                   550     0.8521248  0.7525977  0.8195876\n",
       "  0.050      4                   600     0.8519849  0.7544466  0.8159762\n",
       "  0.050      4                   650     0.8515782  0.7552629  0.8145339\n",
       "  0.050      4                   700     0.8511365  0.7568934  0.8121633\n",
       "  0.050      4                   750     0.8505737  0.7575461  0.8087607\n",
       "  0.050      4                   800     0.8500722  0.7586869  0.8070071\n",
       "  0.050      4                   850     0.8497931  0.7600462  0.8047396\n",
       "  0.050      4                   900     0.8495110  0.7612964  0.8026767\n",
       "  0.050      4                   950     0.8489853  0.7626552  0.8019540\n",
       "  0.050      4                  1000     0.8488183  0.7637422  0.8008173\n",
       "  0.050      5                    50     0.8458934  0.7048642  0.8542455\n",
       "  0.050      5                   100     0.8519493  0.7184560  0.8536318\n",
       "  0.050      5                   150     0.8535810  0.7313396  0.8471300\n",
       "  0.050      5                   200     0.8536286  0.7376463  0.8414567\n",
       "  0.050      5                   250     0.8539223  0.7423227  0.8353699\n",
       "  0.050      5                   300     0.8533925  0.7449326  0.8310373\n",
       "  0.050      5                   350     0.8530778  0.7481932  0.8268079\n",
       "  0.050      5                   400     0.8526087  0.7496619  0.8227840\n",
       "  0.050      5                   450     0.8518072  0.7517821  0.8185588\n",
       "  0.050      5                   500     0.8511943  0.7541201  0.8140222\n",
       "  0.050      5                   550     0.8508180  0.7560769  0.8120613\n",
       "  0.050      5                   600     0.8504536  0.7589037  0.8079349\n",
       "  0.050      5                   650     0.8500689  0.7598824  0.8069045\n",
       "  0.050      5                   700     0.8496321  0.7608614  0.8048416\n",
       "  0.050      5                   750     0.8491838  0.7621116  0.8028834\n",
       "  0.050      5                   800     0.8487845  0.7627645  0.8002008\n",
       "  0.050      5                   850     0.8484431  0.7643951  0.7977250\n",
       "  0.050      5                   900     0.8480367  0.7657541  0.7937023\n",
       "  0.050      5                   950     0.8476370  0.7673846  0.7921559\n",
       "  0.050      5                  1000     0.8472950  0.7679286  0.7892709\n",
       "  0.050      6                    50     0.8483215  0.7058981  0.8557978\n",
       "  0.050      6                   100     0.8528239  0.7231308  0.8515720\n",
       "  0.050      6                   150     0.8539176  0.7337336  0.8441413\n",
       "  0.050      6                   200     0.8538048  0.7393863  0.8350617\n",
       "  0.050      6                   250     0.8534080  0.7452583  0.8290818\n",
       "  0.050      6                   300     0.8529523  0.7486292  0.8223765\n",
       "  0.050      6                   350     0.8523915  0.7518370  0.8182522\n",
       "  0.050      6                   400     0.8520450  0.7541743  0.8150590\n",
       "  0.050      6                   450     0.8514371  0.7568915  0.8111372\n",
       "  0.050      6                   500     0.8510641  0.7588485  0.8087629\n",
       "  0.050      6                   550     0.8505693  0.7606439  0.8067026\n",
       "  0.050      6                   600     0.8503944  0.7628176  0.8038160\n",
       "  0.050      6                   650     0.8499149  0.7640691  0.8018535\n",
       "  0.050      6                   700     0.8494585  0.7664061  0.7991753\n",
       "  0.050      6                   750     0.8490955  0.7674381  0.7950473\n",
       "  0.050      6                   800     0.8485924  0.7679825  0.7932952\n",
       "  0.050      6                   850     0.8480363  0.7701026  0.7887565\n",
       "  0.050      6                   900     0.8475545  0.7705906  0.7847343\n",
       "  0.050      6                   950     0.8470955  0.7722768  0.7822568\n",
       "  0.050      6                  1000     0.8466464  0.7726571  0.7787501\n",
       "  0.050      7                    50     0.8489901  0.7101377  0.8554885\n",
       "  0.050      7                   100     0.8533384  0.7254155  0.8476486\n",
       "  0.050      7                   150     0.8540292  0.7360708  0.8395983\n",
       "  0.050      7                   200     0.8539720  0.7431380  0.8310395\n",
       "  0.050      7                   250     0.8533939  0.7476515  0.8238203\n",
       "  0.050      7                   300     0.8528019  0.7512398  0.8202094\n",
       "  0.050      7                   350     0.8523076  0.7551533  0.8142284\n",
       "  0.050      7                   400     0.8516249  0.7576534  0.8107211\n",
       "  0.050      7                   450     0.8509090  0.7599907  0.8064938\n",
       "  0.050      7                   500     0.8505310  0.7628720  0.8032979\n",
       "  0.050      7                   550     0.8499535  0.7637955  0.7989648\n",
       "  0.050      7                   600     0.8492364  0.7659695  0.7951466\n",
       "  0.050      7                   650     0.8487820  0.7670024  0.7904038\n",
       "  0.050      7                   700     0.8482119  0.7685791  0.7880316\n",
       "  0.050      7                   750     0.8477420  0.7699933  0.7842156\n",
       "  0.050      7                   800     0.8471363  0.7708086  0.7825624\n",
       "  0.050      7                   850     0.8467182  0.7717870  0.7775092\n",
       "  0.050      7                   900     0.8464005  0.7731461  0.7757566\n",
       "  0.050      7                   950     0.8458656  0.7726570  0.7725618\n",
       "  0.050      7                  1000     0.8456633  0.7750484  0.7698787\n",
       "  0.100      3                    50     0.8464812  0.7060077  0.8554842\n",
       "  0.100      3                   100     0.8515030  0.7233490  0.8485727\n",
       "  0.100      3                   150     0.8523481  0.7343304  0.8403232\n",
       "  0.100      3                   200     0.8521834  0.7398232  0.8332034\n",
       "  0.100      3                   250     0.8515286  0.7425948  0.8274307\n",
       "  0.100      3                   300     0.8507832  0.7467819  0.8221698\n",
       "  0.100      3                   350     0.8503316  0.7481409  0.8176315\n",
       "  0.100      3                   400     0.8496627  0.7521634  0.8138150\n",
       "  0.100      3                   450     0.8493359  0.7533047  0.8087624\n",
       "  0.100      3                   500     0.8487922  0.7566196  0.8061834\n",
       "  0.100      3                   550     0.8483924  0.7573812  0.8030906\n",
       "  0.100      3                   600     0.8478901  0.7591207  0.7993740\n",
       "  0.100      3                   650     0.8470095  0.7593931  0.7976235\n",
       "  0.100      3                   700     0.8467483  0.7614048  0.7940105\n",
       "  0.100      3                   750     0.8462090  0.7621119  0.7940126\n",
       "  0.100      3                   800     0.8458304  0.7649927  0.7910197\n",
       "  0.100      3                   850     0.8453880  0.7663507  0.7878228\n",
       "  0.100      3                   900     0.8447389  0.7668946  0.7861711\n",
       "  0.100      3                   950     0.8444987  0.7670575  0.7837995\n",
       "  0.100      3                  1000     0.8441378  0.7689597  0.7811191\n",
       "  0.100      4                    50     0.8491372  0.7114443  0.8552818\n",
       "  0.100      4                   100     0.8523350  0.7310689  0.8437338\n",
       "  0.100      4                   150     0.8522074  0.7387894  0.8359965\n",
       "  0.100      4                   200     0.8508862  0.7441174  0.8259869\n",
       "  0.100      4                   250     0.8497364  0.7487377  0.8177368\n",
       "  0.100      4                   300     0.8486575  0.7514009  0.8121660\n",
       "  0.100      4                   350     0.8479563  0.7550441  0.8082442\n",
       "  0.100      4                   400     0.8469752  0.7576539  0.8040190\n",
       "  0.100      4                   450     0.8461405  0.7599366  0.7991721\n",
       "  0.100      4                   500     0.8454199  0.7618389  0.7936002\n",
       "  0.100      4                   550     0.8448643  0.7651010  0.7858661\n",
       "  0.100      4                   600     0.8438949  0.7664058  0.7835960\n",
       "  0.100      4                   650     0.8434910  0.7679823  0.7817382\n",
       "  0.100      4                   700     0.8429788  0.7687441  0.7777133\n",
       "  0.100      4                   750     0.8423148  0.7697770  0.7739004\n",
       "  0.100      4                   800     0.8419174  0.7710279  0.7698771\n",
       "  0.100      4                   850     0.8415014  0.7726035  0.7678132\n",
       "  0.100      4                   900     0.8412259  0.7738541  0.7643053\n",
       "  0.100      4                   950     0.8407714  0.7732018  0.7621409\n",
       "  0.100      4                  1000     0.8401344  0.7749412  0.7571909\n",
       "  0.100      5                    50     0.8508408  0.7189459  0.8521885\n",
       "  0.100      5                   100     0.8531385  0.7384081  0.8366145\n",
       "  0.100      5                   150     0.8523080  0.7453677  0.8287736\n",
       "  0.100      5                   200     0.8512717  0.7523802  0.8183569\n",
       "  0.100      5                   250     0.8501467  0.7549902  0.8106207\n",
       "  0.100      5                   300     0.8491476  0.7584149  0.8053582\n",
       "  0.100      5                   350     0.8482243  0.7611871  0.7993777\n",
       "  0.100      5                   400     0.8470958  0.7647204  0.7953523\n",
       "  0.100      5                   450     0.8460654  0.7665690  0.7906068\n",
       "  0.100      5                   500     0.8452038  0.7668949  0.7848325\n",
       "  0.100      5                   550     0.8445469  0.7687429  0.7801950\n",
       "  0.100      5                   600     0.8439302  0.7700478  0.7765851\n",
       "  0.100      5                   650     0.8432400  0.7713523  0.7687447\n",
       "  0.100      5                   700     0.8424807  0.7739619  0.7634838\n",
       "  0.100      5                   750     0.8415239  0.7753751  0.7594626\n",
       "  0.100      5                   800     0.8412617  0.7768974  0.7596678\n",
       "  0.100      5                   850     0.8404028  0.7776586  0.7554388\n",
       "  0.100      5                   900     0.8401763  0.7785831  0.7521414\n",
       "  0.100      5                   950     0.8395800  0.7799414  0.7505918\n",
       "  0.100      5                  1000     0.8388676  0.7815174  0.7465723\n",
       "  0.100      6                    50     0.8514814  0.7232951  0.8472395\n",
       "  0.100      6                   100     0.8522502  0.7398221  0.8330030\n",
       "  0.100      6                   150     0.8510107  0.7477042  0.8196982\n",
       "  0.100      6                   200     0.8492223  0.7522161  0.8106186\n",
       "  0.100      6                   250     0.8481881  0.7565653  0.8025725\n",
       "  0.100      6                   300     0.8464398  0.7615114  0.7949394\n",
       "  0.100      6                   350     0.8453884  0.7621638  0.7891662\n",
       "  0.100      6                   400     0.8446322  0.7663504  0.7825629\n",
       "  0.100      6                   450     0.8433130  0.7687955  0.7770968\n",
       "  0.100      6                   500     0.8422603  0.7695571  0.7717323\n",
       "  0.100      6                   550     0.8414622  0.7714056  0.7661631\n",
       "  0.100      6                   600     0.8408693  0.7723297  0.7636921\n",
       "  0.100      6                   650     0.8403064  0.7750478  0.7586352\n",
       "  0.100      6                   700     0.8394638  0.7767337  0.7552332\n",
       "  0.100      6                   750     0.8392970  0.7789622  0.7525501\n",
       "  0.100      6                   800     0.8386404  0.7787439  0.7474932\n",
       "  0.100      6                   850     0.8379932  0.7793964  0.7451226\n",
       "  0.100      6                   900     0.8375888  0.7808647  0.7401731\n",
       "  0.100      6                   950     0.8367404  0.7827131  0.7382159\n",
       "  0.100      6                  1000     0.8363323  0.7832018  0.7339864\n",
       "  0.100      7                    50     0.8535980  0.7268816  0.8481620\n",
       "  0.100      7                   100     0.8531499  0.7444968  0.8301132\n",
       "  0.100      7                   150     0.8520178  0.7517271  0.8167037\n",
       "  0.100      7                   200     0.8505398  0.7570002  0.8105128\n",
       "  0.100      7                   250     0.8492165  0.7620030  0.8027776\n",
       "  0.100      7                   300     0.8478009  0.7656993  0.7914305\n",
       "  0.100      7                   350     0.8463822  0.7696680  0.7837984\n",
       "  0.100      7                   400     0.8452363  0.7721665  0.7778148\n",
       "  0.100      7                   450     0.8439727  0.7748848  0.7692554\n",
       "  0.100      7                   500     0.8432279  0.7761352  0.7647188\n",
       "  0.100      7                   550     0.8425835  0.7789071  0.7604882\n",
       "  0.100      7                   600     0.8418437  0.7814624  0.7551279\n",
       "  0.100      7                   650     0.8411494  0.7829839  0.7509017\n",
       "  0.100      7                   700     0.8403240  0.7847238  0.7469777\n",
       "  0.100      7                   750     0.8395082  0.7857564  0.7437829\n",
       "  0.100      7                   800     0.8385527  0.7868979  0.7400678\n",
       "  0.100      7                   850     0.8381043  0.7878760  0.7375931\n",
       "  0.100      7                   900     0.8369647  0.7889637  0.7357390\n",
       "  0.100      7                   950     0.8364940  0.7901054  0.7305812\n",
       "  0.100      7                  1000     0.8363104  0.7898880  0.7288265\n",
       "  perfo    \n",
       "  0.7871286\n",
       "  0.7930477\n",
       "  0.7961940\n",
       "  0.7989566\n",
       "  0.8023331\n",
       "  0.8061624\n",
       "  0.8083951\n",
       "  0.8100920\n",
       "  0.8115660\n",
       "  0.8136788\n",
       "  0.8146133\n",
       "  0.8155705\n",
       "  0.8161320\n",
       "  0.8168412\n",
       "  0.8172801\n",
       "  0.8179907\n",
       "  0.8187833\n",
       "  0.8190394\n",
       "  0.8193874\n",
       "  0.8195035\n",
       "  0.7923996\n",
       "  0.7971199\n",
       "  0.8018458\n",
       "  0.8061238\n",
       "  0.8089815\n",
       "  0.8118857\n",
       "  0.8142343\n",
       "  0.8157553\n",
       "  0.8164530\n",
       "  0.8172722\n",
       "  0.8179032\n",
       "  0.8183894\n",
       "  0.8192612\n",
       "  0.8198358\n",
       "  0.8201836\n",
       "  0.8206902\n",
       "  0.8208946\n",
       "  0.8209107\n",
       "  0.8213285\n",
       "  0.8214693\n",
       "  0.7961657\n",
       "  0.8011424\n",
       "  0.8062697\n",
       "  0.8098440\n",
       "  0.8131560\n",
       "  0.8150113\n",
       "  0.8165491\n",
       "  0.8176021\n",
       "  0.8182871\n",
       "  0.8189223\n",
       "  0.8194583\n",
       "  0.8201801\n",
       "  0.8205533\n",
       "  0.8208658\n",
       "  0.8208828\n",
       "  0.8210031\n",
       "  0.8214002\n",
       "  0.8213995\n",
       "  0.8213992\n",
       "  0.8216308\n",
       "  0.7993845\n",
       "  0.8047235\n",
       "  0.8089493\n",
       "  0.8125288\n",
       "  0.8151264\n",
       "  0.8164808\n",
       "  0.8176714\n",
       "  0.8186516\n",
       "  0.8197014\n",
       "  0.8206086\n",
       "  0.8208327\n",
       "  0.8213579\n",
       "  0.8214036\n",
       "  0.8215842\n",
       "  0.8217275\n",
       "  0.8217539\n",
       "  0.8218469\n",
       "  0.8217755\n",
       "  0.8217852\n",
       "  0.8218575\n",
       "  0.8030995\n",
       "  0.8082785\n",
       "  0.8123105\n",
       "  0.8146059\n",
       "  0.8162520\n",
       "  0.8177918\n",
       "  0.8188191\n",
       "  0.8197670\n",
       "  0.8206719\n",
       "  0.8208173\n",
       "  0.8211283\n",
       "  0.8214877\n",
       "  0.8216272\n",
       "  0.8217599\n",
       "  0.8219043\n",
       "  0.8218956\n",
       "  0.8217175\n",
       "  0.8216726\n",
       "  0.8217331\n",
       "  0.8216270\n",
       "  0.7945308\n",
       "  0.8021130\n",
       "  0.8092818\n",
       "  0.8134528\n",
       "  0.8153503\n",
       "  0.8171267\n",
       "  0.8185443\n",
       "  0.8192881\n",
       "  0.8200597\n",
       "  0.8207051\n",
       "  0.8208658\n",
       "  0.8207531\n",
       "  0.8211426\n",
       "  0.8207232\n",
       "  0.8208384\n",
       "  0.8207446\n",
       "  0.8206101\n",
       "  0.8204226\n",
       "  0.8202226\n",
       "  0.8196890\n",
       "  0.7988784\n",
       "  0.8087378\n",
       "  0.8141644\n",
       "  0.8168883\n",
       "  0.8187339\n",
       "  0.8199526\n",
       "  0.8204605\n",
       "  0.8207664\n",
       "  0.8207346\n",
       "  0.8212734\n",
       "  0.8212178\n",
       "  0.8207425\n",
       "  0.8207269\n",
       "  0.8203763\n",
       "  0.8199847\n",
       "  0.8200546\n",
       "  0.8197307\n",
       "  0.8197204\n",
       "  0.8193395\n",
       "  0.8194330\n",
       "  0.8040003\n",
       "  0.8130158\n",
       "  0.8173952\n",
       "  0.8193939\n",
       "  0.8207010\n",
       "  0.8212813\n",
       "  0.8218174\n",
       "  0.8220703\n",
       "  0.8218201\n",
       "  0.8215090\n",
       "  0.8216060\n",
       "  0.8211828\n",
       "  0.8209516\n",
       "  0.8207103\n",
       "  0.8205478\n",
       "  0.8201353\n",
       "  0.8197516\n",
       "  0.8193942\n",
       "  0.8192606\n",
       "  0.8189482\n",
       "  0.8060462\n",
       "  0.8147784\n",
       "  0.8178245\n",
       "  0.8194748\n",
       "  0.8209557\n",
       "  0.8214611\n",
       "  0.8216572\n",
       "  0.8216096\n",
       "  0.8214501\n",
       "  0.8208212\n",
       "  0.8205689\n",
       "  0.8203199\n",
       "  0.8199385\n",
       "  0.8195537\n",
       "  0.8194831\n",
       "  0.8190624\n",
       "  0.8189508\n",
       "  0.8188548\n",
       "  0.8185315\n",
       "  0.8181158\n",
       "  0.8094767\n",
       "  0.8159661\n",
       "  0.8191250\n",
       "  0.8206729\n",
       "  0.8209772\n",
       "  0.8217072\n",
       "  0.8217237\n",
       "  0.8218138\n",
       "  0.8212117\n",
       "  0.8209129\n",
       "  0.8207829\n",
       "  0.8202449\n",
       "  0.8196613\n",
       "  0.8195212\n",
       "  0.8194252\n",
       "  0.8190778\n",
       "  0.8190024\n",
       "  0.8183734\n",
       "  0.8177006\n",
       "  0.8176360\n",
       "  0.8016465\n",
       "  0.8130186\n",
       "  0.8173842\n",
       "  0.8186211\n",
       "  0.8196500\n",
       "  0.8203324\n",
       "  0.8210995\n",
       "  0.8208804\n",
       "  0.8200709\n",
       "  0.8196668\n",
       "  0.8189601\n",
       "  0.8188155\n",
       "  0.8184040\n",
       "  0.8180929\n",
       "  0.8175721\n",
       "  0.8171714\n",
       "  0.8173700\n",
       "  0.8166389\n",
       "  0.8165648\n",
       "  0.8161475\n",
       "  0.8082005\n",
       "  0.8166779\n",
       "  0.8194790\n",
       "  0.8207148\n",
       "  0.8208633\n",
       "  0.8206229\n",
       "  0.8202307\n",
       "  0.8197469\n",
       "  0.8191084\n",
       "  0.8189378\n",
       "  0.8191088\n",
       "  0.8185981\n",
       "  0.8182383\n",
       "  0.8178325\n",
       "  0.8168635\n",
       "  0.8164596\n",
       "  0.8160930\n",
       "  0.8157488\n",
       "  0.8156450\n",
       "  0.8155490\n",
       "  0.8127241\n",
       "  0.8189966\n",
       "  0.8214079\n",
       "  0.8215900\n",
       "  0.8213843\n",
       "  0.8206888\n",
       "  0.8202892\n",
       "  0.8194159\n",
       "  0.8184888\n",
       "  0.8176327\n",
       "  0.8174435\n",
       "  0.8169365\n",
       "  0.8167312\n",
       "  0.8162418\n",
       "  0.8158407\n",
       "  0.8151336\n",
       "  0.8147516\n",
       "  0.8138824\n",
       "  0.8137036\n",
       "  0.8129474\n",
       "  0.8145847\n",
       "  0.8200877\n",
       "  0.8214275\n",
       "  0.8205144\n",
       "  0.8202890\n",
       "  0.8192275\n",
       "  0.8187181\n",
       "  0.8183308\n",
       "  0.8177258\n",
       "  0.8174349\n",
       "  0.8171213\n",
       "  0.8168556\n",
       "  0.8164381\n",
       "  0.8161246\n",
       "  0.8151691\n",
       "  0.8146156\n",
       "  0.8137329\n",
       "  0.8126085\n",
       "  0.8121812\n",
       "  0.8111750\n",
       "  0.8159016\n",
       "  0.8199352\n",
       "  0.8209319\n",
       "  0.8205304\n",
       "  0.8195649\n",
       "  0.8192632\n",
       "  0.8184992\n",
       "  0.8179061\n",
       "  0.8170756\n",
       "  0.8168080\n",
       "  0.8156668\n",
       "  0.8148972\n",
       "  0.8137425\n",
       "  0.8132586\n",
       "  0.8124232\n",
       "  0.8119109\n",
       "  0.8106832\n",
       "  0.8104259\n",
       "  0.8092375\n",
       "  0.8090634\n",
       "  0.8136136\n",
       "  0.8187320\n",
       "  0.8198374\n",
       "  0.8193483\n",
       "  0.8182706\n",
       "  0.8176295\n",
       "  0.8166089\n",
       "  0.8163260\n",
       "  0.8151847\n",
       "  0.8150969\n",
       "  0.8143142\n",
       "  0.8135687\n",
       "  0.8127589\n",
       "  0.8122279\n",
       "  0.8121356\n",
       "  0.8119183\n",
       "  0.8112374\n",
       "  0.8106359\n",
       "  0.8099636\n",
       "  0.8095886\n",
       "  0.8162501\n",
       "  0.8198682\n",
       "  0.8198002\n",
       "  0.8179692\n",
       "  0.8164868\n",
       "  0.8152205\n",
       "  0.8148002\n",
       "  0.8139058\n",
       "  0.8128474\n",
       "  0.8115698\n",
       "  0.8101739\n",
       "  0.8094479\n",
       "  0.8091756\n",
       "  0.8081037\n",
       "  0.8070768\n",
       "  0.8061850\n",
       "  0.8058549\n",
       "  0.8051528\n",
       "  0.8042214\n",
       "  0.8031002\n",
       "  0.8182040\n",
       "  0.8203249\n",
       "  0.8196893\n",
       "  0.8183201\n",
       "  0.8164761\n",
       "  0.8155171\n",
       "  0.8142533\n",
       "  0.8135661\n",
       "  0.8123267\n",
       "  0.8105337\n",
       "  0.8095079\n",
       "  0.8086233\n",
       "  0.8066443\n",
       "  0.8056018\n",
       "  0.8044714\n",
       "  0.8047721\n",
       "  0.8034757\n",
       "  0.8027693\n",
       "  0.8024233\n",
       "  0.8014562\n",
       "  0.8183744\n",
       "  0.8193314\n",
       "  0.8173560\n",
       "  0.8153198\n",
       "  0.8138785\n",
       "  0.8123326\n",
       "  0.8105267\n",
       "  0.8095444\n",
       "  0.8081296\n",
       "  0.8064525\n",
       "  0.8051233\n",
       "  0.8044401\n",
       "  0.8035739\n",
       "  0.8027236\n",
       "  0.8025266\n",
       "  0.8008795\n",
       "  0.8001263\n",
       "  0.7990538\n",
       "  0.7986025\n",
       "  0.7974632\n",
       "  0.8205599\n",
       "  0.8202275\n",
       "  0.8181166\n",
       "  0.8171482\n",
       "  0.8158034\n",
       "  0.8131829\n",
       "  0.8115577\n",
       "  0.8101135\n",
       "  0.8080214\n",
       "  0.8068275\n",
       "  0.8061406\n",
       "  0.8050694\n",
       "  0.8040461\n",
       "  0.8030874\n",
       "  0.8021390\n",
       "  0.8010178\n",
       "  0.8004194\n",
       "  0.7996580\n",
       "  0.7984186\n",
       "  0.7978338\n",
       "\n",
       "Tuning parameter 'n.minobsinnode' was held constant at a value of 10\n",
       "perfo was used to select the optimal model using the largest value.\n",
       "The final values used for the model were n.trees = 400, interaction.depth =\n",
       " 5, shrinkage = 0.025 and n.minobsinnode = 10."
      ]
     },
     "metadata": {},
     "output_type": "display_data"
    }
   ],
   "source": [
    "gbm_fit_scaled_2"
   ]
  },
  {
   "cell_type": "code",
   "execution_count": 130,
   "id": "7bfb62aa",
   "metadata": {
    "scrolled": false
   },
   "outputs": [
    {
     "data": {
      "image/png": "[encoded data removed]",
      "text/plain": [
       "plot without title"
      ]
     },
     "metadata": {},
     "output_type": "display_data"
    }
   ],
   "source": [
    "plot(gbm_fit_scaled_2)"
   ]
  },
  {
   "cell_type": "markdown",
   "id": "8d940e3d",
   "metadata": {},
   "source": [
    "## Ada Boost"
   ]
  },
  {
   "cell_type": "code",
   "execution_count": 99,
   "id": "9eeb33a7",
   "metadata": {},
   "outputs": [],
   "source": [
    "n_repeats=5\n",
    "n_folds=10\n",
    "fitControl=trainControl(method = \"repeatedcv\",\n",
    "                        number = n_folds,\n",
    "                        repeats = n_repeats,\n",
    "                        classProbs=TRUE, \n",
    "                        summaryFunction=performance,\n",
    "                        sampling=\"up\"\n",
    "                       )\n",
    "ada_grid <- expand.grid(mfinal = (2:5)*3, maxdepth = c(3, 4),\n",
    "                    coeflearn = c(\"Breiman\", \"Freund\", \"Zhu\"))\n",
    "set.seed(1)\n",
    "ada_fit=train(gender ~ ., \n",
    "              data = train[, -c(\"unique_id\")],\n",
    "              method = \"AdaBoost.M1\", \n",
    "              trControl = fitControl, \n",
    "              metric = c(\"perfo\"),\n",
    "              tuneGrid = ada_grid)"
   ]
  },
  {
   "cell_type": "code",
   "execution_count": 100,
   "id": "f987c439",
   "metadata": {},
   "outputs": [
    {
     "data": {
      "text/plain": [
       "AdaBoost.M1 \n",
       "\n",
       "5618 samples\n",
       "  30 predictor\n",
       "   2 classes: 'F', 'M' \n",
       "\n",
       "No pre-processing\n",
       "Resampling: Cross-Validated (10 fold, repeated 5 times) \n",
       "Summary of sample sizes: 5057, 5056, 5056, 5056, 5056, 5056, ... \n",
       "Addtional sampling using up-sampling\n",
       "\n",
       "Resampling results across tuning parameters:\n",
       "\n",
       "  coeflearn  maxdepth  mfinal  ROC        Sens       Spec       perfo    \n",
       "  Breiman    3          6      0.8474697  0.7139969  0.8400128  0.8122373\n",
       "  Breiman    3          9      0.8519847  0.7187242  0.8382560  0.8152374\n",
       "  Breiman    3         12      0.8544686  0.7241639  0.8359933  0.8172736\n",
       "  Breiman    3         15      0.8553631  0.7269343  0.8342380  0.8179746\n",
       "  Breiman    4          6      0.8473216  0.7337272  0.8287741  0.8142861\n",
       "  Breiman    4          9      0.8519366  0.7407430  0.8241397  0.8171890\n",
       "  Breiman    4         12      0.8539346  0.7428080  0.8252754  0.8189881\n",
       "  Breiman    4         15      0.8548640  0.7445500  0.8235222  0.8194500\n",
       "  Freund     3          6      0.8383171  0.7259030  0.8085626  0.8027750\n",
       "  Freund     3          9      0.8418445  0.7207963  0.8149554  0.8048602\n",
       "  Freund     3         12      0.8441002  0.7269385  0.8161936  0.8078331\n",
       "  Freund     3         15      0.8455283  0.7315020  0.8155782  0.8095342\n",
       "  Freund     4          6      0.8378795  0.7304699  0.8132007  0.8048574\n",
       "  Freund     4          9      0.8410541  0.7353630  0.8094872  0.8067396\n",
       "  Freund     4         12      0.8424331  0.7370491  0.8083478  0.8075658\n",
       "  Freund     4         15      0.8433823  0.7396051  0.8082522  0.8086555\n",
       "  Zhu        3          6      0.8376395  0.7337854  0.7994883  0.8021382\n",
       "  Zhu        3          9      0.8409627  0.7292177  0.8090743  0.8050543\n",
       "  Zhu        3         12      0.8423293  0.7324824  0.8087709  0.8064780\n",
       "  Zhu        3         15      0.8435690  0.7291096  0.8122627  0.8071276\n",
       "  Zhu        4          6      0.8362333  0.7287256  0.8095737  0.8026915\n",
       "  Zhu        4          9      0.8400166  0.7328039  0.8058736  0.8046777\n",
       "  Zhu        4         12      0.8412645  0.7380250  0.8026729  0.8058067\n",
       "  Zhu        4         15      0.8420696  0.7383540  0.8048502  0.8068358\n",
       "\n",
       "perfo was used to select the optimal model using the largest value.\n",
       "The final values used for the model were mfinal = 15, maxdepth = 4\n",
       " and coeflearn = Breiman."
      ]
     },
     "metadata": {},
     "output_type": "display_data"
    }
   ],
   "source": [
    "ada_fit"
   ]
  },
  {
   "cell_type": "code",
   "execution_count": 101,
   "id": "e64d956c",
   "metadata": {},
   "outputs": [
    {
     "data": {
      "image/png": "[encoded data removed]",
      "text/plain": [
       "plot without title"
      ]
     },
     "metadata": {},
     "output_type": "display_data"
    }
   ],
   "source": [
    "plot(ada_fit)"
   ]
  },
  {
   "cell_type": "code",
   "execution_count": 104,
   "id": "6139db3a",
   "metadata": {},
   "outputs": [],
   "source": [
    "n_repeats=5\n",
    "n_folds=10\n",
    "fitControl=trainControl(method = \"repeatedcv\",\n",
    "                        number = n_folds,\n",
    "                        repeats = n_repeats,\n",
    "                        classProbs=TRUE, \n",
    "                        summaryFunction=performance,\n",
    "                        sampling=\"up\"\n",
    "                       )\n",
    "ada_grid2 <- expand.grid(mfinal = c(20, 30, 40), maxdepth = c(4, 5) ,\n",
    "                    coeflearn = c(\"Breiman\"))\n",
    "set.seed(1)\n",
    "ada_fit2=train(gender ~ ., \n",
    "              data = train[, -c(\"unique_id\")],\n",
    "              method = \"AdaBoost.M1\", \n",
    "              trControl = fitControl, \n",
    "              metric = c(\"perfo\"),\n",
    "              tuneGrid = ada_grid2)"
   ]
  },
  {
   "cell_type": "code",
   "execution_count": 105,
   "id": "8231e34c",
   "metadata": {},
   "outputs": [
    {
     "data": {
      "text/plain": [
       "AdaBoost.M1 \n",
       "\n",
       "5618 samples\n",
       "  30 predictor\n",
       "   2 classes: 'F', 'M' \n",
       "\n",
       "No pre-processing\n",
       "Resampling: Cross-Validated (10 fold, repeated 5 times) \n",
       "Summary of sample sizes: 5057, 5056, 5056, 5056, 5056, 5056, ... \n",
       "Addtional sampling using up-sampling\n",
       "\n",
       "Resampling results across tuning parameters:\n",
       "\n",
       "  maxdepth  mfinal  ROC        Sens       Spec       perfo    \n",
       "  4         20      0.8556001  0.7459084  0.8247519  0.8204651\n",
       "  4         30      0.8566316  0.7480293  0.8248539  0.8215366\n",
       "  4         40      0.8570058  0.7471603  0.8288735  0.8225113\n",
       "  5         20      0.8557244  0.7542794  0.8138251  0.8198883\n",
       "  5         30      0.8564481  0.7559101  0.8124758  0.8203205\n",
       "  5         40      0.8565791  0.7558570  0.8103109  0.8198315\n",
       "\n",
       "Tuning parameter 'coeflearn' was held constant at a value of Breiman\n",
       "perfo was used to select the optimal model using the largest value.\n",
       "The final values used for the model were mfinal = 40, maxdepth = 4\n",
       " and coeflearn = Breiman."
      ]
     },
     "metadata": {},
     "output_type": "display_data"
    }
   ],
   "source": [
    "ada_fit2"
   ]
  },
  {
   "cell_type": "code",
   "execution_count": 106,
   "id": "30023649",
   "metadata": {},
   "outputs": [
    {
     "data": {
      "image/png": "[encoded data removed]",
      "text/plain": [
       "plot without title"
      ]
     },
     "metadata": {},
     "output_type": "display_data"
    }
   ],
   "source": [
    "plot(ada_fit2)"
   ]
  },
  {
   "cell_type": "code",
   "execution_count": 110,
   "id": "345bc63b",
   "metadata": {},
   "outputs": [],
   "source": [
    "n_repeats=5\n",
    "n_folds=10\n",
    "fitControl=trainControl(method = \"repeatedcv\",\n",
    "                        number = n_folds,\n",
    "                        repeats = n_repeats,\n",
    "                        classProbs=TRUE, \n",
    "                        summaryFunction=performance,\n",
    "                        sampling=\"up\"\n",
    "                       )\n",
    "ada_grid3 <- expand.grid(mfinal = c(30, 40, 50, 60, 70, 80, 90, 100, 110, 120), maxdepth = c(4) ,\n",
    "                    coeflearn = c(\"Breiman\"))\n",
    "set.seed(1)\n",
    "ada_fit3=train(gender ~ ., \n",
    "              data = train[, -c(\"unique_id\")],\n",
    "              method = \"AdaBoost.M1\", \n",
    "              trControl = fitControl, \n",
    "              metric = c(\"perfo\"),\n",
    "              tuneGrid = ada_grid3)"
   ]
  },
  {
   "cell_type": "code",
   "execution_count": 111,
   "id": "9ca68b3c",
   "metadata": {},
   "outputs": [
    {
     "data": {
      "text/plain": [
       "AdaBoost.M1 \n",
       "\n",
       "5618 samples\n",
       "  30 predictor\n",
       "   2 classes: 'F', 'M' \n",
       "\n",
       "No pre-processing\n",
       "Resampling: Cross-Validated (10 fold, repeated 5 times) \n",
       "Summary of sample sizes: 5057, 5056, 5056, 5056, 5056, 5056, ... \n",
       "Addtional sampling using up-sampling\n",
       "\n",
       "Resampling results across tuning parameters:\n",
       "\n",
       "  mfinal  ROC        Sens       Spec       perfo    \n",
       "   30     0.8572528  0.7492206  0.8206175  0.8210859\n",
       "   40     0.8579510  0.7494386  0.8213413  0.8216704\n",
       "   50     0.8581199  0.7506880  0.8221660  0.8222734\n",
       "   60     0.8581310  0.7493850  0.8246440  0.8225728\n",
       "   70     0.8583464  0.7493854  0.8254741  0.8228881\n",
       "   80     0.8581283  0.7498205  0.8261909  0.8230670\n",
       "   90     0.8584802  0.7506914  0.8246424  0.8230735\n",
       "  100     0.8587718  0.7525934  0.8231975  0.8233336\n",
       "  110     0.8588559  0.7538436  0.8204134  0.8229922\n",
       "  120     0.8586762  0.7534637  0.8214454  0.8230654\n",
       "\n",
       "Tuning parameter 'maxdepth' was held constant at a value of 4\n",
       "Tuning\n",
       " parameter 'coeflearn' was held constant at a value of Breiman\n",
       "perfo was used to select the optimal model using the largest value.\n",
       "The final values used for the model were mfinal = 100, maxdepth = 4\n",
       " and coeflearn = Breiman."
      ]
     },
     "metadata": {},
     "output_type": "display_data"
    }
   ],
   "source": [
    "ada_fit3"
   ]
  },
  {
   "cell_type": "code",
   "execution_count": 112,
   "id": "097f4bba",
   "metadata": {},
   "outputs": [
    {
     "data": {
      "image/png": "[encoded data removed]",
      "text/plain": [
       "plot without title"
      ]
     },
     "metadata": {},
     "output_type": "display_data"
    }
   ],
   "source": [
    "plot(ada_fit3)"
   ]
  },
  {
   "cell_type": "markdown",
   "id": "6de95645",
   "metadata": {},
   "source": [
    "The best model is the one with Breiman coef, 100 trees and 4 depth."
   ]
  },
  {
   "cell_type": "markdown",
   "id": "1dae1dd0",
   "metadata": {},
   "source": [
    "## Resample"
   ]
  },
  {
   "cell_type": "code",
   "execution_count": 113,
   "id": "0fd0b248",
   "metadata": {
    "scrolled": false
   },
   "outputs": [
    {
     "data": {
      "text/plain": [
       "\n",
       "Call:\n",
       "summary.resamples(object = resamps2)\n",
       "\n",
       "Models: CART, CART_scaled, Lasso, Lasso_scaled, ElasticNet, RF, RF_scaled, SVM, GBM, GBM_2, ADA \n",
       "Number of resamples: 50 \n",
       "\n",
       "perfo \n",
       "                  Min.   1st Qu.    Median      Mean   3rd Qu.      Max. NA's\n",
       "CART         0.7501541 0.7898627 0.8074924 0.8028670 0.8133072 0.8375308    0\n",
       "CART_scaled  0.7501541 0.7898627 0.8074924 0.8028557 0.8133072 0.8375308    0\n",
       "Lasso        0.7540690 0.7821342 0.7907924 0.7920407 0.8033533 0.8267873    0\n",
       "Lasso_scaled 0.7540690 0.7821342 0.7907924 0.7920407 0.8033533 0.8267873    0\n",
       "ElasticNet   0.7562021 0.7805277 0.7875736 0.7906299 0.8011402 0.8296658    0\n",
       "RF           0.7925714 0.8174340 0.8266192 0.8261008 0.8357755 0.8598688    0\n",
       "RF_scaled    0.7873536 0.8186462 0.8275822 0.8259140 0.8334110 0.8551869    0\n",
       "SVM          0.7470010 0.7741291 0.7826787 0.7837278 0.7920113 0.8178858    0\n",
       "GBM          0.7963083 0.8228040 0.8298269 0.8308662 0.8397597 0.8632935    0\n",
       "GBM_2        0.7906788 0.8215977 0.8290250 0.8310676 0.8414213 0.8565409    0\n",
       "ADA          0.7828445 0.8139486 0.8234904 0.8233336 0.8343564 0.8543499    0\n",
       "\n",
       "ROC \n",
       "                  Min.   1st Qu.    Median      Mean   3rd Qu.      Max. NA's\n",
       "CART         0.7776922 0.8146746 0.8330905 0.8289110 0.8432002 0.8670719    0\n",
       "CART_scaled  0.7776922 0.8146746 0.8330905 0.8289155 0.8432002 0.8670719    0\n",
       "Lasso        0.7942104 0.8157252 0.8272535 0.8269941 0.8385078 0.8567767    0\n",
       "Lasso_scaled 0.7942104 0.8157252 0.8272535 0.8269941 0.8385078 0.8567767    0\n",
       "ElasticNet   0.7937444 0.8158460 0.8241063 0.8251267 0.8374048 0.8572389    0\n",
       "RF           0.8251355 0.8552709 0.8656887 0.8640422 0.8755673 0.8986791    0\n",
       "RF_scaled    0.8260766 0.8512520 0.8620019 0.8605532 0.8720084 0.8910942    0\n",
       "SVM          0.7794408 0.8053668 0.8165761 0.8171872 0.8306413 0.8501373    0\n",
       "GBM          0.8286706 0.8598793 0.8675342 0.8674289 0.8757231 0.9025731    0\n",
       "GBM_2        0.8268261 0.8609438 0.8670649 0.8675245 0.8760365 0.9006962    0\n",
       "ADA          0.8170337 0.8489560 0.8588777 0.8587718 0.8692080 0.8910592    0\n",
       "\n",
       "Sens \n",
       "                  Min.   1st Qu.    Median      Mean   3rd Qu.      Max. NA's\n",
       "CART         0.6657609 0.7065217 0.7255435 0.7259033 0.7500000 0.7826087    0\n",
       "CART_scaled  0.6657609 0.7065217 0.7255435 0.7258490 0.7500000 0.7826087    0\n",
       "Lasso        0.6059783 0.6392663 0.6576087 0.6573528 0.6732337 0.7038043    0\n",
       "Lasso_scaled 0.6059783 0.6392663 0.6576087 0.6573528 0.6732337 0.7038043    0\n",
       "ElasticNet   0.5951087 0.6317935 0.6517000 0.6502842 0.6677989 0.6929348    0\n",
       "RF           0.7472826 0.7921196 0.8084239 0.8048928 0.8199728 0.8396739    0\n",
       "RF_scaled    0.7201087 0.7663043 0.7826087 0.7796684 0.7975543 0.8125000    0\n",
       "SVM          0.6059783 0.6474185 0.6644022 0.6630059 0.6786685 0.7309783    0\n",
       "GBM          0.7010870 0.7418478 0.7540761 0.7528144 0.7663043 0.7907609    0\n",
       "GBM_2        0.7010870 0.7413203 0.7527174 0.7538464 0.7690217 0.7989130    0\n",
       "ADA          0.7065217 0.7364130 0.7527174 0.7525934 0.7663043 0.8070652    0\n",
       "\n",
       "Spec \n",
       "                  Min.   1st Qu.    Median      Mean   3rd Qu.      Max. NA's\n",
       "CART         0.7253886 0.8144330 0.8324742 0.8277426 0.8505155 0.8814433    0\n",
       "CART_scaled  0.7253886 0.8144330 0.8324742 0.8277426 0.8505155 0.8814433    0\n",
       "Lasso        0.7886598 0.8402062 0.8556701 0.8568218 0.8814433 0.9278351    0\n",
       "Lasso_scaled 0.7886598 0.8402062 0.8556701 0.8568218 0.8814433 0.9278351    0\n",
       "ElasticNet   0.8031088 0.8453608 0.8656322 0.8619823 0.8762887 0.9329897    0\n",
       "RF           0.7061856 0.7525773 0.7726083 0.7714262 0.7925258 0.8350515    0\n",
       "RF_scaled    0.7422680 0.7783505 0.8113749 0.8028813 0.8234536 0.8556701    0\n",
       "SVM          0.7680412 0.8240612 0.8324742 0.8375311 0.8556701 0.8969072    0\n",
       "GBM          0.7783505 0.8188865 0.8350515 0.8357924 0.8589952 0.8917526    0\n",
       "GBM_2        0.7577320 0.8188865 0.8350515 0.8353752 0.8582474 0.8865979    0\n",
       "ADA          0.7319588 0.8041237 0.8298969 0.8231975 0.8453608 0.8917526    0\n"
      ]
     },
     "metadata": {},
     "output_type": "display_data"
    }
   ],
   "source": [
    "resamps2 <- resamples(list(CART = cart_fit,\n",
    "                           CART_scaled = cart_fit_scaled,\n",
    "                           Lasso = lasso_fit,\n",
    "                           Lasso_scaled = lasso_fit_scaled,                           \n",
    "                           ElasticNet = elas_fit,\n",
    "                           RF = rf_fit,\n",
    "                           RF_scaled = rf_fit_scaled,\n",
    "                           SVM = svm_fit,\n",
    "                           GBM = gbm_fit,\n",
    "                           GBM_2 = gbm_fit2,\n",
    "                           ADA = ada_fit3\n",
    "                          ))\n",
    "summary(resamps2)"
   ]
  },
  {
   "cell_type": "code",
   "execution_count": 114,
   "id": "960d3b60",
   "metadata": {},
   "outputs": [
    {
     "data": {
      "image/png": "[encoded data removed]",
      "text/plain": [
       "plot without title"
      ]
     },
     "metadata": {},
     "output_type": "display_data"
    }
   ],
   "source": [
    "bwplot(resamps2)"
   ]
  },
  {
   "cell_type": "markdown",
   "id": "bfe032c2",
   "metadata": {},
   "source": [
    "Comparing results, we see taht GBM results are relatively better. Also comparing variances, GBM results are acceptable."
   ]
  },
  {
   "cell_type": "markdown",
   "id": "c47075bf",
   "metadata": {},
   "source": [
    "## Test\n",
    "Using selected model, get predictions for test data"
   ]
  },
  {
   "cell_type": "code",
   "execution_count": 122,
   "id": "fb3f20b3",
   "metadata": {},
   "outputs": [],
   "source": [
    "test = fread(\"test_feature.csv\", encoding = \"UTF-8\")"
   ]
  },
  {
   "cell_type": "code",
   "execution_count": 123,
   "id": "c5a9b309",
   "metadata": {},
   "outputs": [],
   "source": [
    "cols_test = c('brand_gender', 'cat_gender', 'fav_product_gender', 'wDay_basket',\n",
    "              'wDay_favorite', 'wDay_order', 'wDay_search', 'wDay_visit', 'daytime_basket',\n",
    "              'daytime_favorite', 'daytime_order', 'daytime_search', 'daytime_visit')"
   ]
  },
  {
   "cell_type": "code",
   "execution_count": 124,
   "id": "c874d33a",
   "metadata": {
    "scrolled": true
   },
   "outputs": [],
   "source": [
    "test[,(cols_test):=lapply(.SD, as.factor),.SDcols=cols_test]"
   ]
  },
  {
   "cell_type": "code",
   "execution_count": 125,
   "id": "09befef0",
   "metadata": {},
   "outputs": [],
   "source": [
    "probs = round(predict(gbm_fit2, test[, -c(\"unique_id\")], type=\"prob\")[,\"F\"],3)"
   ]
  },
  {
   "cell_type": "code",
   "execution_count": 126,
   "id": "23ca9a37",
   "metadata": {},
   "outputs": [],
   "source": [
    "vectStr=paste(as.character(probs), sep=\"' '\", collapse=\",\")\n",
    "fileConn<-file(\"predictions/gbm_fit_v9.txt\")\n",
    "writeLines(vectStr, fileConn)\n",
    "close(fileConn)"
   ]
  },
  {
   "cell_type": "markdown",
   "id": "ece91b73",
   "metadata": {},
   "source": [
    "Token = 38b81b2c-d4ba-49fe-a9aa-79f884fd28c6"
   ]
  },
  {
   "cell_type": "code",
   "execution_count": null,
   "id": "546e51b6",
   "metadata": {},
   "outputs": [],
   "source": []
  }
 ],
 "metadata": {
  "kernelspec": {
   "display_name": "R",
   "language": "R",
   "name": "ir"
  },
  "language_info": {
   "codemirror_mode": "r",
   "file_extension": ".r",
   "mimetype": "text/x-r-source",
   "name": "R",
   "pygments_lexer": "r",
   "version": "3.6.1"
  }
 },
 "nbformat": 4,
 "nbformat_minor": 5
}
